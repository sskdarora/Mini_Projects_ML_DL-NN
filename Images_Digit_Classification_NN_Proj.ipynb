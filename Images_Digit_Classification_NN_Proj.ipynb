{
  "nbformat": 4,
  "nbformat_minor": 0,
  "metadata": {
    "colab": {
      "name": "Images_Digit_Classification_NN_Proj.ipynb",
      "provenance": [],
      "collapsed_sections": [],
      "toc_visible": true,
      "authorship_tag": "ABX9TyP2QnaIFsOdW8WYXIGGA+An",
      "include_colab_link": true
    },
    "kernelspec": {
      "name": "python3",
      "display_name": "Python 3"
    }
  },
  "cells": [
    {
      "cell_type": "markdown",
      "metadata": {
        "id": "view-in-github",
        "colab_type": "text"
      },
      "source": [
        "<a href=\"Images_Digit_Classification_NN_Proj.ipynb\" target=\"_parent\"><img src=\"https://colab.research.google.com/assets/colab-badge.svg\" alt=\"Open In Colab\"/></a>"
      ]
    },
    {
      "cell_type": "code",
      "metadata": {
        "id": "dFmsswehd5za",
        "colab_type": "code",
        "colab": {
          "base_uri": "https://localhost:8080/",
          "height": 34
        },
        "outputId": "2c23084e-19fa-4839-b534-6cef0942f404"
      },
      "source": [
        "#Import Drive from Google Colab \n",
        "\n",
        "from google.colab import drive \n",
        "drive.mount('/content/drive')"
      ],
      "execution_count": 84,
      "outputs": [
        {
          "output_type": "stream",
          "text": [
            "Drive already mounted at /content/drive; to attempt to forcibly remount, call drive.mount(\"/content/drive\", force_remount=True).\n"
          ],
          "name": "stdout"
        }
      ]
    },
    {
      "cell_type": "code",
      "metadata": {
        "id": "wC2XjTPfeFIG",
        "colab_type": "code",
        "colab": {}
      },
      "source": [
        "%tensorflow_version 2.x\n",
        "\n",
        "# Importing necessary library modules\n",
        "import h5py\n",
        "import numpy as np\n",
        "import pandas as pd\n",
        "import tensorflow as tf\n",
        "import keras\n",
        "\n",
        "from keras import optimizers\n",
        "from keras.datasets import mnist\n",
        "from keras.models import Sequential\n",
        "from keras.utils.np_utils import to_categorical\n",
        "from keras.layers import Conv2D, MaxPooling2D, Flatten\n",
        "from keras.layers import Activation, BatchNormalization\n",
        "from keras.layers import Dense, Dropout\n",
        "\n",
        "import matplotlib.pyplot as plt\n",
        "#To enable plotting graphs in Jupyter notebook\n",
        "%matplotlib inline\n",
        "\n",
        "from sklearn.metrics import classification_report, precision_score, f1_score, precision_recall_curve\n",
        "from sklearn.metrics import accuracy_score, confusion_matrix, recall_score, auc, precision_recall_fscore_support\n",
        "from sklearn.neighbors import KNeighborsClassifier"
      ],
      "execution_count": 0,
      "outputs": []
    },
    {
      "cell_type": "markdown",
      "metadata": {
        "id": "n5vtDBqVqXHL",
        "colab_type": "text"
      },
      "source": [
        "Loading the dataset using h5 file"
      ]
    },
    {
      "cell_type": "code",
      "metadata": {
        "id": "ubXfp4ixlPRS",
        "colab_type": "code",
        "colab": {}
      },
      "source": [
        "# Load SVHN dataset from a h5 file\n",
        "# Open the file as readonly. \n",
        "\n",
        "h5f = h5py.File('/content/drive/My Drive/Dataset/SVHN_single_grey1.h5', 'r')"
      ],
      "execution_count": 0,
      "outputs": []
    },
    {
      "cell_type": "code",
      "metadata": {
        "id": "6lKTeb_4qFFe",
        "colab_type": "code",
        "colab": {}
      },
      "source": [
        "# Load the training, test and validation data\n",
        "X_train=h5f['X_train'][:]\n",
        "X_test=h5f['X_test'][:]\n",
        "X_val=h5f['X_val'][:]\n",
        "y_train=h5f['y_train'][:]\n",
        "y_test=h5f['y_test'][:]\n",
        "y_val=h5f['y_val'][:]\n",
        "\n",
        "# Close this file\n",
        "h5f.close()"
      ],
      "execution_count": 0,
      "outputs": []
    },
    {
      "cell_type": "code",
      "metadata": {
        "id": "J0BV-_RlqLjm",
        "colab_type": "code",
        "colab": {
          "base_uri": "https://localhost:8080/",
          "height": 151
        },
        "outputId": "2df23c13-32de-4118-f2b3-a87938e5e803"
      },
      "source": [
        "# Printing the shape and data type of training, testing, and validation data\n",
        "print(\"Training data X-- Shape    :\", X_train.shape,\"Data Type  : \", X_train.dtype)\n",
        "print(\"Training data y-- Shape    :\", y_train.shape,\"       Data Type  : \", y_train.dtype)\n",
        "print(\"Testing data X-- Shape     :\", X_test.shape,\"Data Type  : \"  , X_test.dtype)\n",
        "print(\"Testing data y-- Shape     :\", y_test.shape,\"       Data Type  : \"  , y_test.dtype)\n",
        "print(\"Validation data X-- Shape  :\", X_val.shape,\"Data Type  : \", X_val.dtype)\n",
        "print(\"Validation data y-- Shape  :\", y_val.shape,\"       Data Type  : \", y_val.dtype)\n",
        "print('\\n')"
      ],
      "execution_count": 88,
      "outputs": [
        {
          "output_type": "stream",
          "text": [
            "Training data X-- Shape    : (42000, 32, 32) Data Type  :  float32\n",
            "Training data y-- Shape    : (42000,)        Data Type  :  uint8\n",
            "Testing data X-- Shape     : (18000, 32, 32) Data Type  :  float32\n",
            "Testing data y-- Shape     : (18000,)        Data Type  :  uint8\n",
            "Validation data X-- Shape  : (60000, 32, 32) Data Type  :  float32\n",
            "Validation data y-- Shape  : (60000,)        Data Type  :  uint8\n",
            "\n",
            "\n"
          ],
          "name": "stdout"
        }
      ]
    },
    {
      "cell_type": "markdown",
      "metadata": {
        "id": "GOo3O4vnqQTB",
        "colab_type": "text"
      },
      "source": [
        "# Visualizing the dataset"
      ]
    },
    {
      "cell_type": "code",
      "metadata": {
        "id": "HeFIIp6zqTg8",
        "colab_type": "code",
        "colab": {
          "base_uri": "https://localhost:8080/",
          "height": 486
        },
        "outputId": "e1b199e0-7432-4519-9508-dab7fa5752c0"
      },
      "source": [
        "# Preparing plot to visualize data \n",
        "\n",
        "fig=plt.figure(figsize=(8, 8))\n",
        "\n",
        "columns = 10\n",
        "rows = 10\n",
        "\n",
        "for i in range(1, columns*rows +1):\n",
        "    img = X_test[i]\n",
        "    fig.add_subplot(rows, columns, i)\n",
        "    plt.imshow(img)\n",
        "plt.show()"
      ],
      "execution_count": 89,
      "outputs": [
        {
          "output_type": "display_data",
          "data": {
            "image/png": "[encoded data removed]",
            "text/plain": [
              "<Figure size 576x576 with 100 Axes>"
            ]
          },
          "metadata": {
            "tags": [],
            "needs_background": "light"
          }
        }
      ]
    },
    {
      "cell_type": "code",
      "metadata": {
        "id": "IdWbvXNsq25f",
        "colab_type": "code",
        "colab": {
          "base_uri": "https://localhost:8080/",
          "height": 549
        },
        "outputId": "7181efcd-c935-4751-f7dd-c3c9a649a1a1"
      },
      "source": [
        " #Show first image in the training set.\n",
        "\n",
        "plt.imshow(X_train[0])   \n",
        "plt.show()\n",
        "print('Label: ', y_train[0])\n",
        "\n",
        "#Show first image in the validation set.\n",
        "\n",
        "plt.imshow(X_test[0])    \n",
        "plt.show()\n",
        "print('Label: ', y_test[0])"
      ],
      "execution_count": 90,
      "outputs": [
        {
          "output_type": "display_data",
          "data": {
            "image/png": "[encoded data removed]",
            "text/plain": [
              "<Figure size 432x288 with 1 Axes>"
            ]
          },
          "metadata": {
            "tags": [],
            "needs_background": "light"
          }
        },
        {
          "output_type": "stream",
          "text": [
            "Label:  2\n"
          ],
          "name": "stdout"
        },
        {
          "output_type": "display_data",
          "data": {
            "image/png": "[encoded data removed]",
            "text/plain": [
              "<Figure size 432x288 with 1 Axes>"
            ]
          },
          "metadata": {
            "tags": [],
            "needs_background": "light"
          }
        },
        {
          "output_type": "stream",
          "text": [
            "Label:  1\n"
          ],
          "name": "stdout"
        }
      ]
    },
    {
      "cell_type": "code",
      "metadata": {
        "id": "Z34JTZCCrF0e",
        "colab_type": "code",
        "colab": {
          "base_uri": "https://localhost:8080/",
          "height": 95
        },
        "outputId": "ca469756-78a1-4c07-d152-289344ef5ef6"
      },
      "source": [
        "# visualizing the first 10 images in the dataset with labels\n",
        "\n",
        "plt.figure(figsize=(10, 1))\n",
        "for i in range(10):\n",
        "    plt.subplot(1, 10, i+1)\n",
        "    plt.imshow(X_train[i].reshape(32,32),cmap='gray')\n",
        "    plt.axis('off')\n",
        "plt.show()\n",
        "print('label for each of the above image: %s' % (y_train[0:10]))"
      ],
      "execution_count": 91,
      "outputs": [
        {
          "output_type": "display_data",
          "data": {
            "image/png": "[encoded data removed]",
            "text/plain": [
              "<Figure size 720x72 with 10 Axes>"
            ]
          },
          "metadata": {
            "tags": [],
            "needs_background": "light"
          }
        },
        {
          "output_type": "stream",
          "text": [
            "label for each of the above image: [2 6 7 4 4 0 3 0 7 3]\n"
          ],
          "name": "stdout"
        }
      ]
    },
    {
      "cell_type": "markdown",
      "metadata": {
        "id": "WaSOVFwCrRVK",
        "colab_type": "text"
      },
      "source": [
        "# Implementing Classifier"
      ]
    },
    {
      "cell_type": "code",
      "metadata": {
        "id": "rD_Y3YDxrXbs",
        "colab_type": "code",
        "colab": {
          "base_uri": "https://localhost:8080/",
          "height": 1000
        },
        "outputId": "d821b50b-76fe-4681-9319-5660aea86377"
      },
      "source": [
        "# Normalize the data from 0-255 to 0-1 by dividing the inputs by 255. \n",
        "\n",
        "X_train = X_train / 255\n",
        "X_test = X_test / 255\n",
        "X_val = X_val /255\n",
        "\n",
        "print('\\nTrain set:\\n', X_train, '\\n\\nTest set:\\n', X_test,'\\n\\nValidation set:\\n',X_val)"
      ],
      "execution_count": 92,
      "outputs": [
        {
          "output_type": "stream",
          "text": [
            "\n",
            "Train set:\n",
            " [[[0.12968785 0.11866706 0.10530196 ... 0.2801847  0.2283153  0.16860352]\n",
            "  [0.09893451 0.10020902 0.1175549  ... 0.4432192  0.40534863 0.33056822]\n",
            "  [0.10304902 0.08868118 0.15873058 ... 0.44432473 0.47754902 0.45263842]\n",
            "  ...\n",
            "  [0.11196157 0.14200786 0.17678471 ... 0.09465059 0.09840274 0.10219726]\n",
            "  [0.15072627 0.10381687 0.09126157 ... 0.11023294 0.11556196 0.11790627]\n",
            "  [0.19724864 0.10226392 0.0942702  ... 0.19477727 0.19942354 0.20799099]]\n",
            "\n",
            " [[0.34101608 0.3414451  0.34656274 ... 0.3600055  0.35195178 0.3628635 ]\n",
            "  [0.33995295 0.340829   0.34287727 ... 0.35580626 0.3419765  0.34730548]\n",
            "  [0.33711922 0.33652744 0.33695647 ... 0.25044155 0.23458785 0.21521765]\n",
            "  ...\n",
            "  [0.35381806 0.35703844 0.3665243  ... 0.21707255 0.19051842 0.17276745]\n",
            "  [0.35546157 0.3545251  0.35661566 ... 0.3069396  0.30391255 0.29125488]\n",
            "  [0.34519058 0.34587333 0.3398859  ... 0.29498273 0.30054745 0.31092745]]\n",
            "\n",
            " [[0.48284313 0.49356118 0.47872823 ... 0.48460665 0.4867396  0.4835859 ]\n",
            "  [0.47516978 0.48678195 0.46063256 ... 0.45336393 0.468922   0.48168862]\n",
            "  [0.4886792  0.4749094  0.43004823 ... 0.43599334 0.4697737  0.48925292]\n",
            "  ...\n",
            "  [0.52995723 0.49948195 0.46178037 ... 0.37290943 0.4140851  0.4506992 ]\n",
            "  [0.52878505 0.51746863 0.48643723 ... 0.36809412 0.41295528 0.4514243 ]\n",
            "  [0.52878505 0.51791567 0.5032941  ... 0.36837214 0.41093138 0.44637334]]\n",
            "\n",
            " ...\n",
            "\n",
            " [[0.6042902  0.61100274 0.6149663  ... 0.54483217 0.5339628  0.5217522 ]\n",
            "  [0.5714706  0.5781832  0.5883698  ... 0.57038313 0.5528435  0.53711647]\n",
            "  [0.56844354 0.56799644 0.56411767 ... 0.5618157  0.5618157  0.574431  ]\n",
            "  ...\n",
            "  [0.5891125  0.5914145  0.5886655  ... 0.37968904 0.38009372 0.38126588]\n",
            "  [0.59465295 0.5969549  0.5925867  ... 0.4740753  0.47799647 0.48304746]\n",
            "  [0.5748114  0.5801404  0.5801404  ... 0.52993256 0.53592    0.5398412 ]]\n",
            "\n",
            " [[0.8137075  0.8176286  0.8353796  ... 0.8240631  0.81735057 0.7977871 ]\n",
            "  [0.8019439  0.8141545  0.83768153 ... 0.8212718  0.81504864 0.79431295]\n",
            "  [0.8012611  0.81694585 0.83493257 ... 0.81969494 0.8122996  0.7899447 ]\n",
            "  ...\n",
            "  [0.7809302  0.7924823  0.81353843 ... 0.8346969  0.8307757  0.8217612 ]\n",
            "  [0.7887725  0.7906275  0.804971   ... 0.8390651  0.8374459  0.820142  ]\n",
            "  [0.79572076 0.79572076 0.8114055  ... 0.83974785 0.8319055  0.820142  ]]\n",
            "\n",
            " [[0.37285647 0.37677765 0.39246237 ... 0.48139253 0.48183963 0.48183963]\n",
            "  [0.37285647 0.37677765 0.39246237 ... 0.48183963 0.48228666 0.48228666]\n",
            "  [0.37285647 0.37677765 0.39638352 ... 0.49635217 0.49797136 0.49797136]\n",
            "  ...\n",
            "  [0.3875804  0.39150158 0.40718627 ... 0.50939685 0.5172392  0.5172392 ]\n",
            "  [0.3875804  0.39150158 0.40718627 ... 0.533649   0.5419384  0.5419384 ]\n",
            "  [0.3875804  0.39150158 0.40718627 ... 0.5414914  0.5509529  0.5509529 ]]] \n",
            "\n",
            "Test set:\n",
            " [[[0.15905097 0.18349686 0.19206432 ... 0.43966785 0.44309962 0.43986115]\n",
            "  [0.15465844 0.17369059 0.18500705 ... 0.43534195 0.43508825 0.4311247 ]\n",
            "  [0.1507796  0.1711349  0.19101882 ... 0.4309494  0.43114275 0.42786196]\n",
            "  ...\n",
            "  [0.13720353 0.13910078 0.15555921 ... 0.42827842 0.4310094  0.44209644]\n",
            "  [0.13984391 0.13939686 0.15811491 ... 0.43529335 0.43940786 0.4484043 ]\n",
            "  [0.1419102  0.13890745 0.15960705 ... 0.43143883 0.4360851  0.44780627]]\n",
            "\n",
            " [[0.45161137 0.44769022 0.44376904 ... 0.4393341  0.44184744 0.4422945 ]\n",
            "  [0.4336247  0.43245253 0.42735922 ... 0.4162541  0.41876745 0.41966158]\n",
            "  [0.40314943 0.40197727 0.39918587 ... 0.37559217 0.37463138 0.3750784 ]\n",
            "  ...\n",
            "  [0.6660616  0.6690886  0.6580502  ... 0.17714038 0.21841843 0.24631374]\n",
            "  [0.6185604  0.61811334 0.6031537  ... 0.16844627 0.19678862 0.22031568]\n",
            "  [0.5894929  0.58512473 0.5678631  ... 0.1652502  0.18922432 0.20883021]]\n",
            "\n",
            " [[0.52256864 0.52834475 0.53456783 ... 0.4067639  0.39544746 0.39455333]\n",
            "  [0.5264898  0.53271294 0.5424102  ... 0.45959413 0.4478306  0.44738352]\n",
            "  [0.53433216 0.53316    0.5389361  ... 0.49746472 0.4852541  0.48408198]\n",
            "  ...\n",
            "  [0.53103375 0.5234694  0.51473296 ... 0.50609887 0.51624316 0.5233604 ]\n",
            "  [0.50744003 0.50496906 0.50132585 ... 0.5042439  0.50699294 0.50974196]\n",
            "  [0.4669894  0.47398    0.48254743 ... 0.50266707 0.5012169  0.5027937 ]]\n",
            "\n",
            " ...\n",
            "\n",
            " [[0.6517247  0.64594865 0.6385533  ... 0.36447608 0.38173765 0.3840396 ]\n",
            "  [0.6455016  0.64202744 0.6358043  ... 0.36492312 0.38173765 0.38056546]\n",
            "  [0.63491017 0.63491017 0.63188314 ... 0.36929137 0.38263175 0.38101256]\n",
            "  ...\n",
            "  [0.2943839  0.3326349  0.37985805 ... 0.6427525  0.6423055  0.64185846]\n",
            "  [0.31791097 0.34233215 0.36837253 ... 0.6392785  0.6383843  0.63793725]\n",
            "  [0.34009686 0.3508996  0.3640043  ... 0.6388313  0.6383843  0.63793725]]\n",
            "\n",
            " [[0.5395208  0.5360466  0.5286514  ... 0.43584198 0.42868236 0.42358902]\n",
            "  [0.5159937  0.5125196  0.5016502  ... 0.42015725 0.41389176 0.40879843]\n",
            "  [0.46983373 0.46591255 0.45112196 ... 0.39707726 0.39125884 0.38778472]\n",
            "  ...\n",
            "  [0.5098973  0.5059761  0.49073842 ... 0.55441374 0.55441374 0.5504925 ]\n",
            "  [0.525582   0.525582   0.52210784 ... 0.5666243  0.5622561  0.5583349 ]\n",
            "  [0.53342426 0.53734547 0.5417137  ... 0.56779647 0.5599541  0.55603296]]\n",
            "\n",
            " [[0.11836078 0.11836078 0.11836078 ... 0.16125804 0.16517922 0.16792823]\n",
            "  [0.11836078 0.11836078 0.11605882 ... 0.15733686 0.16125804 0.16400705]\n",
            "  [0.11723098 0.11723098 0.1133098  ... 0.15341568 0.15733686 0.15733686]\n",
            "  ...\n",
            "  [0.12526706 0.12526706 0.12526706 ... 0.2019443  0.19964235 0.19572118]\n",
            "  [0.12224    0.12224    0.12571411 ... 0.15789294 0.15672077 0.15397176]\n",
            "  [0.12224    0.12224    0.12616117 ... 0.13760431 0.1359851  0.13368313]]] \n",
            "\n",
            "Validation set:\n",
            " [[[0.17372157 0.18039177 0.20129648 ... 0.09912314 0.10790196 0.10649412]\n",
            "  [0.19268668 0.23650236 0.274989   ... 0.09294195 0.09897177 0.09526196]\n",
            "  [0.23827255 0.3282906  0.40076903 ... 0.09609569 0.09792628 0.08961255]\n",
            "  ...\n",
            "  [0.2631655  0.36567214 0.42824197 ... 0.10448784 0.09647647 0.09004196]\n",
            "  [0.09708589 0.14369294 0.19179255 ... 0.08598745 0.0844349  0.08450156]\n",
            "  [0.08885647 0.08930353 0.10692784 ... 0.0840902  0.08164353 0.07874981]]\n",
            "\n",
            " [[0.2595059  0.25991058 0.26496157 ... 0.2476647  0.32029453 0.40630704]\n",
            "  [0.27389178 0.26555997 0.2601886  ... 0.21921332 0.27409217 0.3663702 ]\n",
            "  [0.26607412 0.26530665 0.2599353  ... 0.2248804  0.2758804  0.3637902 ]\n",
            "  ...\n",
            "  [0.2776443  0.25396588 0.24569412 ... 0.27856275 0.37203726 0.4482502 ]\n",
            "  [0.26788002 0.25276902 0.24824941 ... 0.27856275 0.37018237 0.4491443 ]\n",
            "  [0.25850272 0.25794667 0.2599706  ... 0.27973488 0.37018237 0.44869727]]\n",
            "\n",
            " [[0.4323859  0.41972825 0.41143882 ... 0.34535256 0.3391294  0.33610237]\n",
            "  [0.42571568 0.40728197 0.40246665 ... 0.38456434 0.38064316 0.37834117]\n",
            "  [0.40890115 0.38884825 0.38565215 ... 0.41593373 0.41755292 0.42264628]\n",
            "  ...\n",
            "  [0.41062942 0.39818314 0.39285412 ... 0.4784369  0.45765883 0.43530393]\n",
            "  [0.43505058 0.42490625 0.42535335 ... 0.4102     0.3972643  0.3815796 ]\n",
            "  [0.4581306  0.45303723 0.4534843  ... 0.40005568 0.3922133  0.38829216]]\n",
            "\n",
            " ...\n",
            "\n",
            " [[0.16611569 0.1610647  0.16130039 ... 0.2478196  0.2466898  0.2511004 ]\n",
            "  [0.16611569 0.16890706 0.16801295 ... 0.19874157 0.20359921 0.20869254]\n",
            "  [0.17003687 0.17395803 0.17306393 ... 0.18540119 0.18819256 0.19300784]\n",
            "  ...\n",
            "  [0.17623569 0.17555293 0.17510588 ... 0.16492549 0.16496783 0.16496783]\n",
            "  [0.17231451 0.17163177 0.17231451 ... 0.14738588 0.14973019 0.14536196]\n",
            "  [0.16862902 0.17231451 0.17231451 ... 0.13170119 0.13796666 0.13796666]]\n",
            "\n",
            " [[0.850962   0.84704083 0.83527726 ... 0.70311177 0.6978494  0.69000703]\n",
            "  [0.8579102  0.84614664 0.8498322  ... 0.6982965  0.70569175 0.6990216 ]\n",
            "  [0.8496208  0.84776586 0.8632149  ... 0.69740236 0.7043506  0.6884302 ]\n",
            "  ...\n",
            "  [0.70752233 0.69850785 0.702429   ... 0.70792705 0.71140116 0.69729334]\n",
            "  [0.7134675  0.69778275 0.702429   ... 0.7012145  0.7051357  0.689898  ]\n",
            "  [0.71738863 0.7056251  0.71257335 ... 0.7012145  0.7012145  0.689898  ]]\n",
            "\n",
            " [[0.45171645 0.44779527 0.45171645 ... 0.4574502  0.4583443  0.4539761 ]\n",
            "  [0.4544655  0.45054433 0.4544655  ... 0.4574502  0.45442313 0.46137136]\n",
            "  [0.4544655  0.4555953  0.4555953  ... 0.4574502  0.4622655  0.46181843]\n",
            "  ...\n",
            "  [0.30460235 0.25128275 0.25524628 ... 0.46169177 0.46258587 0.46371567]\n",
            "  [0.28589058 0.24736157 0.25916746 ... 0.4621388  0.46258587 0.46371567]\n",
            "  [0.26786157 0.24736157 0.26818195 ... 0.45866472 0.46258587 0.46371567]]]\n"
          ],
          "name": "stdout"
        }
      ]
    },
    {
      "cell_type": "code",
      "metadata": {
        "id": "H97U6JJXrede",
        "colab_type": "code",
        "colab": {
          "base_uri": "https://localhost:8080/",
          "height": 185
        },
        "outputId": "bd9e86c6-79c7-47b4-dbdc-ea4abaf12a4b"
      },
      "source": [
        "# Checking the proportion of each class in the target variable to ensure there is no imbalance for true values.\n",
        "\n",
        "for i in range(0,10):\n",
        "    print(\"Label: {0} | Value % = {1}\".format( i, (y_train[y_train == i].size / y_train.size)*100) )"
      ],
      "execution_count": 93,
      "outputs": [
        {
          "output_type": "stream",
          "text": [
            "Label: 0 | Value % = 9.966666666666667\n",
            "Label: 1 | Value % = 9.933333333333334\n",
            "Label: 2 | Value % = 9.992857142857142\n",
            "Label: 3 | Value % = 10.192857142857143\n",
            "Label: 4 | Value % = 9.971428571428572\n",
            "Label: 5 | Value % = 10.076190476190476\n",
            "Label: 6 | Value % = 9.923809523809524\n",
            "Label: 7 | Value % = 9.980952380952381\n",
            "Label: 8 | Value % = 9.971428571428572\n",
            "Label: 9 | Value % = 9.99047619047619\n"
          ],
          "name": "stdout"
        }
      ]
    },
    {
      "cell_type": "markdown",
      "metadata": {
        "id": "N4UR4pk9rwh_",
        "colab_type": "text"
      },
      "source": [
        "It is confirmed that the dataset is a balanced one."
      ]
    },
    {
      "cell_type": "code",
      "metadata": {
        "id": "8VHmdPFir0Wy",
        "colab_type": "code",
        "colab": {
          "base_uri": "https://localhost:8080/",
          "height": 50
        },
        "outputId": "779a288d-abf5-4c2a-fdbc-68ec7da7d4f6"
      },
      "source": [
        "print(X_train.shape,'\\n', X_test.shape)"
      ],
      "execution_count": 94,
      "outputs": [
        {
          "output_type": "stream",
          "text": [
            "(42000, 32, 32) \n",
            " (18000, 32, 32)\n"
          ],
          "name": "stdout"
        }
      ]
    },
    {
      "cell_type": "markdown",
      "metadata": {
        "id": "sgbuYc2Ar9Q7",
        "colab_type": "text"
      },
      "source": [
        "#Implementing Deep Neural Network"
      ]
    },
    {
      "cell_type": "code",
      "metadata": {
        "id": "7x65b4PcsD3u",
        "colab_type": "code",
        "colab": {
          "base_uri": "https://localhost:8080/",
          "height": 34
        },
        "outputId": "7251149d-90ac-49f0-a1eb-7e578eb8d325"
      },
      "source": [
        "# Converting output label to multiple values\n",
        "\n",
        "X_train = np.asarray(X_train).reshape(42000,1024)\n",
        "X_test = np.asarray(X_test).reshape(18000,1024)\n",
        "X_val = np.asarray(X_val).reshape(60000,1024)\n",
        "num_classes=10\n",
        "\n",
        "y_train = tf.keras.utils.to_categorical(y_train, num_classes)\n",
        "y_test = tf.keras.utils.to_categorical(y_test, num_classes)\n",
        "y_val = tf.keras.utils.to_categorical(y_val, num_classes)\n",
        "\n",
        "print(X_train.shape, X_test.shape,X_val.shape, y_train.shape, y_test.shape,y_val.shape)"
      ],
      "execution_count": 95,
      "outputs": [
        {
          "output_type": "stream",
          "text": [
            "(42000, 1024) (18000, 1024) (60000, 1024) (42000, 10) (18000, 10) (60000, 10)\n"
          ],
          "name": "stdout"
        }
      ]
    },
    {
      "cell_type": "code",
      "metadata": {
        "id": "o2113H3nsOmT",
        "colab_type": "code",
        "colab": {}
      },
      "source": [
        "# Initializing the Artificial Neural Network Classifier\n",
        "keras_model = Sequential()"
      ],
      "execution_count": 0,
      "outputs": []
    },
    {
      "cell_type": "code",
      "metadata": {
        "id": "wizbOeZOsX0y",
        "colab_type": "code",
        "colab": {}
      },
      "source": [
        "# Input Layer\n",
        "#Adding Input layer and activation functions ReLU\n",
        "\n",
        "keras_model.add(Dense(512, kernel_initializer='he_normal',input_shape = (1024, )))\n",
        "#Adding Activation function\n",
        "keras_model.add(Activation('relu'))\n",
        "\n",
        "#Hidden Layer 1\n",
        "#Adding first Hidden layer\n",
        "keras_model.add(Dense(256, kernel_initializer='he_normal'))\n",
        "#Adding Activation function\n",
        "keras_model.add(Activation('relu'))\n",
        "\n",
        "#Hidden Layer 2\n",
        "#Adding second Hidden layer\n",
        "keras_model.add(Dense(128, kernel_initializer='he_normal'))\n",
        "#Adding Activation function\n",
        "keras_model.add(Activation('relu'))\n",
        "\n",
        "#Hidden Layer 3\n",
        "#Adding third Hidden layer\n",
        "keras_model.add(Dense(64, kernel_initializer='he_normal'))\n",
        "#Adding Activation function\n",
        "keras_model.add(Activation('relu'))\n",
        "\n",
        "#Hidden Layer 4\n",
        "#Adding fourth Hidden layer\n",
        "keras_model.add(Dense(32, kernel_initializer='he_normal'))\n",
        "#Adding Activation function\n",
        "keras_model.add(Activation('relu'))\n",
        "\n",
        "# Output Layer\n",
        "#Adding output layer which is of 10 nodes (digits)\n",
        "keras_model.add(Dense(10))\n",
        "#Adding Activation function\n",
        "# Here, we are using softmax function because we have multiclass classsification\n",
        "keras_model.add(Activation('softmax'))"
      ],
      "execution_count": 0,
      "outputs": []
    },
    {
      "cell_type": "code",
      "metadata": {
        "id": "GdUrUq1Ishd4",
        "colab_type": "code",
        "colab": {
          "base_uri": "https://localhost:8080/",
          "height": 554
        },
        "outputId": "c4b549ba-66c6-49c5-d338-58f40a141270"
      },
      "source": [
        "keras_model.summary()"
      ],
      "execution_count": 98,
      "outputs": [
        {
          "output_type": "stream",
          "text": [
            "Model: \"sequential_11\"\n",
            "_________________________________________________________________\n",
            "Layer (type)                 Output Shape              Param #   \n",
            "=================================================================\n",
            "dense_98 (Dense)             (None, 512)               524800    \n",
            "_________________________________________________________________\n",
            "activation_97 (Activation)   (None, 512)               0         \n",
            "_________________________________________________________________\n",
            "dense_99 (Dense)             (None, 256)               131328    \n",
            "_________________________________________________________________\n",
            "activation_98 (Activation)   (None, 256)               0         \n",
            "_________________________________________________________________\n",
            "dense_100 (Dense)            (None, 128)               32896     \n",
            "_________________________________________________________________\n",
            "activation_99 (Activation)   (None, 128)               0         \n",
            "_________________________________________________________________\n",
            "dense_101 (Dense)            (None, 64)                8256      \n",
            "_________________________________________________________________\n",
            "activation_100 (Activation)  (None, 64)                0         \n",
            "_________________________________________________________________\n",
            "dense_102 (Dense)            (None, 32)                2080      \n",
            "_________________________________________________________________\n",
            "activation_101 (Activation)  (None, 32)                0         \n",
            "_________________________________________________________________\n",
            "dense_103 (Dense)            (None, 10)                330       \n",
            "_________________________________________________________________\n",
            "activation_102 (Activation)  (None, 10)                0         \n",
            "=================================================================\n",
            "Total params: 699,690\n",
            "Trainable params: 699,690\n",
            "Non-trainable params: 0\n",
            "_________________________________________________________________\n"
          ],
          "name": "stdout"
        }
      ]
    },
    {
      "cell_type": "code",
      "metadata": {
        "id": "0E7EEW9nsmJt",
        "colab_type": "code",
        "colab": {}
      },
      "source": [
        "# Using sgd optimizer and Categorical Crossentropy as loss function and Accuracy as the metric to monitor\n",
        "\n",
        "# compiling the ANN classifier\n",
        "keras_model.compile(optimizer = 'sgd', loss = 'categorical_crossentropy', metrics = ['accuracy'])"
      ],
      "execution_count": 0,
      "outputs": []
    },
    {
      "cell_type": "code",
      "metadata": {
        "id": "rTuVzxcqtu43",
        "colab_type": "code",
        "colab": {
          "base_uri": "https://localhost:8080/",
          "height": 370
        },
        "outputId": "2bea39ac-818f-466d-8fcb-29161e803d55"
      },
      "source": [
        "# Fitting the ANN to the Training data\n",
        "history = keras_model.fit(X_train, y_train, validation_data=(X_val,y_val),batch_size = 200, epochs = 10, verbose = 1)"
      ],
      "execution_count": 100,
      "outputs": [
        {
          "output_type": "stream",
          "text": [
            "Train on 42000 samples, validate on 60000 samples\n",
            "Epoch 1/10\n",
            "42000/42000 [==============================] - 6s 155us/step - loss: 2.2848 - accuracy: 0.1455 - val_loss: 2.2557 - val_accuracy: 0.1929\n",
            "Epoch 2/10\n",
            "42000/42000 [==============================] - 6s 141us/step - loss: 2.2273 - accuracy: 0.2175 - val_loss: 2.1871 - val_accuracy: 0.2535\n",
            "Epoch 3/10\n",
            "42000/42000 [==============================] - 6s 141us/step - loss: 2.1420 - accuracy: 0.2656 - val_loss: 2.0934 - val_accuracy: 0.2914\n",
            "Epoch 4/10\n",
            "42000/42000 [==============================] - 6s 143us/step - loss: 2.0201 - accuracy: 0.3170 - val_loss: 1.9222 - val_accuracy: 0.3584\n",
            "Epoch 5/10\n",
            "42000/42000 [==============================] - 6s 142us/step - loss: 1.8840 - accuracy: 0.3588 - val_loss: 1.8535 - val_accuracy: 0.3453\n",
            "Epoch 6/10\n",
            "42000/42000 [==============================] - 6s 142us/step - loss: 1.7739 - accuracy: 0.3964 - val_loss: 1.7657 - val_accuracy: 0.3941\n",
            "Epoch 7/10\n",
            "42000/42000 [==============================] - 6s 139us/step - loss: 1.6657 - accuracy: 0.4341 - val_loss: 1.6180 - val_accuracy: 0.4523\n",
            "Epoch 8/10\n",
            "42000/42000 [==============================] - 6s 144us/step - loss: 1.5845 - accuracy: 0.4645 - val_loss: 1.4474 - val_accuracy: 0.5333\n",
            "Epoch 9/10\n",
            "42000/42000 [==============================] - 6s 145us/step - loss: 1.4973 - accuracy: 0.5017 - val_loss: 1.4990 - val_accuracy: 0.4879\n",
            "Epoch 10/10\n",
            "42000/42000 [==============================] - 6s 143us/step - loss: 1.4289 - accuracy: 0.5279 - val_loss: 1.4748 - val_accuracy: 0.5092\n"
          ],
          "name": "stdout"
        }
      ]
    },
    {
      "cell_type": "code",
      "metadata": {
        "id": "223B1swMNegZ",
        "colab_type": "code",
        "colab": {}
      },
      "source": [
        "# Using adam optimizer and Categorical Crossentropy as loss function and Accuracy as the metric to monitor\n",
        "\n",
        "# compiling the ANN classifier\n",
        "keras_model.compile(optimizer = 'adam', loss = 'categorical_crossentropy', metrics = ['accuracy'])"
      ],
      "execution_count": 0,
      "outputs": []
    },
    {
      "cell_type": "code",
      "metadata": {
        "id": "AhmWHriTNmge",
        "colab_type": "code",
        "colab": {
          "base_uri": "https://localhost:8080/",
          "height": 370
        },
        "outputId": "ff4ff687-a450-45c9-a509-7e8a79d14871"
      },
      "source": [
        "# Fitting the ANN to the Training data\n",
        "history = keras_model.fit(X_train, y_train, validation_data=(X_val,y_val),batch_size = 200, epochs = 10, verbose = 1)"
      ],
      "execution_count": 102,
      "outputs": [
        {
          "output_type": "stream",
          "text": [
            "Train on 42000 samples, validate on 60000 samples\n",
            "Epoch 1/10\n",
            "42000/42000 [==============================] - 7s 164us/step - loss: 1.6533 - accuracy: 0.4520 - val_loss: 1.2671 - val_accuracy: 0.5870\n",
            "Epoch 2/10\n",
            "42000/42000 [==============================] - 7s 156us/step - loss: 1.2610 - accuracy: 0.5903 - val_loss: 1.1610 - val_accuracy: 0.6249\n",
            "Epoch 3/10\n",
            "42000/42000 [==============================] - 7s 158us/step - loss: 1.1502 - accuracy: 0.6313 - val_loss: 1.0625 - val_accuracy: 0.6651\n",
            "Epoch 4/10\n",
            "42000/42000 [==============================] - 7s 157us/step - loss: 1.0597 - accuracy: 0.6641 - val_loss: 0.9753 - val_accuracy: 0.6985\n",
            "Epoch 5/10\n",
            "42000/42000 [==============================] - 7s 159us/step - loss: 0.9584 - accuracy: 0.7002 - val_loss: 1.0095 - val_accuracy: 0.6793\n",
            "Epoch 6/10\n",
            "42000/42000 [==============================] - 7s 160us/step - loss: 0.9260 - accuracy: 0.7099 - val_loss: 0.9209 - val_accuracy: 0.7109\n",
            "Epoch 7/10\n",
            "42000/42000 [==============================] - 6s 155us/step - loss: 0.8734 - accuracy: 0.7251 - val_loss: 0.8302 - val_accuracy: 0.7417\n",
            "Epoch 8/10\n",
            "42000/42000 [==============================] - 7s 159us/step - loss: 0.8177 - accuracy: 0.7442 - val_loss: 0.7769 - val_accuracy: 0.7582\n",
            "Epoch 9/10\n",
            "42000/42000 [==============================] - 7s 157us/step - loss: 0.7865 - accuracy: 0.7547 - val_loss: 0.7512 - val_accuracy: 0.7686\n",
            "Epoch 10/10\n",
            "42000/42000 [==============================] - 7s 158us/step - loss: 0.7393 - accuracy: 0.7683 - val_loss: 0.7651 - val_accuracy: 0.7624\n"
          ],
          "name": "stdout"
        }
      ]
    },
    {
      "cell_type": "markdown",
      "metadata": {
        "id": "T7WZDP-9OAfT",
        "colab_type": "text"
      },
      "source": [
        "- The accuracy of the model on val data increases to around 77% using adam or sgd optimiser"
      ]
    },
    {
      "cell_type": "markdown",
      "metadata": {
        "id": "KLIaENsdOK0h",
        "colab_type": "text"
      },
      "source": [
        "#Lets try to change the learning rate in SGD optimizer. Also, Increasing epoch because we will use small learning rate means mode will learn slow."
      ]
    },
    {
      "cell_type": "code",
      "metadata": {
        "id": "-YFsRV6OOnpx",
        "colab_type": "code",
        "colab": {
          "base_uri": "https://localhost:8080/",
          "height": 1000
        },
        "outputId": "17c0b0a4-dcc6-438b-9052-c2823bc2d6eb"
      },
      "source": [
        "#Setting the learning rate  and decay in sgd\n",
        "sgd = optimizers.sgd(lr = 0.0001)\n",
        "# compiling the ANN classifier\n",
        "keras_model.compile(optimizer = sgd, loss = 'categorical_crossentropy', metrics = ['accuracy'])\n",
        "# Fitting the ANN to the Training data\n",
        "history = keras_model.fit(X_train, y_train, validation_data=(X_val,y_val),batch_size = 200, epochs = 100, verbose = 1)"
      ],
      "execution_count": 103,
      "outputs": [
        {
          "output_type": "stream",
          "text": [
            "Train on 42000 samples, validate on 60000 samples\n",
            "Epoch 1/100\n",
            "42000/42000 [==============================] - 6s 140us/step - loss: 0.6896 - accuracy: 0.7864 - val_loss: 0.6877 - val_accuracy: 0.7910\n",
            "Epoch 2/100\n",
            "42000/42000 [==============================] - 6s 141us/step - loss: 0.6500 - accuracy: 0.8011 - val_loss: 0.6694 - val_accuracy: 0.7973\n",
            "Epoch 3/100\n",
            "42000/42000 [==============================] - 6s 140us/step - loss: 0.6373 - accuracy: 0.8056 - val_loss: 0.6611 - val_accuracy: 0.8001\n",
            "Epoch 4/100\n",
            "42000/42000 [==============================] - 6s 139us/step - loss: 0.6305 - accuracy: 0.8072 - val_loss: 0.6560 - val_accuracy: 0.8015\n",
            "Epoch 5/100\n",
            "42000/42000 [==============================] - 6s 137us/step - loss: 0.6260 - accuracy: 0.8084 - val_loss: 0.6524 - val_accuracy: 0.8027\n",
            "Epoch 6/100\n",
            "42000/42000 [==============================] - 6s 142us/step - loss: 0.6227 - accuracy: 0.8091 - val_loss: 0.6496 - val_accuracy: 0.8034\n",
            "Epoch 7/100\n",
            "42000/42000 [==============================] - 6s 144us/step - loss: 0.6201 - accuracy: 0.8098 - val_loss: 0.6474 - val_accuracy: 0.8037\n",
            "Epoch 8/100\n",
            "42000/42000 [==============================] - 6s 141us/step - loss: 0.6179 - accuracy: 0.8103 - val_loss: 0.6456 - val_accuracy: 0.8042\n",
            "Epoch 9/100\n",
            "42000/42000 [==============================] - 6s 143us/step - loss: 0.6161 - accuracy: 0.8110 - val_loss: 0.6439 - val_accuracy: 0.8051\n",
            "Epoch 10/100\n",
            "42000/42000 [==============================] - 6s 139us/step - loss: 0.6145 - accuracy: 0.8114 - val_loss: 0.6425 - val_accuracy: 0.8057\n",
            "Epoch 11/100\n",
            "42000/42000 [==============================] - 6s 140us/step - loss: 0.6130 - accuracy: 0.8120 - val_loss: 0.6412 - val_accuracy: 0.8062\n",
            "Epoch 12/100\n",
            "42000/42000 [==============================] - 6s 140us/step - loss: 0.6117 - accuracy: 0.8130 - val_loss: 0.6400 - val_accuracy: 0.8066\n",
            "Epoch 13/100\n",
            "42000/42000 [==============================] - 6s 139us/step - loss: 0.6106 - accuracy: 0.8137 - val_loss: 0.6390 - val_accuracy: 0.8067\n",
            "Epoch 14/100\n",
            "42000/42000 [==============================] - 6s 141us/step - loss: 0.6095 - accuracy: 0.8139 - val_loss: 0.6380 - val_accuracy: 0.8072\n",
            "Epoch 15/100\n",
            "42000/42000 [==============================] - 6s 142us/step - loss: 0.6085 - accuracy: 0.8142 - val_loss: 0.6371 - val_accuracy: 0.8074\n",
            "Epoch 16/100\n",
            "42000/42000 [==============================] - 6s 141us/step - loss: 0.6076 - accuracy: 0.8143 - val_loss: 0.6362 - val_accuracy: 0.8075\n",
            "Epoch 17/100\n",
            "42000/42000 [==============================] - 6s 137us/step - loss: 0.6068 - accuracy: 0.8145 - val_loss: 0.6355 - val_accuracy: 0.8077\n",
            "Epoch 18/100\n",
            "42000/42000 [==============================] - 6s 140us/step - loss: 0.6060 - accuracy: 0.8146 - val_loss: 0.6347 - val_accuracy: 0.8080\n",
            "Epoch 19/100\n",
            "42000/42000 [==============================] - 6s 141us/step - loss: 0.6053 - accuracy: 0.8148 - val_loss: 0.6341 - val_accuracy: 0.8081\n",
            "Epoch 20/100\n",
            "42000/42000 [==============================] - 6s 142us/step - loss: 0.6046 - accuracy: 0.8147 - val_loss: 0.6334 - val_accuracy: 0.8085\n",
            "Epoch 21/100\n",
            "42000/42000 [==============================] - 6s 138us/step - loss: 0.6040 - accuracy: 0.8150 - val_loss: 0.6328 - val_accuracy: 0.8086\n",
            "Epoch 22/100\n",
            "42000/42000 [==============================] - 6s 139us/step - loss: 0.6033 - accuracy: 0.8152 - val_loss: 0.6322 - val_accuracy: 0.8087\n",
            "Epoch 23/100\n",
            "42000/42000 [==============================] - 6s 140us/step - loss: 0.6027 - accuracy: 0.8155 - val_loss: 0.6317 - val_accuracy: 0.8091\n",
            "Epoch 24/100\n",
            "42000/42000 [==============================] - 6s 143us/step - loss: 0.6022 - accuracy: 0.8158 - val_loss: 0.6311 - val_accuracy: 0.8093\n",
            "Epoch 25/100\n",
            "42000/42000 [==============================] - 6s 142us/step - loss: 0.6016 - accuracy: 0.8155 - val_loss: 0.6307 - val_accuracy: 0.8094\n",
            "Epoch 26/100\n",
            "42000/42000 [==============================] - 6s 141us/step - loss: 0.6011 - accuracy: 0.8160 - val_loss: 0.6302 - val_accuracy: 0.8098\n",
            "Epoch 27/100\n",
            "42000/42000 [==============================] - 6s 139us/step - loss: 0.6006 - accuracy: 0.8164 - val_loss: 0.6297 - val_accuracy: 0.8100\n",
            "Epoch 28/100\n",
            "42000/42000 [==============================] - 6s 139us/step - loss: 0.6002 - accuracy: 0.8165 - val_loss: 0.6293 - val_accuracy: 0.8100\n",
            "Epoch 29/100\n",
            "42000/42000 [==============================] - 6s 144us/step - loss: 0.5997 - accuracy: 0.8167 - val_loss: 0.6289 - val_accuracy: 0.8103\n",
            "Epoch 30/100\n",
            "42000/42000 [==============================] - 6s 142us/step - loss: 0.5993 - accuracy: 0.8168 - val_loss: 0.6285 - val_accuracy: 0.8103\n",
            "Epoch 31/100\n",
            "42000/42000 [==============================] - 6s 142us/step - loss: 0.5989 - accuracy: 0.8169 - val_loss: 0.6280 - val_accuracy: 0.8105\n",
            "Epoch 32/100\n",
            "42000/42000 [==============================] - 6s 140us/step - loss: 0.5985 - accuracy: 0.8170 - val_loss: 0.6277 - val_accuracy: 0.8106\n",
            "Epoch 33/100\n",
            "42000/42000 [==============================] - 6s 145us/step - loss: 0.5981 - accuracy: 0.8170 - val_loss: 0.6273 - val_accuracy: 0.8108\n",
            "Epoch 34/100\n",
            "42000/42000 [==============================] - 10s 242us/step - loss: 0.5977 - accuracy: 0.8172 - val_loss: 0.6269 - val_accuracy: 0.8109\n",
            "Epoch 35/100\n",
            "42000/42000 [==============================] - 6s 138us/step - loss: 0.5973 - accuracy: 0.8174 - val_loss: 0.6266 - val_accuracy: 0.8110\n",
            "Epoch 36/100\n",
            "42000/42000 [==============================] - 6s 143us/step - loss: 0.5970 - accuracy: 0.8175 - val_loss: 0.6263 - val_accuracy: 0.8112\n",
            "Epoch 37/100\n",
            "42000/42000 [==============================] - 6s 148us/step - loss: 0.5966 - accuracy: 0.8177 - val_loss: 0.6260 - val_accuracy: 0.8111\n",
            "Epoch 38/100\n",
            "42000/42000 [==============================] - 6s 145us/step - loss: 0.5963 - accuracy: 0.8178 - val_loss: 0.6257 - val_accuracy: 0.8114\n",
            "Epoch 39/100\n",
            "42000/42000 [==============================] - 6s 141us/step - loss: 0.5959 - accuracy: 0.8176 - val_loss: 0.6254 - val_accuracy: 0.8116\n",
            "Epoch 40/100\n",
            "42000/42000 [==============================] - 6s 140us/step - loss: 0.5957 - accuracy: 0.8178 - val_loss: 0.6251 - val_accuracy: 0.8115\n",
            "Epoch 41/100\n",
            "42000/42000 [==============================] - 6s 142us/step - loss: 0.5953 - accuracy: 0.8181 - val_loss: 0.6248 - val_accuracy: 0.8115\n",
            "Epoch 42/100\n",
            "42000/42000 [==============================] - 6s 141us/step - loss: 0.5951 - accuracy: 0.8176 - val_loss: 0.6245 - val_accuracy: 0.8117\n",
            "Epoch 43/100\n",
            "42000/42000 [==============================] - 6s 142us/step - loss: 0.5948 - accuracy: 0.8185 - val_loss: 0.6242 - val_accuracy: 0.8118\n",
            "Epoch 44/100\n",
            "42000/42000 [==============================] - 6s 142us/step - loss: 0.5945 - accuracy: 0.8181 - val_loss: 0.6240 - val_accuracy: 0.8119\n",
            "Epoch 45/100\n",
            "42000/42000 [==============================] - 6s 140us/step - loss: 0.5942 - accuracy: 0.8185 - val_loss: 0.6237 - val_accuracy: 0.8119\n",
            "Epoch 46/100\n",
            "42000/42000 [==============================] - 6s 140us/step - loss: 0.5939 - accuracy: 0.8185 - val_loss: 0.6234 - val_accuracy: 0.8121\n",
            "Epoch 47/100\n",
            "42000/42000 [==============================] - 6s 142us/step - loss: 0.5937 - accuracy: 0.8183 - val_loss: 0.6232 - val_accuracy: 0.8121\n",
            "Epoch 48/100\n",
            "42000/42000 [==============================] - 6s 144us/step - loss: 0.5934 - accuracy: 0.8188 - val_loss: 0.6230 - val_accuracy: 0.8122\n",
            "Epoch 49/100\n",
            "42000/42000 [==============================] - 6s 144us/step - loss: 0.5932 - accuracy: 0.8187 - val_loss: 0.6227 - val_accuracy: 0.8122\n",
            "Epoch 50/100\n",
            "42000/42000 [==============================] - 6s 143us/step - loss: 0.5929 - accuracy: 0.8190 - val_loss: 0.6225 - val_accuracy: 0.8126\n",
            "Epoch 51/100\n",
            "42000/42000 [==============================] - 6s 138us/step - loss: 0.5927 - accuracy: 0.8192 - val_loss: 0.6223 - val_accuracy: 0.8125\n",
            "Epoch 52/100\n",
            "42000/42000 [==============================] - 6s 140us/step - loss: 0.5925 - accuracy: 0.8191 - val_loss: 0.6221 - val_accuracy: 0.8127\n",
            "Epoch 53/100\n",
            "42000/42000 [==============================] - 6s 140us/step - loss: 0.5922 - accuracy: 0.8191 - val_loss: 0.6219 - val_accuracy: 0.8128\n",
            "Epoch 54/100\n",
            "42000/42000 [==============================] - 6s 143us/step - loss: 0.5920 - accuracy: 0.8194 - val_loss: 0.6217 - val_accuracy: 0.8129\n",
            "Epoch 55/100\n",
            "42000/42000 [==============================] - 6s 142us/step - loss: 0.5918 - accuracy: 0.8193 - val_loss: 0.6214 - val_accuracy: 0.8127\n",
            "Epoch 56/100\n",
            "42000/42000 [==============================] - 6s 141us/step - loss: 0.5916 - accuracy: 0.8190 - val_loss: 0.6213 - val_accuracy: 0.8129\n",
            "Epoch 57/100\n",
            "42000/42000 [==============================] - 6s 142us/step - loss: 0.5914 - accuracy: 0.8193 - val_loss: 0.6211 - val_accuracy: 0.8130\n",
            "Epoch 58/100\n",
            "42000/42000 [==============================] - 6s 142us/step - loss: 0.5911 - accuracy: 0.8195 - val_loss: 0.6209 - val_accuracy: 0.8130\n",
            "Epoch 59/100\n",
            "42000/42000 [==============================] - 6s 145us/step - loss: 0.5909 - accuracy: 0.8195 - val_loss: 0.6207 - val_accuracy: 0.8132\n",
            "Epoch 60/100\n",
            "42000/42000 [==============================] - 6s 144us/step - loss: 0.5907 - accuracy: 0.8193 - val_loss: 0.6205 - val_accuracy: 0.8133\n",
            "Epoch 61/100\n",
            "42000/42000 [==============================] - 6s 143us/step - loss: 0.5905 - accuracy: 0.8197 - val_loss: 0.6203 - val_accuracy: 0.8133\n",
            "Epoch 62/100\n",
            "42000/42000 [==============================] - 6s 143us/step - loss: 0.5903 - accuracy: 0.8195 - val_loss: 0.6202 - val_accuracy: 0.8134\n",
            "Epoch 63/100\n",
            "42000/42000 [==============================] - 6s 143us/step - loss: 0.5901 - accuracy: 0.8196 - val_loss: 0.6200 - val_accuracy: 0.8134\n",
            "Epoch 64/100\n",
            "42000/42000 [==============================] - 6s 143us/step - loss: 0.5899 - accuracy: 0.8196 - val_loss: 0.6198 - val_accuracy: 0.8135\n",
            "Epoch 65/100\n",
            "42000/42000 [==============================] - 6s 142us/step - loss: 0.5898 - accuracy: 0.8195 - val_loss: 0.6196 - val_accuracy: 0.8137\n",
            "Epoch 66/100\n",
            "42000/42000 [==============================] - 6s 141us/step - loss: 0.5896 - accuracy: 0.8199 - val_loss: 0.6194 - val_accuracy: 0.8136\n",
            "Epoch 67/100\n",
            "42000/42000 [==============================] - 6s 143us/step - loss: 0.5894 - accuracy: 0.8201 - val_loss: 0.6193 - val_accuracy: 0.8139\n",
            "Epoch 68/100\n",
            "42000/42000 [==============================] - 6s 143us/step - loss: 0.5892 - accuracy: 0.8197 - val_loss: 0.6191 - val_accuracy: 0.8138\n",
            "Epoch 69/100\n",
            "42000/42000 [==============================] - 6s 143us/step - loss: 0.5890 - accuracy: 0.8202 - val_loss: 0.6189 - val_accuracy: 0.8139\n",
            "Epoch 70/100\n",
            "42000/42000 [==============================] - 6s 142us/step - loss: 0.5888 - accuracy: 0.8204 - val_loss: 0.6188 - val_accuracy: 0.8139\n",
            "Epoch 71/100\n",
            "42000/42000 [==============================] - 6s 138us/step - loss: 0.5887 - accuracy: 0.8201 - val_loss: 0.6186 - val_accuracy: 0.8137\n",
            "Epoch 72/100\n",
            "42000/42000 [==============================] - 6s 134us/step - loss: 0.5885 - accuracy: 0.8201 - val_loss: 0.6185 - val_accuracy: 0.8139\n",
            "Epoch 73/100\n",
            "42000/42000 [==============================] - 6s 134us/step - loss: 0.5883 - accuracy: 0.8200 - val_loss: 0.6183 - val_accuracy: 0.8138\n",
            "Epoch 74/100\n",
            "42000/42000 [==============================] - 6s 134us/step - loss: 0.5882 - accuracy: 0.8204 - val_loss: 0.6182 - val_accuracy: 0.8140\n",
            "Epoch 75/100\n",
            "42000/42000 [==============================] - 6s 138us/step - loss: 0.5880 - accuracy: 0.8202 - val_loss: 0.6180 - val_accuracy: 0.8139\n",
            "Epoch 76/100\n",
            "42000/42000 [==============================] - 6s 135us/step - loss: 0.5878 - accuracy: 0.8204 - val_loss: 0.6179 - val_accuracy: 0.8139\n",
            "Epoch 77/100\n",
            "42000/42000 [==============================] - 6s 133us/step - loss: 0.5877 - accuracy: 0.8202 - val_loss: 0.6177 - val_accuracy: 0.8142\n",
            "Epoch 78/100\n",
            "42000/42000 [==============================] - 6s 134us/step - loss: 0.5875 - accuracy: 0.8203 - val_loss: 0.6176 - val_accuracy: 0.8140\n",
            "Epoch 79/100\n",
            "42000/42000 [==============================] - 6s 133us/step - loss: 0.5874 - accuracy: 0.8203 - val_loss: 0.6174 - val_accuracy: 0.8141\n",
            "Epoch 80/100\n",
            "42000/42000 [==============================] - 6s 135us/step - loss: 0.5872 - accuracy: 0.8207 - val_loss: 0.6173 - val_accuracy: 0.8139\n",
            "Epoch 81/100\n",
            "42000/42000 [==============================] - 6s 133us/step - loss: 0.5871 - accuracy: 0.8204 - val_loss: 0.6172 - val_accuracy: 0.8141\n",
            "Epoch 82/100\n",
            "42000/42000 [==============================] - 6s 136us/step - loss: 0.5869 - accuracy: 0.8207 - val_loss: 0.6170 - val_accuracy: 0.8143\n",
            "Epoch 83/100\n",
            "42000/42000 [==============================] - 6s 134us/step - loss: 0.5868 - accuracy: 0.8209 - val_loss: 0.6169 - val_accuracy: 0.8144\n",
            "Epoch 84/100\n",
            "42000/42000 [==============================] - 6s 135us/step - loss: 0.5866 - accuracy: 0.8209 - val_loss: 0.6168 - val_accuracy: 0.8144\n",
            "Epoch 85/100\n",
            "42000/42000 [==============================] - 6s 135us/step - loss: 0.5865 - accuracy: 0.8208 - val_loss: 0.6166 - val_accuracy: 0.8144\n",
            "Epoch 86/100\n",
            "42000/42000 [==============================] - 6s 136us/step - loss: 0.5863 - accuracy: 0.8208 - val_loss: 0.6165 - val_accuracy: 0.8145\n",
            "Epoch 87/100\n",
            "42000/42000 [==============================] - 6s 136us/step - loss: 0.5862 - accuracy: 0.8206 - val_loss: 0.6164 - val_accuracy: 0.8145\n",
            "Epoch 88/100\n",
            "42000/42000 [==============================] - 6s 137us/step - loss: 0.5861 - accuracy: 0.8208 - val_loss: 0.6162 - val_accuracy: 0.8148\n",
            "Epoch 89/100\n",
            "42000/42000 [==============================] - 6s 136us/step - loss: 0.5859 - accuracy: 0.8209 - val_loss: 0.6161 - val_accuracy: 0.8145\n",
            "Epoch 90/100\n",
            "42000/42000 [==============================] - 6s 139us/step - loss: 0.5858 - accuracy: 0.8210 - val_loss: 0.6160 - val_accuracy: 0.8145\n",
            "Epoch 91/100\n",
            "42000/42000 [==============================] - 6s 137us/step - loss: 0.5856 - accuracy: 0.8212 - val_loss: 0.6159 - val_accuracy: 0.8148\n",
            "Epoch 92/100\n",
            "42000/42000 [==============================] - 6s 135us/step - loss: 0.5855 - accuracy: 0.8211 - val_loss: 0.6158 - val_accuracy: 0.8147\n",
            "Epoch 93/100\n",
            "42000/42000 [==============================] - 6s 134us/step - loss: 0.5854 - accuracy: 0.8213 - val_loss: 0.6156 - val_accuracy: 0.8148\n",
            "Epoch 94/100\n",
            "42000/42000 [==============================] - 6s 134us/step - loss: 0.5853 - accuracy: 0.8211 - val_loss: 0.6155 - val_accuracy: 0.8148\n",
            "Epoch 95/100\n",
            "42000/42000 [==============================] - 6s 137us/step - loss: 0.5851 - accuracy: 0.8210 - val_loss: 0.6154 - val_accuracy: 0.8148\n",
            "Epoch 96/100\n",
            "42000/42000 [==============================] - 6s 134us/step - loss: 0.5850 - accuracy: 0.8210 - val_loss: 0.6153 - val_accuracy: 0.8148\n",
            "Epoch 97/100\n",
            "42000/42000 [==============================] - 6s 134us/step - loss: 0.5848 - accuracy: 0.8213 - val_loss: 0.6152 - val_accuracy: 0.8150\n",
            "Epoch 98/100\n",
            "42000/42000 [==============================] - 6s 134us/step - loss: 0.5847 - accuracy: 0.8215 - val_loss: 0.6150 - val_accuracy: 0.8149\n",
            "Epoch 99/100\n",
            "42000/42000 [==============================] - 6s 135us/step - loss: 0.5846 - accuracy: 0.8214 - val_loss: 0.6149 - val_accuracy: 0.8150\n",
            "Epoch 100/100\n",
            "42000/42000 [==============================] - 6s 134us/step - loss: 0.5845 - accuracy: 0.8212 - val_loss: 0.6148 - val_accuracy: 0.8150\n"
          ],
          "name": "stdout"
        }
      ]
    },
    {
      "cell_type": "markdown",
      "metadata": {
        "id": "7el2cIEqRIxW",
        "colab_type": "text"
      },
      "source": [
        "- The accuracy of the model on val data using sgd with learning rate=0.0001 improved a bit(78% to 82%)"
      ]
    },
    {
      "cell_type": "markdown",
      "metadata": {
        "id": "TpSUWWISRUe_",
        "colab_type": "text"
      },
      "source": [
        "#Lets try to change the learning rate in ADAM optimizer. Also, Increasing epoch because we will use small learning rate means mode will learn slow."
      ]
    },
    {
      "cell_type": "code",
      "metadata": {
        "id": "MgyEO0nKRYL8",
        "colab_type": "code",
        "colab": {
          "base_uri": "https://localhost:8080/",
          "height": 1000
        },
        "outputId": "c4647b48-a393-4f2a-f15e-342af2870687"
      },
      "source": [
        "#Setting the learning rate  and decay in sgd\n",
        "adam = optimizers.adam(lr = 0.0001)\n",
        "# compiling the ANN classifier\n",
        "keras_model.compile(optimizer = adam, loss = 'categorical_crossentropy', metrics = ['accuracy'])\n",
        "# Fitting the ANN to the Training data\n",
        "history = keras_model.fit(X_train, y_train, validation_data=(X_val,y_val),batch_size = 200, epochs = 100, verbose = 1)"
      ],
      "execution_count": 104,
      "outputs": [
        {
          "output_type": "stream",
          "text": [
            "Train on 42000 samples, validate on 60000 samples\n",
            "Epoch 1/100\n",
            "42000/42000 [==============================] - 6s 154us/step - loss: 0.5972 - accuracy: 0.8161 - val_loss: 0.6268 - val_accuracy: 0.8073\n",
            "Epoch 2/100\n",
            "42000/42000 [==============================] - 6s 151us/step - loss: 0.5879 - accuracy: 0.8195 - val_loss: 0.6094 - val_accuracy: 0.8163\n",
            "Epoch 3/100\n",
            "42000/42000 [==============================] - 6s 152us/step - loss: 0.5808 - accuracy: 0.8216 - val_loss: 0.6020 - val_accuracy: 0.8183\n",
            "Epoch 4/100\n",
            "42000/42000 [==============================] - 6s 152us/step - loss: 0.5693 - accuracy: 0.8258 - val_loss: 0.5964 - val_accuracy: 0.8201\n",
            "Epoch 5/100\n",
            "42000/42000 [==============================] - 6s 152us/step - loss: 0.5621 - accuracy: 0.8269 - val_loss: 0.5840 - val_accuracy: 0.8244\n",
            "Epoch 6/100\n",
            "42000/42000 [==============================] - 6s 153us/step - loss: 0.5573 - accuracy: 0.8302 - val_loss: 0.5838 - val_accuracy: 0.8239\n",
            "Epoch 7/100\n",
            "42000/42000 [==============================] - 6s 153us/step - loss: 0.5491 - accuracy: 0.8306 - val_loss: 0.5786 - val_accuracy: 0.8258\n",
            "Epoch 8/100\n",
            "42000/42000 [==============================] - 6s 151us/step - loss: 0.5439 - accuracy: 0.8330 - val_loss: 0.5635 - val_accuracy: 0.8310\n",
            "Epoch 9/100\n",
            "42000/42000 [==============================] - 6s 150us/step - loss: 0.5346 - accuracy: 0.8358 - val_loss: 0.5625 - val_accuracy: 0.8313\n",
            "Epoch 10/100\n",
            "42000/42000 [==============================] - 6s 152us/step - loss: 0.5271 - accuracy: 0.8381 - val_loss: 0.5545 - val_accuracy: 0.8340\n",
            "Epoch 11/100\n",
            "42000/42000 [==============================] - 6s 151us/step - loss: 0.5234 - accuracy: 0.8393 - val_loss: 0.5563 - val_accuracy: 0.8329\n",
            "Epoch 12/100\n",
            "42000/42000 [==============================] - 6s 152us/step - loss: 0.5179 - accuracy: 0.8412 - val_loss: 0.5464 - val_accuracy: 0.8366\n",
            "Epoch 13/100\n",
            "42000/42000 [==============================] - 6s 152us/step - loss: 0.5083 - accuracy: 0.8442 - val_loss: 0.5431 - val_accuracy: 0.8364\n",
            "Epoch 14/100\n",
            "42000/42000 [==============================] - 6s 151us/step - loss: 0.5054 - accuracy: 0.8451 - val_loss: 0.5443 - val_accuracy: 0.8374\n",
            "Epoch 15/100\n",
            "42000/42000 [==============================] - 6s 152us/step - loss: 0.5020 - accuracy: 0.8454 - val_loss: 0.5483 - val_accuracy: 0.8351\n",
            "Epoch 16/100\n",
            "42000/42000 [==============================] - 6s 151us/step - loss: 0.4943 - accuracy: 0.8493 - val_loss: 0.5324 - val_accuracy: 0.8408\n",
            "Epoch 17/100\n",
            "42000/42000 [==============================] - 6s 152us/step - loss: 0.4903 - accuracy: 0.8497 - val_loss: 0.5287 - val_accuracy: 0.8415\n",
            "Epoch 18/100\n",
            "42000/42000 [==============================] - 6s 152us/step - loss: 0.4861 - accuracy: 0.8512 - val_loss: 0.5166 - val_accuracy: 0.8461\n",
            "Epoch 19/100\n",
            "42000/42000 [==============================] - 7s 156us/step - loss: 0.4766 - accuracy: 0.8534 - val_loss: 0.5159 - val_accuracy: 0.8451\n",
            "Epoch 20/100\n",
            "42000/42000 [==============================] - 7s 161us/step - loss: 0.4738 - accuracy: 0.8548 - val_loss: 0.5139 - val_accuracy: 0.8471\n",
            "Epoch 21/100\n",
            "42000/42000 [==============================] - 7s 160us/step - loss: 0.4680 - accuracy: 0.8563 - val_loss: 0.5061 - val_accuracy: 0.8490\n",
            "Epoch 22/100\n",
            "42000/42000 [==============================] - 7s 161us/step - loss: 0.4632 - accuracy: 0.8571 - val_loss: 0.5098 - val_accuracy: 0.8467\n",
            "Epoch 23/100\n",
            "42000/42000 [==============================] - 6s 155us/step - loss: 0.4597 - accuracy: 0.8588 - val_loss: 0.5030 - val_accuracy: 0.8485\n",
            "Epoch 24/100\n",
            "42000/42000 [==============================] - 6s 152us/step - loss: 0.4516 - accuracy: 0.8614 - val_loss: 0.5016 - val_accuracy: 0.8494\n",
            "Epoch 25/100\n",
            "42000/42000 [==============================] - 6s 153us/step - loss: 0.4501 - accuracy: 0.8613 - val_loss: 0.4964 - val_accuracy: 0.8522\n",
            "Epoch 26/100\n",
            "42000/42000 [==============================] - 7s 156us/step - loss: 0.4428 - accuracy: 0.8651 - val_loss: 0.4883 - val_accuracy: 0.8558\n",
            "Epoch 27/100\n",
            "42000/42000 [==============================] - 7s 160us/step - loss: 0.4369 - accuracy: 0.8651 - val_loss: 0.4914 - val_accuracy: 0.8534\n",
            "Epoch 28/100\n",
            "42000/42000 [==============================] - 7s 161us/step - loss: 0.4366 - accuracy: 0.8661 - val_loss: 0.4819 - val_accuracy: 0.8571\n",
            "Epoch 29/100\n",
            "42000/42000 [==============================] - 6s 153us/step - loss: 0.4287 - accuracy: 0.8682 - val_loss: 0.4904 - val_accuracy: 0.8533\n",
            "Epoch 30/100\n",
            "42000/42000 [==============================] - 6s 152us/step - loss: 0.4271 - accuracy: 0.8677 - val_loss: 0.4712 - val_accuracy: 0.8610\n",
            "Epoch 31/100\n",
            "42000/42000 [==============================] - 6s 152us/step - loss: 0.4197 - accuracy: 0.8707 - val_loss: 0.4789 - val_accuracy: 0.8585\n",
            "Epoch 32/100\n",
            "42000/42000 [==============================] - 6s 152us/step - loss: 0.4166 - accuracy: 0.8730 - val_loss: 0.4651 - val_accuracy: 0.8624\n",
            "Epoch 33/100\n",
            "42000/42000 [==============================] - 6s 152us/step - loss: 0.4117 - accuracy: 0.8741 - val_loss: 0.4640 - val_accuracy: 0.8625\n",
            "Epoch 34/100\n",
            "42000/42000 [==============================] - 7s 155us/step - loss: 0.4053 - accuracy: 0.8761 - val_loss: 0.4670 - val_accuracy: 0.8612\n",
            "Epoch 35/100\n",
            "42000/42000 [==============================] - 7s 161us/step - loss: 0.4032 - accuracy: 0.8766 - val_loss: 0.4639 - val_accuracy: 0.8615\n",
            "Epoch 36/100\n",
            "42000/42000 [==============================] - 7s 157us/step - loss: 0.3976 - accuracy: 0.8788 - val_loss: 0.4549 - val_accuracy: 0.8646\n",
            "Epoch 37/100\n",
            "42000/42000 [==============================] - 6s 151us/step - loss: 0.3952 - accuracy: 0.8799 - val_loss: 0.4584 - val_accuracy: 0.8644\n",
            "Epoch 38/100\n",
            "42000/42000 [==============================] - 6s 152us/step - loss: 0.3919 - accuracy: 0.8808 - val_loss: 0.4473 - val_accuracy: 0.8676\n",
            "Epoch 39/100\n",
            "42000/42000 [==============================] - 6s 151us/step - loss: 0.3878 - accuracy: 0.8817 - val_loss: 0.4489 - val_accuracy: 0.8678\n",
            "Epoch 40/100\n",
            "42000/42000 [==============================] - 6s 150us/step - loss: 0.3830 - accuracy: 0.8838 - val_loss: 0.4434 - val_accuracy: 0.8698\n",
            "Epoch 41/100\n",
            "42000/42000 [==============================] - 6s 153us/step - loss: 0.3821 - accuracy: 0.8845 - val_loss: 0.4392 - val_accuracy: 0.8712\n",
            "Epoch 42/100\n",
            "42000/42000 [==============================] - 6s 152us/step - loss: 0.3738 - accuracy: 0.8865 - val_loss: 0.4394 - val_accuracy: 0.8714\n",
            "Epoch 43/100\n",
            "42000/42000 [==============================] - 6s 153us/step - loss: 0.3718 - accuracy: 0.8871 - val_loss: 0.4401 - val_accuracy: 0.8713\n",
            "Epoch 44/100\n",
            "42000/42000 [==============================] - 6s 152us/step - loss: 0.3684 - accuracy: 0.8874 - val_loss: 0.4317 - val_accuracy: 0.8738\n",
            "Epoch 45/100\n",
            "42000/42000 [==============================] - 6s 152us/step - loss: 0.3656 - accuracy: 0.8892 - val_loss: 0.4325 - val_accuracy: 0.8732\n",
            "Epoch 46/100\n",
            "42000/42000 [==============================] - 7s 156us/step - loss: 0.3635 - accuracy: 0.8883 - val_loss: 0.4334 - val_accuracy: 0.8730\n",
            "Epoch 47/100\n",
            "42000/42000 [==============================] - 7s 161us/step - loss: 0.3571 - accuracy: 0.8924 - val_loss: 0.4287 - val_accuracy: 0.8747\n",
            "Epoch 48/100\n",
            "42000/42000 [==============================] - 7s 163us/step - loss: 0.3539 - accuracy: 0.8919 - val_loss: 0.4263 - val_accuracy: 0.8767\n",
            "Epoch 49/100\n",
            "42000/42000 [==============================] - 7s 158us/step - loss: 0.3481 - accuracy: 0.8939 - val_loss: 0.4307 - val_accuracy: 0.8734\n",
            "Epoch 50/100\n",
            "42000/42000 [==============================] - 6s 153us/step - loss: 0.3448 - accuracy: 0.8955 - val_loss: 0.4224 - val_accuracy: 0.8766\n",
            "Epoch 51/100\n",
            "42000/42000 [==============================] - 7s 155us/step - loss: 0.3421 - accuracy: 0.8957 - val_loss: 0.4217 - val_accuracy: 0.8770\n",
            "Epoch 52/100\n",
            "42000/42000 [==============================] - 7s 156us/step - loss: 0.3376 - accuracy: 0.8980 - val_loss: 0.4241 - val_accuracy: 0.8758\n",
            "Epoch 53/100\n",
            "42000/42000 [==============================] - 7s 160us/step - loss: 0.3379 - accuracy: 0.8980 - val_loss: 0.4222 - val_accuracy: 0.8774\n",
            "Epoch 54/100\n",
            "42000/42000 [==============================] - 7s 164us/step - loss: 0.3340 - accuracy: 0.8986 - val_loss: 0.4169 - val_accuracy: 0.8782\n",
            "Epoch 55/100\n",
            "42000/42000 [==============================] - 7s 165us/step - loss: 0.3297 - accuracy: 0.8991 - val_loss: 0.4141 - val_accuracy: 0.8804\n",
            "Epoch 56/100\n",
            "42000/42000 [==============================] - 7s 165us/step - loss: 0.3258 - accuracy: 0.9021 - val_loss: 0.4052 - val_accuracy: 0.8829\n",
            "Epoch 57/100\n",
            "42000/42000 [==============================] - 6s 155us/step - loss: 0.3223 - accuracy: 0.9021 - val_loss: 0.4097 - val_accuracy: 0.8825\n",
            "Epoch 58/100\n",
            "42000/42000 [==============================] - 6s 152us/step - loss: 0.3175 - accuracy: 0.9043 - val_loss: 0.3960 - val_accuracy: 0.8868\n",
            "Epoch 59/100\n",
            "42000/42000 [==============================] - 6s 152us/step - loss: 0.3162 - accuracy: 0.9051 - val_loss: 0.4120 - val_accuracy: 0.8800\n",
            "Epoch 60/100\n",
            "42000/42000 [==============================] - 6s 153us/step - loss: 0.3126 - accuracy: 0.9051 - val_loss: 0.3967 - val_accuracy: 0.8873\n",
            "Epoch 61/100\n",
            "42000/42000 [==============================] - 7s 155us/step - loss: 0.3079 - accuracy: 0.9077 - val_loss: 0.3884 - val_accuracy: 0.8902\n",
            "Epoch 62/100\n",
            "42000/42000 [==============================] - 7s 160us/step - loss: 0.3075 - accuracy: 0.9069 - val_loss: 0.3881 - val_accuracy: 0.8889\n",
            "Epoch 63/100\n",
            "42000/42000 [==============================] - 7s 160us/step - loss: 0.3035 - accuracy: 0.9086 - val_loss: 0.3938 - val_accuracy: 0.8873\n",
            "Epoch 64/100\n",
            "42000/42000 [==============================] - 6s 153us/step - loss: 0.3000 - accuracy: 0.9103 - val_loss: 0.3874 - val_accuracy: 0.8907\n",
            "Epoch 65/100\n",
            "42000/42000 [==============================] - 6s 153us/step - loss: 0.2952 - accuracy: 0.9114 - val_loss: 0.3888 - val_accuracy: 0.8903\n",
            "Epoch 66/100\n",
            "42000/42000 [==============================] - 6s 152us/step - loss: 0.2942 - accuracy: 0.9112 - val_loss: 0.3820 - val_accuracy: 0.8920\n",
            "Epoch 67/100\n",
            "42000/42000 [==============================] - 7s 155us/step - loss: 0.2907 - accuracy: 0.9128 - val_loss: 0.3847 - val_accuracy: 0.8903\n",
            "Epoch 68/100\n",
            "42000/42000 [==============================] - 6s 154us/step - loss: 0.2894 - accuracy: 0.9111 - val_loss: 0.3912 - val_accuracy: 0.8885\n",
            "Epoch 69/100\n",
            "42000/42000 [==============================] - 6s 152us/step - loss: 0.2843 - accuracy: 0.9143 - val_loss: 0.3824 - val_accuracy: 0.8920\n",
            "Epoch 70/100\n",
            "42000/42000 [==============================] - 6s 152us/step - loss: 0.2801 - accuracy: 0.9164 - val_loss: 0.3757 - val_accuracy: 0.8943\n",
            "Epoch 71/100\n",
            "42000/42000 [==============================] - 6s 153us/step - loss: 0.2761 - accuracy: 0.9169 - val_loss: 0.3804 - val_accuracy: 0.8946\n",
            "Epoch 72/100\n",
            "42000/42000 [==============================] - 6s 151us/step - loss: 0.2765 - accuracy: 0.9169 - val_loss: 0.3905 - val_accuracy: 0.8899\n",
            "Epoch 73/100\n",
            "42000/42000 [==============================] - 6s 150us/step - loss: 0.2718 - accuracy: 0.9180 - val_loss: 0.3698 - val_accuracy: 0.8969\n",
            "Epoch 74/100\n",
            "42000/42000 [==============================] - 6s 150us/step - loss: 0.2664 - accuracy: 0.9214 - val_loss: 0.3748 - val_accuracy: 0.8945\n",
            "Epoch 75/100\n",
            "42000/42000 [==============================] - 6s 151us/step - loss: 0.2671 - accuracy: 0.9198 - val_loss: 0.3830 - val_accuracy: 0.8910\n",
            "Epoch 76/100\n",
            "42000/42000 [==============================] - 6s 153us/step - loss: 0.2663 - accuracy: 0.9199 - val_loss: 0.3714 - val_accuracy: 0.8962\n",
            "Epoch 77/100\n",
            "42000/42000 [==============================] - 6s 151us/step - loss: 0.2618 - accuracy: 0.9207 - val_loss: 0.3743 - val_accuracy: 0.8947\n",
            "Epoch 78/100\n",
            "42000/42000 [==============================] - 7s 155us/step - loss: 0.2580 - accuracy: 0.9234 - val_loss: 0.3672 - val_accuracy: 0.8987\n",
            "Epoch 79/100\n",
            "42000/42000 [==============================] - 6s 151us/step - loss: 0.2556 - accuracy: 0.9240 - val_loss: 0.3830 - val_accuracy: 0.8923\n",
            "Epoch 80/100\n",
            "42000/42000 [==============================] - 6s 153us/step - loss: 0.2516 - accuracy: 0.9246 - val_loss: 0.3645 - val_accuracy: 0.8995\n",
            "Epoch 81/100\n",
            "42000/42000 [==============================] - 7s 155us/step - loss: 0.2497 - accuracy: 0.9259 - val_loss: 0.3599 - val_accuracy: 0.9013\n",
            "Epoch 82/100\n",
            "42000/42000 [==============================] - 6s 154us/step - loss: 0.2478 - accuracy: 0.9252 - val_loss: 0.3546 - val_accuracy: 0.9038\n",
            "Epoch 83/100\n",
            "42000/42000 [==============================] - 6s 154us/step - loss: 0.2434 - accuracy: 0.9282 - val_loss: 0.3702 - val_accuracy: 0.8974\n",
            "Epoch 84/100\n",
            "42000/42000 [==============================] - 6s 152us/step - loss: 0.2434 - accuracy: 0.9283 - val_loss: 0.3646 - val_accuracy: 0.9000\n",
            "Epoch 85/100\n",
            "42000/42000 [==============================] - 6s 154us/step - loss: 0.2396 - accuracy: 0.9285 - val_loss: 0.3543 - val_accuracy: 0.9045\n",
            "Epoch 86/100\n",
            "42000/42000 [==============================] - 6s 154us/step - loss: 0.2371 - accuracy: 0.9291 - val_loss: 0.3599 - val_accuracy: 0.9014\n",
            "Epoch 87/100\n",
            "42000/42000 [==============================] - 6s 154us/step - loss: 0.2341 - accuracy: 0.9297 - val_loss: 0.3610 - val_accuracy: 0.9019\n",
            "Epoch 88/100\n",
            "42000/42000 [==============================] - 6s 151us/step - loss: 0.2299 - accuracy: 0.9304 - val_loss: 0.3592 - val_accuracy: 0.9025\n",
            "Epoch 89/100\n",
            "42000/42000 [==============================] - 6s 153us/step - loss: 0.2285 - accuracy: 0.9320 - val_loss: 0.3488 - val_accuracy: 0.9067\n",
            "Epoch 90/100\n",
            "42000/42000 [==============================] - 6s 154us/step - loss: 0.2279 - accuracy: 0.9323 - val_loss: 0.3511 - val_accuracy: 0.9051\n",
            "Epoch 91/100\n",
            "42000/42000 [==============================] - 6s 153us/step - loss: 0.2241 - accuracy: 0.9330 - val_loss: 0.3569 - val_accuracy: 0.9036\n",
            "Epoch 92/100\n",
            "42000/42000 [==============================] - 6s 153us/step - loss: 0.2214 - accuracy: 0.9345 - val_loss: 0.3582 - val_accuracy: 0.9037\n",
            "Epoch 93/100\n",
            "42000/42000 [==============================] - 6s 153us/step - loss: 0.2191 - accuracy: 0.9349 - val_loss: 0.3556 - val_accuracy: 0.9056\n",
            "Epoch 94/100\n",
            "42000/42000 [==============================] - 6s 151us/step - loss: 0.2174 - accuracy: 0.9348 - val_loss: 0.3414 - val_accuracy: 0.9099\n",
            "Epoch 95/100\n",
            "42000/42000 [==============================] - 6s 153us/step - loss: 0.2138 - accuracy: 0.9363 - val_loss: 0.3467 - val_accuracy: 0.9088\n",
            "Epoch 96/100\n",
            "42000/42000 [==============================] - 6s 154us/step - loss: 0.2101 - accuracy: 0.9376 - val_loss: 0.3408 - val_accuracy: 0.9113\n",
            "Epoch 97/100\n",
            "42000/42000 [==============================] - 6s 153us/step - loss: 0.2065 - accuracy: 0.9397 - val_loss: 0.3352 - val_accuracy: 0.9133\n",
            "Epoch 98/100\n",
            "42000/42000 [==============================] - 6s 153us/step - loss: 0.2052 - accuracy: 0.9398 - val_loss: 0.3448 - val_accuracy: 0.9095\n",
            "Epoch 99/100\n",
            "42000/42000 [==============================] - 6s 152us/step - loss: 0.2049 - accuracy: 0.9390 - val_loss: 0.3453 - val_accuracy: 0.9085\n",
            "Epoch 100/100\n",
            "42000/42000 [==============================] - 7s 155us/step - loss: 0.2004 - accuracy: 0.9408 - val_loss: 0.3375 - val_accuracy: 0.9115\n"
          ],
          "name": "stdout"
        }
      ]
    },
    {
      "cell_type": "markdown",
      "metadata": {
        "id": "sAdoiZXrT8aA",
        "colab_type": "text"
      },
      "source": [
        "- The accuracy of the model on val data using ADAM with learning rate=0.0001 has shown significant improvement."
      ]
    },
    {
      "cell_type": "code",
      "metadata": {
        "id": "YHvOeKbPT_OK",
        "colab_type": "code",
        "colab": {
          "base_uri": "https://localhost:8080/",
          "height": 50
        },
        "outputId": "a1b26abb-6999-49a6-9a78-d5324aaacf7b"
      },
      "source": [
        "results = keras_model.evaluate(X_val, y_val)\n",
        "print('Val_acc using simple NN adam : ', results[1])"
      ],
      "execution_count": 105,
      "outputs": [
        {
          "output_type": "stream",
          "text": [
            "60000/60000 [==============================] - 4s 64us/step\n",
            "Val_acc using simple NN adam :  0.9115166664123535\n"
          ],
          "name": "stdout"
        }
      ]
    },
    {
      "cell_type": "code",
      "metadata": {
        "id": "YSJ0whbrUF4s",
        "colab_type": "code",
        "colab": {
          "base_uri": "https://localhost:8080/",
          "height": 77
        },
        "outputId": "ef5705fb-1bb0-4149-e8f9-ccf85072aa5f"
      },
      "source": [
        "#Store the accuracy results for each model in a dataframe for final comparison\n",
        "results_on_val = pd.DataFrame({'Method':['NN'], 'accuracy': results[1]},index={'1'})\n",
        "results_on_val = results_on_val[['Method', 'accuracy']]\n",
        "results_on_val"
      ],
      "execution_count": 106,
      "outputs": [
        {
          "output_type": "execute_result",
          "data": {
            "text/html": [
              "<div>\n",
              "<style scoped>\n",
              "    .dataframe tbody tr th:only-of-type {\n",
              "        vertical-align: middle;\n",
              "    }\n",
              "\n",
              "    .dataframe tbody tr th {\n",
              "        vertical-align: top;\n",
              "    }\n",
              "\n",
              "    .dataframe thead th {\n",
              "        text-align: right;\n",
              "    }\n",
              "</style>\n",
              "<table border=\"1\" class=\"dataframe\">\n",
              "  <thead>\n",
              "    <tr style=\"text-align: right;\">\n",
              "      <th></th>\n",
              "      <th>Method</th>\n",
              "      <th>accuracy</th>\n",
              "    </tr>\n",
              "  </thead>\n",
              "  <tbody>\n",
              "    <tr>\n",
              "      <th>1</th>\n",
              "      <td>NN</td>\n",
              "      <td>0.911517</td>\n",
              "    </tr>\n",
              "  </tbody>\n",
              "</table>\n",
              "</div>"
            ],
            "text/plain": [
              "  Method  accuracy\n",
              "1     NN  0.911517"
            ]
          },
          "metadata": {
            "tags": []
          },
          "execution_count": 106
        }
      ]
    },
    {
      "cell_type": "markdown",
      "metadata": {
        "id": "QbyUoJUpURnc",
        "colab_type": "text"
      },
      "source": [
        "#Implementing batch normalization for training the neural network"
      ]
    },
    {
      "cell_type": "code",
      "metadata": {
        "id": "mQ5r4KXHUXpc",
        "colab_type": "code",
        "colab": {}
      },
      "source": [
        "##Initialize the Artificial Neural Network Classifier\n",
        "keras_model_1 = Sequential()"
      ],
      "execution_count": 0,
      "outputs": []
    },
    {
      "cell_type": "markdown",
      "metadata": {
        "id": "P4-c9F74UZ_h",
        "colab_type": "text"
      },
      "source": [
        "#Adding Batch normalization layer"
      ]
    },
    {
      "cell_type": "code",
      "metadata": {
        "id": "UTUXYP_kUcTz",
        "colab_type": "code",
        "colab": {}
      },
      "source": [
        "# Input Layer\n",
        "#Adding Input layer and activation functions ReLU\n",
        "keras_model_1.add(Dense(512, kernel_initializer='he_normal',input_shape = (1024, )))\n",
        "#Adding BatchNormalization Layer\n",
        "keras_model_1.add(BatchNormalization())\n",
        "#Adding Activation function\n",
        "keras_model_1.add(Activation('relu'))\n",
        "\n",
        "#Hidden Layer 1\n",
        "#Adding first Hidden layer\n",
        "keras_model_1.add(Dense(256, kernel_initializer='he_normal'))\n",
        "#Adding BatchNormalization Layer\n",
        "keras_model_1.add(BatchNormalization())\n",
        "#Adding Activation function\n",
        "keras_model_1.add(Activation('relu'))\n",
        "\n",
        "#Hidden Layer 2\n",
        "#Adding second Hidden layer\n",
        "keras_model_1.add(Dense(128, kernel_initializer='he_normal'))\n",
        "#Adding BatchNormalization Layer\n",
        "keras_model_1.add(BatchNormalization())\n",
        "#Adding Activation function\n",
        "keras_model_1.add(Activation('relu'))\n",
        "\n",
        "#Hidden Layer 3\n",
        "#Adding third Hidden layer\n",
        "keras_model_1.add(Dense(64, kernel_initializer='he_normal'))\n",
        "#Adding BatchNormalization Layer\n",
        "keras_model_1.add(BatchNormalization())\n",
        "#Adding Activation function\n",
        "keras_model_1.add(Activation('relu'))\n",
        "\n",
        "#Hidden Layer 4\n",
        "#Adding fourth Hidden layer\n",
        "keras_model_1.add(Dense(32, kernel_initializer='he_normal'))\n",
        "#Adding BatchNormalization Layer\n",
        "keras_model_1.add(BatchNormalization())\n",
        "#Adding Activation function\n",
        "keras_model_1.add(Activation('relu'))\n",
        "\n",
        "# Output Layer\n",
        "#Adding output layer which is of 10 nodes (digidts)\n",
        "keras_model_1.add(Dense(10))\n",
        "#Adding Activation function\n",
        "# Here, we are using softmax function because we have multiclass classsification\n",
        "keras_model_1.add(Activation('softmax'))"
      ],
      "execution_count": 0,
      "outputs": []
    },
    {
      "cell_type": "code",
      "metadata": {
        "id": "I9AnCLf0UjFF",
        "colab_type": "code",
        "colab": {
          "base_uri": "https://localhost:8080/",
          "height": 722
        },
        "outputId": "bc56acc5-1806-4d70-f4c0-096b0e1eb7f1"
      },
      "source": [
        "keras_model_1.summary()"
      ],
      "execution_count": 109,
      "outputs": [
        {
          "output_type": "stream",
          "text": [
            "Model: \"sequential_12\"\n",
            "_________________________________________________________________\n",
            "Layer (type)                 Output Shape              Param #   \n",
            "=================================================================\n",
            "dense_104 (Dense)            (None, 512)               524800    \n",
            "_________________________________________________________________\n",
            "batch_normalization_1 (Batch (None, 512)               2048      \n",
            "_________________________________________________________________\n",
            "activation_103 (Activation)  (None, 512)               0         \n",
            "_________________________________________________________________\n",
            "dense_105 (Dense)            (None, 256)               131328    \n",
            "_________________________________________________________________\n",
            "batch_normalization_2 (Batch (None, 256)               1024      \n",
            "_________________________________________________________________\n",
            "activation_104 (Activation)  (None, 256)               0         \n",
            "_________________________________________________________________\n",
            "dense_106 (Dense)            (None, 128)               32896     \n",
            "_________________________________________________________________\n",
            "batch_normalization_3 (Batch (None, 128)               512       \n",
            "_________________________________________________________________\n",
            "activation_105 (Activation)  (None, 128)               0         \n",
            "_________________________________________________________________\n",
            "dense_107 (Dense)            (None, 64)                8256      \n",
            "_________________________________________________________________\n",
            "batch_normalization_4 (Batch (None, 64)                256       \n",
            "_________________________________________________________________\n",
            "activation_106 (Activation)  (None, 64)                0         \n",
            "_________________________________________________________________\n",
            "dense_108 (Dense)            (None, 32)                2080      \n",
            "_________________________________________________________________\n",
            "batch_normalization_5 (Batch (None, 32)                128       \n",
            "_________________________________________________________________\n",
            "activation_107 (Activation)  (None, 32)                0         \n",
            "_________________________________________________________________\n",
            "dense_109 (Dense)            (None, 10)                330       \n",
            "_________________________________________________________________\n",
            "activation_108 (Activation)  (None, 10)                0         \n",
            "=================================================================\n",
            "Total params: 703,658\n",
            "Trainable params: 701,674\n",
            "Non-trainable params: 1,984\n",
            "_________________________________________________________________\n"
          ],
          "name": "stdout"
        }
      ]
    },
    {
      "cell_type": "markdown",
      "metadata": {
        "id": "QbBLQF_nUm2_",
        "colab_type": "text"
      },
      "source": [
        "Using ADAM optimizer.\n",
        "\n",
        "1.   learning rate= 0.0001\n",
        "\n"
      ]
    },
    {
      "cell_type": "code",
      "metadata": {
        "id": "nXpDTVHBUycD",
        "colab_type": "code",
        "colab": {}
      },
      "source": [
        "#Setting the learning rate  and decay in sgd\n",
        "adam = optimizers.adam(lr = 0.0001)\n",
        "# compiling the ANN classifier\n",
        "keras_model_1.compile(optimizer = adam, loss = 'categorical_crossentropy', metrics = ['accuracy'])"
      ],
      "execution_count": 0,
      "outputs": []
    },
    {
      "cell_type": "code",
      "metadata": {
        "id": "M1fzkhaFU1Hj",
        "colab_type": "code",
        "colab": {
          "base_uri": "https://localhost:8080/",
          "height": 1000
        },
        "outputId": "9e636d41-8e79-4e34-938b-019cedc46bd9"
      },
      "source": [
        "# Fitting the ANN to the Training data\n",
        "history_1 = keras_model_1.fit(X_train, y_train, validation_data=(X_val,y_val),batch_size = 200, epochs = 100, verbose = 1)"
      ],
      "execution_count": 111,
      "outputs": [
        {
          "output_type": "stream",
          "text": [
            "Train on 42000 samples, validate on 60000 samples\n",
            "Epoch 1/100\n",
            "42000/42000 [==============================] - 8s 198us/step - loss: 2.1260 - accuracy: 0.2448 - val_loss: 2.0743 - val_accuracy: 0.2448\n",
            "Epoch 2/100\n",
            "42000/42000 [==============================] - 7s 177us/step - loss: 1.5816 - accuracy: 0.5103 - val_loss: 1.5760 - val_accuracy: 0.5170\n",
            "Epoch 3/100\n",
            "42000/42000 [==============================] - 8s 180us/step - loss: 1.2966 - accuracy: 0.6384 - val_loss: 1.3523 - val_accuracy: 0.6130\n",
            "Epoch 4/100\n",
            "42000/42000 [==============================] - 7s 175us/step - loss: 1.1108 - accuracy: 0.6952 - val_loss: 1.1830 - val_accuracy: 0.6564\n",
            "Epoch 5/100\n",
            "42000/42000 [==============================] - 7s 178us/step - loss: 0.9784 - accuracy: 0.7280 - val_loss: 1.1416 - val_accuracy: 0.6753\n",
            "Epoch 6/100\n",
            "42000/42000 [==============================] - 8s 179us/step - loss: 0.8762 - accuracy: 0.7562 - val_loss: 1.0940 - val_accuracy: 0.6714\n",
            "Epoch 7/100\n",
            "42000/42000 [==============================] - 8s 180us/step - loss: 0.7976 - accuracy: 0.7747 - val_loss: 0.9909 - val_accuracy: 0.7102\n",
            "Epoch 8/100\n",
            "42000/42000 [==============================] - 7s 177us/step - loss: 0.7316 - accuracy: 0.7930 - val_loss: 0.9793 - val_accuracy: 0.6991\n",
            "Epoch 9/100\n",
            "42000/42000 [==============================] - 7s 177us/step - loss: 0.6719 - accuracy: 0.8081 - val_loss: 1.0778 - val_accuracy: 0.6663\n",
            "Epoch 10/100\n",
            "42000/42000 [==============================] - 8s 180us/step - loss: 0.6218 - accuracy: 0.8214 - val_loss: 0.9469 - val_accuracy: 0.7066\n",
            "Epoch 11/100\n",
            "42000/42000 [==============================] - 7s 177us/step - loss: 0.5761 - accuracy: 0.8356 - val_loss: 0.8588 - val_accuracy: 0.7373\n",
            "Epoch 12/100\n",
            "42000/42000 [==============================] - 7s 178us/step - loss: 0.5415 - accuracy: 0.8429 - val_loss: 0.7590 - val_accuracy: 0.7661\n",
            "Epoch 13/100\n",
            "42000/42000 [==============================] - 7s 175us/step - loss: 0.5084 - accuracy: 0.8522 - val_loss: 0.7475 - val_accuracy: 0.7732\n",
            "Epoch 14/100\n",
            "42000/42000 [==============================] - 7s 176us/step - loss: 0.4743 - accuracy: 0.8641 - val_loss: 0.7807 - val_accuracy: 0.7592\n",
            "Epoch 15/100\n",
            "42000/42000 [==============================] - 8s 180us/step - loss: 0.4482 - accuracy: 0.8707 - val_loss: 0.8009 - val_accuracy: 0.7522\n",
            "Epoch 16/100\n",
            "42000/42000 [==============================] - 7s 177us/step - loss: 0.4234 - accuracy: 0.8772 - val_loss: 0.9848 - val_accuracy: 0.7041\n",
            "Epoch 17/100\n",
            "42000/42000 [==============================] - 8s 179us/step - loss: 0.4050 - accuracy: 0.8832 - val_loss: 0.6583 - val_accuracy: 0.7947\n",
            "Epoch 18/100\n",
            "42000/42000 [==============================] - 7s 178us/step - loss: 0.3780 - accuracy: 0.8912 - val_loss: 0.7698 - val_accuracy: 0.7614\n",
            "Epoch 19/100\n",
            "42000/42000 [==============================] - 8s 179us/step - loss: 0.3603 - accuracy: 0.8948 - val_loss: 1.0019 - val_accuracy: 0.7066\n",
            "Epoch 20/100\n",
            "42000/42000 [==============================] - 7s 177us/step - loss: 0.3411 - accuracy: 0.9006 - val_loss: 0.6066 - val_accuracy: 0.8139\n",
            "Epoch 21/100\n",
            "42000/42000 [==============================] - 8s 182us/step - loss: 0.3199 - accuracy: 0.9079 - val_loss: 0.6034 - val_accuracy: 0.8120\n",
            "Epoch 22/100\n",
            "42000/42000 [==============================] - 8s 180us/step - loss: 0.3042 - accuracy: 0.9115 - val_loss: 0.7029 - val_accuracy: 0.7812\n",
            "Epoch 23/100\n",
            "42000/42000 [==============================] - 7s 177us/step - loss: 0.2900 - accuracy: 0.9175 - val_loss: 0.8494 - val_accuracy: 0.7577\n",
            "Epoch 24/100\n",
            "42000/42000 [==============================] - 7s 174us/step - loss: 0.2801 - accuracy: 0.9189 - val_loss: 0.7521 - val_accuracy: 0.7688\n",
            "Epoch 25/100\n",
            "42000/42000 [==============================] - 7s 176us/step - loss: 0.2668 - accuracy: 0.9231 - val_loss: 0.6305 - val_accuracy: 0.8071\n",
            "Epoch 26/100\n",
            "42000/42000 [==============================] - 7s 177us/step - loss: 0.2555 - accuracy: 0.9264 - val_loss: 0.6653 - val_accuracy: 0.7959\n",
            "Epoch 27/100\n",
            "42000/42000 [==============================] - 7s 176us/step - loss: 0.2481 - accuracy: 0.9279 - val_loss: 0.7053 - val_accuracy: 0.7901\n",
            "Epoch 28/100\n",
            "42000/42000 [==============================] - 7s 176us/step - loss: 0.2334 - accuracy: 0.9332 - val_loss: 0.6301 - val_accuracy: 0.8085\n",
            "Epoch 29/100\n",
            "42000/42000 [==============================] - 7s 176us/step - loss: 0.2197 - accuracy: 0.9366 - val_loss: 0.6890 - val_accuracy: 0.7926\n",
            "Epoch 30/100\n",
            "42000/42000 [==============================] - 7s 178us/step - loss: 0.2175 - accuracy: 0.9369 - val_loss: 0.6145 - val_accuracy: 0.8202\n",
            "Epoch 31/100\n",
            "42000/42000 [==============================] - 7s 176us/step - loss: 0.2084 - accuracy: 0.9404 - val_loss: 0.6421 - val_accuracy: 0.8018\n",
            "Epoch 32/100\n",
            "42000/42000 [==============================] - 7s 177us/step - loss: 0.1942 - accuracy: 0.9440 - val_loss: 0.6447 - val_accuracy: 0.8041\n",
            "Epoch 33/100\n",
            "42000/42000 [==============================] - 7s 178us/step - loss: 0.1903 - accuracy: 0.9450 - val_loss: 0.6680 - val_accuracy: 0.7999\n",
            "Epoch 34/100\n",
            "42000/42000 [==============================] - 8s 179us/step - loss: 0.1785 - accuracy: 0.9499 - val_loss: 0.6863 - val_accuracy: 0.8097\n",
            "Epoch 35/100\n",
            "42000/42000 [==============================] - 8s 179us/step - loss: 0.1730 - accuracy: 0.9508 - val_loss: 0.7406 - val_accuracy: 0.7863\n",
            "Epoch 36/100\n",
            "42000/42000 [==============================] - 7s 176us/step - loss: 0.1635 - accuracy: 0.9539 - val_loss: 0.6082 - val_accuracy: 0.8255\n",
            "Epoch 37/100\n",
            "42000/42000 [==============================] - 7s 176us/step - loss: 0.1555 - accuracy: 0.9567 - val_loss: 0.9188 - val_accuracy: 0.7558\n",
            "Epoch 38/100\n",
            "42000/42000 [==============================] - 7s 176us/step - loss: 0.1566 - accuracy: 0.9550 - val_loss: 0.6430 - val_accuracy: 0.8109\n",
            "Epoch 39/100\n",
            "42000/42000 [==============================] - 7s 176us/step - loss: 0.1467 - accuracy: 0.9585 - val_loss: 0.6066 - val_accuracy: 0.8222\n",
            "Epoch 40/100\n",
            "42000/42000 [==============================] - 7s 175us/step - loss: 0.1448 - accuracy: 0.9581 - val_loss: 0.6069 - val_accuracy: 0.8324\n",
            "Epoch 41/100\n",
            "42000/42000 [==============================] - 7s 175us/step - loss: 0.1404 - accuracy: 0.9603 - val_loss: 0.7378 - val_accuracy: 0.7933\n",
            "Epoch 42/100\n",
            "42000/42000 [==============================] - 7s 176us/step - loss: 0.1353 - accuracy: 0.9614 - val_loss: 0.5937 - val_accuracy: 0.8290\n",
            "Epoch 43/100\n",
            "42000/42000 [==============================] - 7s 175us/step - loss: 0.1303 - accuracy: 0.9630 - val_loss: 0.7317 - val_accuracy: 0.8009\n",
            "Epoch 44/100\n",
            "42000/42000 [==============================] - 7s 178us/step - loss: 0.1204 - accuracy: 0.9667 - val_loss: 0.5467 - val_accuracy: 0.8433\n",
            "Epoch 45/100\n",
            "42000/42000 [==============================] - 8s 179us/step - loss: 0.1159 - accuracy: 0.9678 - val_loss: 0.7117 - val_accuracy: 0.8066\n",
            "Epoch 46/100\n",
            "42000/42000 [==============================] - 7s 175us/step - loss: 0.1198 - accuracy: 0.9660 - val_loss: 0.6637 - val_accuracy: 0.8210\n",
            "Epoch 47/100\n",
            "42000/42000 [==============================] - 7s 176us/step - loss: 0.1159 - accuracy: 0.9666 - val_loss: 0.7147 - val_accuracy: 0.8040\n",
            "Epoch 48/100\n",
            "42000/42000 [==============================] - 8s 180us/step - loss: 0.1107 - accuracy: 0.9688 - val_loss: 0.6994 - val_accuracy: 0.8184\n",
            "Epoch 49/100\n",
            "42000/42000 [==============================] - 7s 177us/step - loss: 0.1085 - accuracy: 0.9688 - val_loss: 0.6316 - val_accuracy: 0.8210\n",
            "Epoch 50/100\n",
            "42000/42000 [==============================] - 7s 178us/step - loss: 0.1091 - accuracy: 0.9686 - val_loss: 0.6201 - val_accuracy: 0.8264\n",
            "Epoch 51/100\n",
            "42000/42000 [==============================] - 7s 175us/step - loss: 0.1002 - accuracy: 0.9721 - val_loss: 0.7114 - val_accuracy: 0.8080\n",
            "Epoch 52/100\n",
            "42000/42000 [==============================] - 7s 175us/step - loss: 0.0988 - accuracy: 0.9720 - val_loss: 0.6409 - val_accuracy: 0.8286\n",
            "Epoch 53/100\n",
            "42000/42000 [==============================] - 7s 177us/step - loss: 0.0937 - accuracy: 0.9731 - val_loss: 0.6664 - val_accuracy: 0.8177\n",
            "Epoch 54/100\n",
            "42000/42000 [==============================] - 7s 175us/step - loss: 0.0980 - accuracy: 0.9720 - val_loss: 0.7432 - val_accuracy: 0.8059\n",
            "Epoch 55/100\n",
            "42000/42000 [==============================] - 7s 174us/step - loss: 0.0884 - accuracy: 0.9747 - val_loss: 0.7293 - val_accuracy: 0.8145\n",
            "Epoch 56/100\n",
            "42000/42000 [==============================] - 7s 176us/step - loss: 0.0926 - accuracy: 0.9726 - val_loss: 0.6066 - val_accuracy: 0.8372\n",
            "Epoch 57/100\n",
            "42000/42000 [==============================] - 7s 177us/step - loss: 0.0872 - accuracy: 0.9745 - val_loss: 0.6936 - val_accuracy: 0.8219\n",
            "Epoch 58/100\n",
            "42000/42000 [==============================] - 7s 173us/step - loss: 0.0830 - accuracy: 0.9770 - val_loss: 0.6158 - val_accuracy: 0.8343\n",
            "Epoch 59/100\n",
            "42000/42000 [==============================] - 7s 177us/step - loss: 0.0794 - accuracy: 0.9773 - val_loss: 0.5664 - val_accuracy: 0.8491\n",
            "Epoch 60/100\n",
            "42000/42000 [==============================] - 7s 177us/step - loss: 0.0840 - accuracy: 0.9766 - val_loss: 0.6162 - val_accuracy: 0.8340\n",
            "Epoch 61/100\n",
            "42000/42000 [==============================] - 7s 176us/step - loss: 0.0801 - accuracy: 0.9773 - val_loss: 0.6599 - val_accuracy: 0.8244\n",
            "Epoch 62/100\n",
            "42000/42000 [==============================] - 8s 180us/step - loss: 0.0811 - accuracy: 0.9771 - val_loss: 0.7968 - val_accuracy: 0.8043\n",
            "Epoch 63/100\n",
            "42000/42000 [==============================] - 8s 185us/step - loss: 0.0778 - accuracy: 0.9775 - val_loss: 0.6050 - val_accuracy: 0.8409\n",
            "Epoch 64/100\n",
            "42000/42000 [==============================] - 8s 181us/step - loss: 0.0783 - accuracy: 0.9770 - val_loss: 0.5961 - val_accuracy: 0.8432\n",
            "Epoch 65/100\n",
            "42000/42000 [==============================] - 8s 179us/step - loss: 0.0726 - accuracy: 0.9791 - val_loss: 0.6954 - val_accuracy: 0.8309\n",
            "Epoch 66/100\n",
            "42000/42000 [==============================] - 7s 175us/step - loss: 0.0738 - accuracy: 0.9790 - val_loss: 0.6369 - val_accuracy: 0.8339\n",
            "Epoch 67/100\n",
            "42000/42000 [==============================] - 7s 177us/step - loss: 0.0693 - accuracy: 0.9802 - val_loss: 0.7203 - val_accuracy: 0.8221\n",
            "Epoch 68/100\n",
            "42000/42000 [==============================] - 7s 177us/step - loss: 0.0654 - accuracy: 0.9809 - val_loss: 0.8820 - val_accuracy: 0.7847\n",
            "Epoch 69/100\n",
            "42000/42000 [==============================] - 7s 176us/step - loss: 0.0721 - accuracy: 0.9789 - val_loss: 0.6848 - val_accuracy: 0.8238\n",
            "Epoch 70/100\n",
            "42000/42000 [==============================] - 7s 178us/step - loss: 0.0691 - accuracy: 0.9802 - val_loss: 0.7134 - val_accuracy: 0.8174\n",
            "Epoch 71/100\n",
            "42000/42000 [==============================] - 8s 179us/step - loss: 0.0679 - accuracy: 0.9796 - val_loss: 0.7554 - val_accuracy: 0.8156\n",
            "Epoch 72/100\n",
            "42000/42000 [==============================] - 7s 178us/step - loss: 0.0623 - accuracy: 0.9819 - val_loss: 0.5909 - val_accuracy: 0.8487\n",
            "Epoch 73/100\n",
            "42000/42000 [==============================] - 7s 176us/step - loss: 0.0662 - accuracy: 0.9806 - val_loss: 1.1293 - val_accuracy: 0.7457\n",
            "Epoch 74/100\n",
            "42000/42000 [==============================] - 7s 177us/step - loss: 0.0675 - accuracy: 0.9796 - val_loss: 0.9034 - val_accuracy: 0.7980\n",
            "Epoch 75/100\n",
            "42000/42000 [==============================] - 7s 178us/step - loss: 0.0641 - accuracy: 0.9810 - val_loss: 0.7363 - val_accuracy: 0.8234\n",
            "Epoch 76/100\n",
            "42000/42000 [==============================] - 8s 179us/step - loss: 0.0587 - accuracy: 0.9830 - val_loss: 0.6417 - val_accuracy: 0.8363\n",
            "Epoch 77/100\n",
            "42000/42000 [==============================] - 7s 177us/step - loss: 0.0583 - accuracy: 0.9830 - val_loss: 0.6983 - val_accuracy: 0.8359\n",
            "Epoch 78/100\n",
            "42000/42000 [==============================] - 7s 177us/step - loss: 0.0561 - accuracy: 0.9836 - val_loss: 0.5955 - val_accuracy: 0.8497\n",
            "Epoch 79/100\n",
            "42000/42000 [==============================] - 7s 178us/step - loss: 0.0546 - accuracy: 0.9840 - val_loss: 0.9608 - val_accuracy: 0.7859\n",
            "Epoch 80/100\n",
            "42000/42000 [==============================] - 8s 179us/step - loss: 0.0616 - accuracy: 0.9824 - val_loss: 0.6301 - val_accuracy: 0.8435\n",
            "Epoch 81/100\n",
            "42000/42000 [==============================] - 7s 175us/step - loss: 0.0586 - accuracy: 0.9824 - val_loss: 1.2289 - val_accuracy: 0.7616\n",
            "Epoch 82/100\n",
            "42000/42000 [==============================] - 7s 177us/step - loss: 0.0527 - accuracy: 0.9843 - val_loss: 0.5160 - val_accuracy: 0.8706\n",
            "Epoch 83/100\n",
            "42000/42000 [==============================] - 7s 175us/step - loss: 0.0565 - accuracy: 0.9830 - val_loss: 0.8861 - val_accuracy: 0.8109\n",
            "Epoch 84/100\n",
            "42000/42000 [==============================] - 8s 179us/step - loss: 0.0498 - accuracy: 0.9853 - val_loss: 1.0874 - val_accuracy: 0.7818\n",
            "Epoch 85/100\n",
            "42000/42000 [==============================] - 7s 177us/step - loss: 0.0563 - accuracy: 0.9831 - val_loss: 0.7973 - val_accuracy: 0.8145\n",
            "Epoch 86/100\n",
            "42000/42000 [==============================] - 8s 179us/step - loss: 0.0538 - accuracy: 0.9842 - val_loss: 0.5439 - val_accuracy: 0.8636\n",
            "Epoch 87/100\n",
            "42000/42000 [==============================] - 7s 177us/step - loss: 0.0491 - accuracy: 0.9854 - val_loss: 0.7489 - val_accuracy: 0.8123\n",
            "Epoch 88/100\n",
            "42000/42000 [==============================] - 7s 176us/step - loss: 0.0508 - accuracy: 0.9848 - val_loss: 0.6327 - val_accuracy: 0.8486\n",
            "Epoch 89/100\n",
            "42000/42000 [==============================] - 8s 180us/step - loss: 0.0475 - accuracy: 0.9868 - val_loss: 0.6413 - val_accuracy: 0.8406\n",
            "Epoch 90/100\n",
            "42000/42000 [==============================] - 7s 177us/step - loss: 0.0558 - accuracy: 0.9831 - val_loss: 1.0358 - val_accuracy: 0.7875\n",
            "Epoch 91/100\n",
            "42000/42000 [==============================] - 8s 179us/step - loss: 0.0528 - accuracy: 0.9838 - val_loss: 0.6437 - val_accuracy: 0.8408\n",
            "Epoch 92/100\n",
            "42000/42000 [==============================] - 7s 178us/step - loss: 0.0478 - accuracy: 0.9861 - val_loss: 0.6483 - val_accuracy: 0.8535\n",
            "Epoch 93/100\n",
            "42000/42000 [==============================] - 7s 177us/step - loss: 0.0511 - accuracy: 0.9845 - val_loss: 0.7099 - val_accuracy: 0.8461\n",
            "Epoch 94/100\n",
            "42000/42000 [==============================] - 8s 179us/step - loss: 0.0440 - accuracy: 0.9871 - val_loss: 0.7766 - val_accuracy: 0.8265\n",
            "Epoch 95/100\n",
            "42000/42000 [==============================] - 7s 177us/step - loss: 0.0509 - accuracy: 0.9849 - val_loss: 0.7533 - val_accuracy: 0.8180\n",
            "Epoch 96/100\n",
            "42000/42000 [==============================] - 8s 180us/step - loss: 0.0447 - accuracy: 0.9868 - val_loss: 0.8238 - val_accuracy: 0.8170\n",
            "Epoch 97/100\n",
            "42000/42000 [==============================] - 7s 176us/step - loss: 0.0481 - accuracy: 0.9857 - val_loss: 0.7087 - val_accuracy: 0.8335\n",
            "Epoch 98/100\n",
            "42000/42000 [==============================] - 7s 177us/step - loss: 0.0444 - accuracy: 0.9864 - val_loss: 0.7032 - val_accuracy: 0.8426\n",
            "Epoch 99/100\n",
            "42000/42000 [==============================] - 7s 177us/step - loss: 0.0439 - accuracy: 0.9869 - val_loss: 0.7122 - val_accuracy: 0.8321\n",
            "Epoch 100/100\n",
            "42000/42000 [==============================] - 8s 179us/step - loss: 0.0407 - accuracy: 0.9884 - val_loss: 0.9402 - val_accuracy: 0.7992\n"
          ],
          "name": "stdout"
        }
      ]
    },
    {
      "cell_type": "code",
      "metadata": {
        "id": "GPGfI1z4Xytt",
        "colab_type": "code",
        "colab": {
          "base_uri": "https://localhost:8080/",
          "height": 50
        },
        "outputId": "06a0802c-8dea-4dcc-b521-7b2c1d00d749"
      },
      "source": [
        "results_1 = keras_model_1.evaluate(X_val, y_val)\n",
        "print('Val_acc using Batch ANN adam : ', results_1[1])"
      ],
      "execution_count": 112,
      "outputs": [
        {
          "output_type": "stream",
          "text": [
            "60000/60000 [==============================] - 5s 77us/step\n",
            "Val_acc using Batch ANN adam :  0.7992166876792908\n"
          ],
          "name": "stdout"
        }
      ]
    },
    {
      "cell_type": "code",
      "metadata": {
        "id": "Dwu7PJoEX3ZM",
        "colab_type": "code",
        "colab": {
          "base_uri": "https://localhost:8080/",
          "height": 106
        },
        "outputId": "5c7c9243-665d-42e7-bdbe-deeaefd8f6fb"
      },
      "source": [
        "#Store the accuracy results for each model in a dataframe for final comparison\n",
        "tempResultsDf = pd.DataFrame({'Method':['Batch_adam'], 'accuracy': [results_1[1]]},index={'2'})\n",
        "results_on_val= pd.concat([results_on_val, tempResultsDf])\n",
        "results_on_val = results_on_val[['Method', 'accuracy']]\n",
        "results_on_val"
      ],
      "execution_count": 113,
      "outputs": [
        {
          "output_type": "execute_result",
          "data": {
            "text/html": [
              "<div>\n",
              "<style scoped>\n",
              "    .dataframe tbody tr th:only-of-type {\n",
              "        vertical-align: middle;\n",
              "    }\n",
              "\n",
              "    .dataframe tbody tr th {\n",
              "        vertical-align: top;\n",
              "    }\n",
              "\n",
              "    .dataframe thead th {\n",
              "        text-align: right;\n",
              "    }\n",
              "</style>\n",
              "<table border=\"1\" class=\"dataframe\">\n",
              "  <thead>\n",
              "    <tr style=\"text-align: right;\">\n",
              "      <th></th>\n",
              "      <th>Method</th>\n",
              "      <th>accuracy</th>\n",
              "    </tr>\n",
              "  </thead>\n",
              "  <tbody>\n",
              "    <tr>\n",
              "      <th>1</th>\n",
              "      <td>NN</td>\n",
              "      <td>0.911517</td>\n",
              "    </tr>\n",
              "    <tr>\n",
              "      <th>2</th>\n",
              "      <td>Batch_adam</td>\n",
              "      <td>0.799217</td>\n",
              "    </tr>\n",
              "  </tbody>\n",
              "</table>\n",
              "</div>"
            ],
            "text/plain": [
              "       Method  accuracy\n",
              "1          NN  0.911517\n",
              "2  Batch_adam  0.799217"
            ]
          },
          "metadata": {
            "tags": []
          },
          "execution_count": 113
        }
      ]
    },
    {
      "cell_type": "markdown",
      "metadata": {
        "id": "o2r3bYWhX8qE",
        "colab_type": "text"
      },
      "source": [
        "#Implementing (vectorized) backpropagation (cost stochastic gradient descent, cross entropy loss, cost functions)"
      ]
    },
    {
      "cell_type": "code",
      "metadata": {
        "id": "QDk8m2qpX-Wn",
        "colab_type": "code",
        "colab": {}
      },
      "source": [
        "#Initialize the Artificial Neural Network Classifier\n",
        "keras_model_2 = Sequential()"
      ],
      "execution_count": 0,
      "outputs": []
    },
    {
      "cell_type": "code",
      "metadata": {
        "id": "i4u4H_BRYDH2",
        "colab_type": "code",
        "colab": {}
      },
      "source": [
        "# Input Layer\n",
        "#Adding Input layer and activation functions ReLU\n",
        "keras_model_2.add(Dense(512, kernel_initializer='he_normal',input_shape = (1024, )))\n",
        "#Adding BatchNormalization Layer\n",
        "keras_model_2.add(BatchNormalization())\n",
        "#Adding Activation function\n",
        "keras_model_2.add(Activation('relu'))\n",
        "\n",
        "#Hidden Layer 1\n",
        "#Adding first Hidden layer\n",
        "keras_model_2.add(Dense(256, kernel_initializer='he_normal'))\n",
        "#Adding BatchNormalization Layer\n",
        "keras_model_2.add(BatchNormalization())\n",
        "#Adding Activation function\n",
        "keras_model_2.add(Activation('relu'))\n",
        "\n",
        "#Hidden Layer 2\n",
        "#Adding second Hidden layer\n",
        "keras_model_2.add(Dense(128, kernel_initializer='he_normal'))\n",
        "#Adding BatchNormalization Layer\n",
        "keras_model_2.add(BatchNormalization())\n",
        "#Adding Activation function\n",
        "keras_model_2.add(Activation('relu'))\n",
        "\n",
        "#Hidden Layer 3\n",
        "#Adding third Hidden layer\n",
        "keras_model_2.add(Dense(64, kernel_initializer='he_normal'))\n",
        "#Adding BatchNormalization Layer\n",
        "keras_model_2.add(BatchNormalization())\n",
        "#Adding Activation function\n",
        "keras_model_2.add(Activation('relu'))\n",
        "\n",
        "#Hidden Layer 4\n",
        "#Adding fourth Hidden layer\n",
        "keras_model_2.add(Dense(32, kernel_initializer='he_normal'))\n",
        "#Adding BatchNormalization Layer\n",
        "keras_model_2.add(BatchNormalization())\n",
        "#Adding Activation function\n",
        "keras_model_2.add(Activation('relu'))\n",
        "\n",
        "# Output Layer\n",
        "#Adding output layer which is of 10 nodes (digidts)\n",
        "keras_model_2.add(Dense(10))\n",
        "#Adding Activation function\n",
        "# Here, we are using softmax function because we have multiclass classsification\n",
        "keras_model_2.add(Activation('softmax'))"
      ],
      "execution_count": 0,
      "outputs": []
    },
    {
      "cell_type": "code",
      "metadata": {
        "id": "iobntwoLYFzL",
        "colab_type": "code",
        "colab": {
          "base_uri": "https://localhost:8080/",
          "height": 722
        },
        "outputId": "0608d23b-0eca-4b0c-ab35-92fa4d1108c3"
      },
      "source": [
        "keras_model_2.summary()"
      ],
      "execution_count": 116,
      "outputs": [
        {
          "output_type": "stream",
          "text": [
            "Model: \"sequential_13\"\n",
            "_________________________________________________________________\n",
            "Layer (type)                 Output Shape              Param #   \n",
            "=================================================================\n",
            "dense_110 (Dense)            (None, 512)               524800    \n",
            "_________________________________________________________________\n",
            "batch_normalization_6 (Batch (None, 512)               2048      \n",
            "_________________________________________________________________\n",
            "activation_109 (Activation)  (None, 512)               0         \n",
            "_________________________________________________________________\n",
            "dense_111 (Dense)            (None, 256)               131328    \n",
            "_________________________________________________________________\n",
            "batch_normalization_7 (Batch (None, 256)               1024      \n",
            "_________________________________________________________________\n",
            "activation_110 (Activation)  (None, 256)               0         \n",
            "_________________________________________________________________\n",
            "dense_112 (Dense)            (None, 128)               32896     \n",
            "_________________________________________________________________\n",
            "batch_normalization_8 (Batch (None, 128)               512       \n",
            "_________________________________________________________________\n",
            "activation_111 (Activation)  (None, 128)               0         \n",
            "_________________________________________________________________\n",
            "dense_113 (Dense)            (None, 64)                8256      \n",
            "_________________________________________________________________\n",
            "batch_normalization_9 (Batch (None, 64)                256       \n",
            "_________________________________________________________________\n",
            "activation_112 (Activation)  (None, 64)                0         \n",
            "_________________________________________________________________\n",
            "dense_114 (Dense)            (None, 32)                2080      \n",
            "_________________________________________________________________\n",
            "batch_normalization_10 (Batc (None, 32)                128       \n",
            "_________________________________________________________________\n",
            "activation_113 (Activation)  (None, 32)                0         \n",
            "_________________________________________________________________\n",
            "dense_115 (Dense)            (None, 10)                330       \n",
            "_________________________________________________________________\n",
            "activation_114 (Activation)  (None, 10)                0         \n",
            "=================================================================\n",
            "Total params: 703,658\n",
            "Trainable params: 701,674\n",
            "Non-trainable params: 1,984\n",
            "_________________________________________________________________\n"
          ],
          "name": "stdout"
        }
      ]
    },
    {
      "cell_type": "markdown",
      "metadata": {
        "id": "fsa9-3hHYI4f",
        "colab_type": "text"
      },
      "source": [
        "Using SGD optimizer\n",
        "\n",
        "*   -learning rate =0.0001\n",
        "\n"
      ]
    },
    {
      "cell_type": "code",
      "metadata": {
        "id": "50kyxsGVYOhz",
        "colab_type": "code",
        "colab": {}
      },
      "source": [
        "#Setting the learning rate in sgd\n",
        "sgd = optimizers.adam(lr = 0.0001)\n",
        "# compiling the ANN classifier\n",
        "keras_model_2.compile(optimizer = sgd, loss = 'categorical_crossentropy', metrics = ['accuracy'])"
      ],
      "execution_count": 0,
      "outputs": []
    },
    {
      "cell_type": "code",
      "metadata": {
        "id": "Pz9fOpITYRdW",
        "colab_type": "code",
        "colab": {
          "base_uri": "https://localhost:8080/",
          "height": 1000
        },
        "outputId": "9ab0127a-cd92-413d-89f0-c40f13e81972"
      },
      "source": [
        "# Fitting the ANN to the Training data\n",
        "history_2 = keras_model_2.fit(X_train, y_train, validation_data=(X_val,y_val),batch_size = 200, epochs = 100, verbose = 1)"
      ],
      "execution_count": 118,
      "outputs": [
        {
          "output_type": "stream",
          "text": [
            "Train on 42000 samples, validate on 60000 samples\n",
            "Epoch 1/100\n",
            "42000/42000 [==============================] - 8s 194us/step - loss: 2.1646 - accuracy: 0.2439 - val_loss: 2.0961 - val_accuracy: 0.2841\n",
            "Epoch 2/100\n",
            "42000/42000 [==============================] - 7s 178us/step - loss: 1.6303 - accuracy: 0.4935 - val_loss: 1.6604 - val_accuracy: 0.4854\n",
            "Epoch 3/100\n",
            "42000/42000 [==============================] - 8s 181us/step - loss: 1.3243 - accuracy: 0.6255 - val_loss: 1.4054 - val_accuracy: 0.5875\n",
            "Epoch 4/100\n",
            "42000/42000 [==============================] - 8s 180us/step - loss: 1.1222 - accuracy: 0.6898 - val_loss: 1.2041 - val_accuracy: 0.6474\n",
            "Epoch 5/100\n",
            "42000/42000 [==============================] - 8s 181us/step - loss: 0.9779 - accuracy: 0.7279 - val_loss: 1.0982 - val_accuracy: 0.6836\n",
            "Epoch 6/100\n",
            "42000/42000 [==============================] - 8s 181us/step - loss: 0.8686 - accuracy: 0.7560 - val_loss: 1.0727 - val_accuracy: 0.6830\n",
            "Epoch 7/100\n",
            "42000/42000 [==============================] - 7s 178us/step - loss: 0.7853 - accuracy: 0.7774 - val_loss: 1.0107 - val_accuracy: 0.7014\n",
            "Epoch 8/100\n",
            "42000/42000 [==============================] - 8s 182us/step - loss: 0.7138 - accuracy: 0.7939 - val_loss: 0.8813 - val_accuracy: 0.7396\n",
            "Epoch 9/100\n",
            "42000/42000 [==============================] - 8s 184us/step - loss: 0.6618 - accuracy: 0.8081 - val_loss: 0.9029 - val_accuracy: 0.7243\n",
            "Epoch 10/100\n",
            "42000/42000 [==============================] - 8s 182us/step - loss: 0.6092 - accuracy: 0.8237 - val_loss: 0.8676 - val_accuracy: 0.7390\n",
            "Epoch 11/100\n",
            "42000/42000 [==============================] - 8s 181us/step - loss: 0.5729 - accuracy: 0.8313 - val_loss: 0.9152 - val_accuracy: 0.7123\n",
            "Epoch 12/100\n",
            "42000/42000 [==============================] - 8s 179us/step - loss: 0.5317 - accuracy: 0.8433 - val_loss: 0.8249 - val_accuracy: 0.7423\n",
            "Epoch 13/100\n",
            "42000/42000 [==============================] - 7s 178us/step - loss: 0.5017 - accuracy: 0.8504 - val_loss: 0.7969 - val_accuracy: 0.7523\n",
            "Epoch 14/100\n",
            "42000/42000 [==============================] - 7s 178us/step - loss: 0.4675 - accuracy: 0.8620 - val_loss: 0.7175 - val_accuracy: 0.7777\n",
            "Epoch 15/100\n",
            "42000/42000 [==============================] - 8s 179us/step - loss: 0.4397 - accuracy: 0.8698 - val_loss: 0.8530 - val_accuracy: 0.7354\n",
            "Epoch 16/100\n",
            "42000/42000 [==============================] - 8s 180us/step - loss: 0.4140 - accuracy: 0.8793 - val_loss: 0.7659 - val_accuracy: 0.7597\n",
            "Epoch 17/100\n",
            "42000/42000 [==============================] - 7s 178us/step - loss: 0.3916 - accuracy: 0.8853 - val_loss: 0.7438 - val_accuracy: 0.7693\n",
            "Epoch 18/100\n",
            "42000/42000 [==============================] - 7s 178us/step - loss: 0.3703 - accuracy: 0.8915 - val_loss: 0.6549 - val_accuracy: 0.7948\n",
            "Epoch 19/100\n",
            "42000/42000 [==============================] - 8s 180us/step - loss: 0.3493 - accuracy: 0.8985 - val_loss: 0.7269 - val_accuracy: 0.7694\n",
            "Epoch 20/100\n",
            "42000/42000 [==============================] - 8s 180us/step - loss: 0.3322 - accuracy: 0.9030 - val_loss: 0.6251 - val_accuracy: 0.8043\n",
            "Epoch 21/100\n",
            "42000/42000 [==============================] - 7s 179us/step - loss: 0.3107 - accuracy: 0.9090 - val_loss: 0.6372 - val_accuracy: 0.8006\n",
            "Epoch 22/100\n",
            "42000/42000 [==============================] - 8s 181us/step - loss: 0.3010 - accuracy: 0.9124 - val_loss: 0.6561 - val_accuracy: 0.7941\n",
            "Epoch 23/100\n",
            "42000/42000 [==============================] - 8s 179us/step - loss: 0.2874 - accuracy: 0.9174 - val_loss: 0.7074 - val_accuracy: 0.7737\n",
            "Epoch 24/100\n",
            "42000/42000 [==============================] - 8s 183us/step - loss: 0.2753 - accuracy: 0.9199 - val_loss: 0.6257 - val_accuracy: 0.8051\n",
            "Epoch 25/100\n",
            "42000/42000 [==============================] - 8s 185us/step - loss: 0.2557 - accuracy: 0.9262 - val_loss: 0.6308 - val_accuracy: 0.8079\n",
            "Epoch 26/100\n",
            "42000/42000 [==============================] - 8s 180us/step - loss: 0.2452 - accuracy: 0.9303 - val_loss: 0.5760 - val_accuracy: 0.8217\n",
            "Epoch 27/100\n",
            "42000/42000 [==============================] - 7s 178us/step - loss: 0.2367 - accuracy: 0.9316 - val_loss: 0.9295 - val_accuracy: 0.7389\n",
            "Epoch 28/100\n",
            "42000/42000 [==============================] - 8s 179us/step - loss: 0.2255 - accuracy: 0.9358 - val_loss: 0.7058 - val_accuracy: 0.7869\n",
            "Epoch 29/100\n",
            "42000/42000 [==============================] - 7s 178us/step - loss: 0.2110 - accuracy: 0.9396 - val_loss: 0.6063 - val_accuracy: 0.8127\n",
            "Epoch 30/100\n",
            "42000/42000 [==============================] - 8s 181us/step - loss: 0.2013 - accuracy: 0.9441 - val_loss: 0.7295 - val_accuracy: 0.7791\n",
            "Epoch 31/100\n",
            "42000/42000 [==============================] - 7s 178us/step - loss: 0.1960 - accuracy: 0.9439 - val_loss: 0.6428 - val_accuracy: 0.8029\n",
            "Epoch 32/100\n",
            "42000/42000 [==============================] - 8s 179us/step - loss: 0.1905 - accuracy: 0.9453 - val_loss: 0.5492 - val_accuracy: 0.8327\n",
            "Epoch 33/100\n",
            "42000/42000 [==============================] - 8s 180us/step - loss: 0.1763 - accuracy: 0.9503 - val_loss: 0.7827 - val_accuracy: 0.7778\n",
            "Epoch 34/100\n",
            "42000/42000 [==============================] - 8s 179us/step - loss: 0.1739 - accuracy: 0.9499 - val_loss: 0.8308 - val_accuracy: 0.7630\n",
            "Epoch 35/100\n",
            "42000/42000 [==============================] - 8s 179us/step - loss: 0.1715 - accuracy: 0.9511 - val_loss: 0.6550 - val_accuracy: 0.8030\n",
            "Epoch 36/100\n",
            "42000/42000 [==============================] - 7s 177us/step - loss: 0.1527 - accuracy: 0.9565 - val_loss: 0.6275 - val_accuracy: 0.8173\n",
            "Epoch 37/100\n",
            "42000/42000 [==============================] - 7s 177us/step - loss: 0.1589 - accuracy: 0.9548 - val_loss: 0.6399 - val_accuracy: 0.8196\n",
            "Epoch 38/100\n",
            "42000/42000 [==============================] - 8s 180us/step - loss: 0.1554 - accuracy: 0.9551 - val_loss: 0.6496 - val_accuracy: 0.8050\n",
            "Epoch 39/100\n",
            "42000/42000 [==============================] - 8s 180us/step - loss: 0.1394 - accuracy: 0.9609 - val_loss: 0.5602 - val_accuracy: 0.8342\n",
            "Epoch 40/100\n",
            "42000/42000 [==============================] - 8s 180us/step - loss: 0.1336 - accuracy: 0.9618 - val_loss: 0.7522 - val_accuracy: 0.7964\n",
            "Epoch 41/100\n",
            "42000/42000 [==============================] - 8s 179us/step - loss: 0.1327 - accuracy: 0.9629 - val_loss: 0.7439 - val_accuracy: 0.7908\n",
            "Epoch 42/100\n",
            "42000/42000 [==============================] - 8s 181us/step - loss: 0.1336 - accuracy: 0.9615 - val_loss: 0.6503 - val_accuracy: 0.8159\n",
            "Epoch 43/100\n",
            "42000/42000 [==============================] - 7s 178us/step - loss: 0.1275 - accuracy: 0.9636 - val_loss: 0.6456 - val_accuracy: 0.8168\n",
            "Epoch 44/100\n",
            "42000/42000 [==============================] - 7s 177us/step - loss: 0.1206 - accuracy: 0.9657 - val_loss: 0.5498 - val_accuracy: 0.8425\n",
            "Epoch 45/100\n",
            "42000/42000 [==============================] - 7s 178us/step - loss: 0.1161 - accuracy: 0.9664 - val_loss: 0.6827 - val_accuracy: 0.8194\n",
            "Epoch 46/100\n",
            "42000/42000 [==============================] - 7s 177us/step - loss: 0.1177 - accuracy: 0.9650 - val_loss: 0.6668 - val_accuracy: 0.8130\n",
            "Epoch 47/100\n",
            "42000/42000 [==============================] - 7s 177us/step - loss: 0.1089 - accuracy: 0.9685 - val_loss: 0.6207 - val_accuracy: 0.8252\n",
            "Epoch 48/100\n",
            "42000/42000 [==============================] - 7s 177us/step - loss: 0.1057 - accuracy: 0.9697 - val_loss: 0.5525 - val_accuracy: 0.8424\n",
            "Epoch 49/100\n",
            "42000/42000 [==============================] - 7s 178us/step - loss: 0.1031 - accuracy: 0.9702 - val_loss: 0.6572 - val_accuracy: 0.8145\n",
            "Epoch 50/100\n",
            "42000/42000 [==============================] - 8s 181us/step - loss: 0.1016 - accuracy: 0.9703 - val_loss: 0.9040 - val_accuracy: 0.7692\n",
            "Epoch 51/100\n",
            "42000/42000 [==============================] - 8s 179us/step - loss: 0.1024 - accuracy: 0.9705 - val_loss: 0.7214 - val_accuracy: 0.8062\n",
            "Epoch 52/100\n",
            "42000/42000 [==============================] - 7s 178us/step - loss: 0.0965 - accuracy: 0.9720 - val_loss: 0.5568 - val_accuracy: 0.8433\n",
            "Epoch 53/100\n",
            "42000/42000 [==============================] - 7s 176us/step - loss: 0.0904 - accuracy: 0.9745 - val_loss: 0.6412 - val_accuracy: 0.8242\n",
            "Epoch 54/100\n",
            "42000/42000 [==============================] - 8s 181us/step - loss: 0.0919 - accuracy: 0.9737 - val_loss: 0.7436 - val_accuracy: 0.8128\n",
            "Epoch 55/100\n",
            "42000/42000 [==============================] - 7s 178us/step - loss: 0.0893 - accuracy: 0.9737 - val_loss: 0.5636 - val_accuracy: 0.8471\n",
            "Epoch 56/100\n",
            "42000/42000 [==============================] - 8s 179us/step - loss: 0.0871 - accuracy: 0.9753 - val_loss: 0.8223 - val_accuracy: 0.7932\n",
            "Epoch 57/100\n",
            "42000/42000 [==============================] - 7s 178us/step - loss: 0.0881 - accuracy: 0.9749 - val_loss: 0.6623 - val_accuracy: 0.8222\n",
            "Epoch 58/100\n",
            "42000/42000 [==============================] - 7s 178us/step - loss: 0.0886 - accuracy: 0.9737 - val_loss: 0.6389 - val_accuracy: 0.8375\n",
            "Epoch 59/100\n",
            "42000/42000 [==============================] - 7s 176us/step - loss: 0.0768 - accuracy: 0.9784 - val_loss: 0.5825 - val_accuracy: 0.8386\n",
            "Epoch 60/100\n",
            "42000/42000 [==============================] - 7s 177us/step - loss: 0.0770 - accuracy: 0.9782 - val_loss: 0.6515 - val_accuracy: 0.8319\n",
            "Epoch 61/100\n",
            "42000/42000 [==============================] - 8s 201us/step - loss: 0.0766 - accuracy: 0.9778 - val_loss: 0.6065 - val_accuracy: 0.8384\n",
            "Epoch 62/100\n",
            "42000/42000 [==============================] - 10s 241us/step - loss: 0.0807 - accuracy: 0.9772 - val_loss: 0.5713 - val_accuracy: 0.8515\n",
            "Epoch 63/100\n",
            "42000/42000 [==============================] - 7s 178us/step - loss: 0.0802 - accuracy: 0.9760 - val_loss: 0.6960 - val_accuracy: 0.8197\n",
            "Epoch 64/100\n",
            "42000/42000 [==============================] - 7s 177us/step - loss: 0.0674 - accuracy: 0.9811 - val_loss: 0.7334 - val_accuracy: 0.8135\n",
            "Epoch 65/100\n",
            "42000/42000 [==============================] - 8s 182us/step - loss: 0.0694 - accuracy: 0.9790 - val_loss: 0.6781 - val_accuracy: 0.8345\n",
            "Epoch 66/100\n",
            "42000/42000 [==============================] - 8s 184us/step - loss: 0.0727 - accuracy: 0.9781 - val_loss: 0.7872 - val_accuracy: 0.8068\n",
            "Epoch 67/100\n",
            "42000/42000 [==============================] - 8s 179us/step - loss: 0.0663 - accuracy: 0.9812 - val_loss: 0.8297 - val_accuracy: 0.8020\n",
            "Epoch 68/100\n",
            "42000/42000 [==============================] - 7s 178us/step - loss: 0.0696 - accuracy: 0.9795 - val_loss: 0.5473 - val_accuracy: 0.8601\n",
            "Epoch 69/100\n",
            "42000/42000 [==============================] - 7s 178us/step - loss: 0.0709 - accuracy: 0.9795 - val_loss: 0.6566 - val_accuracy: 0.8312\n",
            "Epoch 70/100\n",
            "42000/42000 [==============================] - 7s 178us/step - loss: 0.0640 - accuracy: 0.9820 - val_loss: 0.8784 - val_accuracy: 0.7908\n",
            "Epoch 71/100\n",
            "42000/42000 [==============================] - 8s 180us/step - loss: 0.0731 - accuracy: 0.9779 - val_loss: 0.6946 - val_accuracy: 0.8255\n",
            "Epoch 72/100\n",
            "42000/42000 [==============================] - 7s 179us/step - loss: 0.0656 - accuracy: 0.9807 - val_loss: 0.6262 - val_accuracy: 0.8419\n",
            "Epoch 73/100\n",
            "42000/42000 [==============================] - 8s 179us/step - loss: 0.0620 - accuracy: 0.9811 - val_loss: 0.6540 - val_accuracy: 0.8347\n",
            "Epoch 74/100\n",
            "42000/42000 [==============================] - 8s 179us/step - loss: 0.0618 - accuracy: 0.9820 - val_loss: 0.5566 - val_accuracy: 0.8564\n",
            "Epoch 75/100\n",
            "42000/42000 [==============================] - 7s 176us/step - loss: 0.0546 - accuracy: 0.9841 - val_loss: 0.5837 - val_accuracy: 0.8515\n",
            "Epoch 76/100\n",
            "42000/42000 [==============================] - 8s 180us/step - loss: 0.0584 - accuracy: 0.9832 - val_loss: 0.6461 - val_accuracy: 0.8395\n",
            "Epoch 77/100\n",
            "42000/42000 [==============================] - 8s 179us/step - loss: 0.0533 - accuracy: 0.9847 - val_loss: 0.7169 - val_accuracy: 0.8230\n",
            "Epoch 78/100\n",
            "42000/42000 [==============================] - 7s 178us/step - loss: 0.0571 - accuracy: 0.9838 - val_loss: 0.6593 - val_accuracy: 0.8388\n",
            "Epoch 79/100\n",
            "42000/42000 [==============================] - 7s 177us/step - loss: 0.0513 - accuracy: 0.9850 - val_loss: 0.8107 - val_accuracy: 0.8075\n",
            "Epoch 80/100\n",
            "42000/42000 [==============================] - 8s 179us/step - loss: 0.0593 - accuracy: 0.9824 - val_loss: 0.9622 - val_accuracy: 0.7833\n",
            "Epoch 81/100\n",
            "42000/42000 [==============================] - 8s 179us/step - loss: 0.0617 - accuracy: 0.9811 - val_loss: 0.7319 - val_accuracy: 0.8289\n",
            "Epoch 82/100\n",
            "42000/42000 [==============================] - 7s 178us/step - loss: 0.0535 - accuracy: 0.9843 - val_loss: 0.6685 - val_accuracy: 0.8353\n",
            "Epoch 83/100\n",
            "42000/42000 [==============================] - 7s 178us/step - loss: 0.0516 - accuracy: 0.9851 - val_loss: 0.6402 - val_accuracy: 0.8423\n",
            "Epoch 84/100\n",
            "42000/42000 [==============================] - 8s 181us/step - loss: 0.0526 - accuracy: 0.9844 - val_loss: 0.8825 - val_accuracy: 0.8080\n",
            "Epoch 85/100\n",
            "42000/42000 [==============================] - 7s 179us/step - loss: 0.0521 - accuracy: 0.9842 - val_loss: 0.7022 - val_accuracy: 0.8264\n",
            "Epoch 86/100\n",
            "42000/42000 [==============================] - 8s 181us/step - loss: 0.0490 - accuracy: 0.9853 - val_loss: 0.6245 - val_accuracy: 0.8495\n",
            "Epoch 87/100\n",
            "42000/42000 [==============================] - 8s 179us/step - loss: 0.0546 - accuracy: 0.9836 - val_loss: 0.7513 - val_accuracy: 0.8295\n",
            "Epoch 88/100\n",
            "42000/42000 [==============================] - 8s 180us/step - loss: 0.0479 - accuracy: 0.9856 - val_loss: 0.5296 - val_accuracy: 0.8713\n",
            "Epoch 89/100\n",
            "42000/42000 [==============================] - 8s 180us/step - loss: 0.0462 - accuracy: 0.9864 - val_loss: 0.5795 - val_accuracy: 0.8615\n",
            "Epoch 90/100\n",
            "42000/42000 [==============================] - 8s 181us/step - loss: 0.0495 - accuracy: 0.9850 - val_loss: 0.8615 - val_accuracy: 0.8047\n",
            "Epoch 91/100\n",
            "42000/42000 [==============================] - 7s 178us/step - loss: 0.0463 - accuracy: 0.9864 - val_loss: 0.7393 - val_accuracy: 0.8308\n",
            "Epoch 92/100\n",
            "42000/42000 [==============================] - 8s 179us/step - loss: 0.0517 - accuracy: 0.9843 - val_loss: 0.6852 - val_accuracy: 0.8414\n",
            "Epoch 93/100\n",
            "42000/42000 [==============================] - 8s 179us/step - loss: 0.0460 - accuracy: 0.9862 - val_loss: 0.9244 - val_accuracy: 0.8009\n",
            "Epoch 94/100\n",
            "42000/42000 [==============================] - 7s 178us/step - loss: 0.0404 - accuracy: 0.9886 - val_loss: 0.6229 - val_accuracy: 0.8539\n",
            "Epoch 95/100\n",
            "42000/42000 [==============================] - 8s 179us/step - loss: 0.0505 - accuracy: 0.9848 - val_loss: 0.8273 - val_accuracy: 0.8062\n",
            "Epoch 96/100\n",
            "42000/42000 [==============================] - 7s 178us/step - loss: 0.0432 - accuracy: 0.9875 - val_loss: 0.6797 - val_accuracy: 0.8365\n",
            "Epoch 97/100\n",
            "42000/42000 [==============================] - 8s 181us/step - loss: 0.0381 - accuracy: 0.9892 - val_loss: 0.7519 - val_accuracy: 0.8303\n",
            "Epoch 98/100\n",
            "42000/42000 [==============================] - 8s 181us/step - loss: 0.0459 - accuracy: 0.9863 - val_loss: 0.8975 - val_accuracy: 0.7998\n",
            "Epoch 99/100\n",
            "42000/42000 [==============================] - 8s 179us/step - loss: 0.0455 - accuracy: 0.9856 - val_loss: 0.6770 - val_accuracy: 0.8385\n",
            "Epoch 100/100\n",
            "42000/42000 [==============================] - 8s 180us/step - loss: 0.0376 - accuracy: 0.9894 - val_loss: 0.5128 - val_accuracy: 0.8781\n"
          ],
          "name": "stdout"
        }
      ]
    },
    {
      "cell_type": "code",
      "metadata": {
        "id": "IZZ_UiSibMJw",
        "colab_type": "code",
        "colab": {
          "base_uri": "https://localhost:8080/",
          "height": 50
        },
        "outputId": "b9cf6a5d-0c5a-439e-9cd4-e7b8e2be2dba"
      },
      "source": [
        "results_2 = keras_model_2.evaluate(X_val, y_val)\n",
        "print('Val_acc using BatchNorm sgd : ', results_2[1])"
      ],
      "execution_count": 119,
      "outputs": [
        {
          "output_type": "stream",
          "text": [
            "60000/60000 [==============================] - 4s 75us/step\n",
            "Val_acc using BatchNorm sgd :  0.878083348274231\n"
          ],
          "name": "stdout"
        }
      ]
    },
    {
      "cell_type": "code",
      "metadata": {
        "id": "iSHTKL3QbPE0",
        "colab_type": "code",
        "colab": {
          "base_uri": "https://localhost:8080/",
          "height": 136
        },
        "outputId": "f2622dff-e988-41ea-bfee-3d29b0873d7a"
      },
      "source": [
        "#Store the accuracy results for each model in a dataframe for final comparison\n",
        "tempResultsDf = pd.DataFrame({'Method':['Batch_SGD'], 'accuracy': [results_2[1]]},index={'3'})\n",
        "results_on_val= pd.concat([results_on_val, tempResultsDf])\n",
        "results_on_val = results_on_val[['Method', 'accuracy']]\n",
        "results_on_val"
      ],
      "execution_count": 120,
      "outputs": [
        {
          "output_type": "execute_result",
          "data": {
            "text/html": [
              "<div>\n",
              "<style scoped>\n",
              "    .dataframe tbody tr th:only-of-type {\n",
              "        vertical-align: middle;\n",
              "    }\n",
              "\n",
              "    .dataframe tbody tr th {\n",
              "        vertical-align: top;\n",
              "    }\n",
              "\n",
              "    .dataframe thead th {\n",
              "        text-align: right;\n",
              "    }\n",
              "</style>\n",
              "<table border=\"1\" class=\"dataframe\">\n",
              "  <thead>\n",
              "    <tr style=\"text-align: right;\">\n",
              "      <th></th>\n",
              "      <th>Method</th>\n",
              "      <th>accuracy</th>\n",
              "    </tr>\n",
              "  </thead>\n",
              "  <tbody>\n",
              "    <tr>\n",
              "      <th>1</th>\n",
              "      <td>NN</td>\n",
              "      <td>0.911517</td>\n",
              "    </tr>\n",
              "    <tr>\n",
              "      <th>2</th>\n",
              "      <td>Batch_adam</td>\n",
              "      <td>0.799217</td>\n",
              "    </tr>\n",
              "    <tr>\n",
              "      <th>3</th>\n",
              "      <td>Batch_SGD</td>\n",
              "      <td>0.878083</td>\n",
              "    </tr>\n",
              "  </tbody>\n",
              "</table>\n",
              "</div>"
            ],
            "text/plain": [
              "       Method  accuracy\n",
              "1          NN  0.911517\n",
              "2  Batch_adam  0.799217\n",
              "3   Batch_SGD  0.878083"
            ]
          },
          "metadata": {
            "tags": []
          },
          "execution_count": 120
        }
      ]
    },
    {
      "cell_type": "markdown",
      "metadata": {
        "id": "A2pSBpr4bUbw",
        "colab_type": "text"
      },
      "source": [
        "- The batch normalization using SGD optimizer is giving better results than using adam optimizer."
      ]
    },
    {
      "cell_type": "markdown",
      "metadata": {
        "id": "0gXmb4XXbYu2",
        "colab_type": "text"
      },
      "source": [
        "#Implementing batch normalization and Dropout for training the neural network"
      ]
    },
    {
      "cell_type": "code",
      "metadata": {
        "id": "nxn3WGG_baGF",
        "colab_type": "code",
        "colab": {}
      },
      "source": [
        "##Initialize the Artificial Neural Network Classifier\n",
        "keras_model_3 = Sequential()"
      ],
      "execution_count": 0,
      "outputs": []
    },
    {
      "cell_type": "markdown",
      "metadata": {
        "id": "gyVyqJ1LbeCf",
        "colab_type": "text"
      },
      "source": [
        "#Adding BatchNormalization Layer and Dropout Layer (0.5)"
      ]
    },
    {
      "cell_type": "code",
      "metadata": {
        "id": "v_g-Keu9bf-d",
        "colab_type": "code",
        "colab": {}
      },
      "source": [
        "# Input Layer\n",
        "#Adding Input layer and activation functions ReLU\n",
        "keras_model_3.add(Dense(512, kernel_initializer='he_normal',input_shape = (1024, )))\n",
        "#Adding BatchNormalization Layer\n",
        "keras_model_3.add(BatchNormalization())\n",
        "#Adding Activation function\n",
        "keras_model_3.add(Activation('relu'))\n",
        "#Adding Dropout Layer\n",
        "keras_model_3.add(Dropout(0.5))\n",
        "\n",
        "#Hidden Layer 1\n",
        "#Adding first Hidden layer\n",
        "keras_model_3.add(Dense(256,kernel_initializer='he_normal'))\n",
        "#Adding BatchNormalization Layer\n",
        "keras_model_3.add(BatchNormalization())\n",
        "#Adding Activation function\n",
        "keras_model_3.add(Activation('relu'))\n",
        "#Adding Dropout Layer\n",
        "keras_model_3.add(Dropout(0.5))\n",
        "\n",
        "#Hidden Layer 2\n",
        "#Adding second Hidden layer\n",
        "keras_model_3.add(Dense(128, kernel_initializer='he_normal'))\n",
        "#Adding BatchNormalization Layer\n",
        "keras_model_3.add(BatchNormalization())\n",
        "#Adding Activation function\n",
        "keras_model_3.add(Activation('relu'))\n",
        "#Adding Dropout Layer\n",
        "keras_model_3.add(Dropout(0.5))\n",
        "\n",
        "#Hidden Layer 3\n",
        "#Adding third Hidden layer\n",
        "keras_model_3.add(Dense(64, kernel_initializer='he_normal'))\n",
        "#Adding BatchNormalization Layer\n",
        "keras_model_3.add(BatchNormalization())\n",
        "#Adding Activation function\n",
        "keras_model_3.add(Activation('relu'))\n",
        "#Adding Dropout Layer\n",
        "keras_model_3.add(Dropout(0.5))\n",
        "\n",
        "#Hidden Layer 4\n",
        "#Adding fourth Hidden layer\n",
        "keras_model_3.add(Dense(32, kernel_initializer='he_normal'))\n",
        "#Adding BatchNormalization Layer\n",
        "keras_model_3.add(BatchNormalization())\n",
        "#Adding Activation function\n",
        "keras_model_3.add(Activation('relu'))\n",
        "#Adding Dropout Layer\n",
        "keras_model_3.add(Dropout(0.5))\n",
        "\n",
        "# Output Layer\n",
        "#Adding output layer which is of 10 nodes (digidts)\n",
        "keras_model_3.add(Dense(10))\n",
        "#Adding Activation function\n",
        "# Here, we are using softmax function because we have multiclass classsification\n",
        "keras_model_3.add(Activation('softmax'))"
      ],
      "execution_count": 0,
      "outputs": []
    },
    {
      "cell_type": "code",
      "metadata": {
        "id": "PQj94TfUbjT5",
        "colab_type": "code",
        "colab": {
          "base_uri": "https://localhost:8080/",
          "height": 890
        },
        "outputId": "494fbb04-5cf0-463a-b966-f3dfebfd03b7"
      },
      "source": [
        "keras_model_3.summary()"
      ],
      "execution_count": 123,
      "outputs": [
        {
          "output_type": "stream",
          "text": [
            "Model: \"sequential_14\"\n",
            "_________________________________________________________________\n",
            "Layer (type)                 Output Shape              Param #   \n",
            "=================================================================\n",
            "dense_116 (Dense)            (None, 512)               524800    \n",
            "_________________________________________________________________\n",
            "batch_normalization_11 (Batc (None, 512)               2048      \n",
            "_________________________________________________________________\n",
            "activation_115 (Activation)  (None, 512)               0         \n",
            "_________________________________________________________________\n",
            "dropout_1 (Dropout)          (None, 512)               0         \n",
            "_________________________________________________________________\n",
            "dense_117 (Dense)            (None, 256)               131328    \n",
            "_________________________________________________________________\n",
            "batch_normalization_12 (Batc (None, 256)               1024      \n",
            "_________________________________________________________________\n",
            "activation_116 (Activation)  (None, 256)               0         \n",
            "_________________________________________________________________\n",
            "dropout_2 (Dropout)          (None, 256)               0         \n",
            "_________________________________________________________________\n",
            "dense_118 (Dense)            (None, 128)               32896     \n",
            "_________________________________________________________________\n",
            "batch_normalization_13 (Batc (None, 128)               512       \n",
            "_________________________________________________________________\n",
            "activation_117 (Activation)  (None, 128)               0         \n",
            "_________________________________________________________________\n",
            "dropout_3 (Dropout)          (None, 128)               0         \n",
            "_________________________________________________________________\n",
            "dense_119 (Dense)            (None, 64)                8256      \n",
            "_________________________________________________________________\n",
            "batch_normalization_14 (Batc (None, 64)                256       \n",
            "_________________________________________________________________\n",
            "activation_118 (Activation)  (None, 64)                0         \n",
            "_________________________________________________________________\n",
            "dropout_4 (Dropout)          (None, 64)                0         \n",
            "_________________________________________________________________\n",
            "dense_120 (Dense)            (None, 32)                2080      \n",
            "_________________________________________________________________\n",
            "batch_normalization_15 (Batc (None, 32)                128       \n",
            "_________________________________________________________________\n",
            "activation_119 (Activation)  (None, 32)                0         \n",
            "_________________________________________________________________\n",
            "dropout_5 (Dropout)          (None, 32)                0         \n",
            "_________________________________________________________________\n",
            "dense_121 (Dense)            (None, 10)                330       \n",
            "_________________________________________________________________\n",
            "activation_120 (Activation)  (None, 10)                0         \n",
            "=================================================================\n",
            "Total params: 703,658\n",
            "Trainable params: 701,674\n",
            "Non-trainable params: 1,984\n",
            "_________________________________________________________________\n"
          ],
          "name": "stdout"
        }
      ]
    },
    {
      "cell_type": "markdown",
      "metadata": {
        "id": "bm3-JuRWbm2y",
        "colab_type": "text"
      },
      "source": [
        "Using ADAM optimizer.\n",
        "\n",
        "*   learning rate= 0.0001\n"
      ]
    },
    {
      "cell_type": "code",
      "metadata": {
        "id": "NmTUrfFJbr9n",
        "colab_type": "code",
        "colab": {}
      },
      "source": [
        "#Setting the learning rate in adam\n",
        "adam = optimizers.adam(lr = 0.0001)\n",
        "# compiling the ANN classifier\n",
        "keras_model_3.compile(optimizer = adam, loss = 'categorical_crossentropy', metrics = ['accuracy'])"
      ],
      "execution_count": 0,
      "outputs": []
    },
    {
      "cell_type": "code",
      "metadata": {
        "id": "gf4ysgRVbvXI",
        "colab_type": "code",
        "colab": {
          "base_uri": "https://localhost:8080/",
          "height": 1000
        },
        "outputId": "a62dc9da-9f92-4653-8bfc-0f0fb4a98330"
      },
      "source": [
        "# Fitting the ANN to the Training data\n",
        "history_3 = keras_model_3.fit(X_train, y_train, validation_data=(X_val,y_val),batch_size = 200, epochs = 100, verbose = 1)"
      ],
      "execution_count": 125,
      "outputs": [
        {
          "output_type": "stream",
          "text": [
            "Train on 42000 samples, validate on 60000 samples\n",
            "Epoch 1/100\n",
            "42000/42000 [==============================] - 10s 230us/step - loss: 2.7578 - accuracy: 0.1010 - val_loss: 2.3049 - val_accuracy: 0.1125\n",
            "Epoch 2/100\n",
            "42000/42000 [==============================] - 9s 203us/step - loss: 2.6426 - accuracy: 0.1036 - val_loss: 2.2960 - val_accuracy: 0.1236\n",
            "Epoch 3/100\n",
            "42000/42000 [==============================] - 9s 205us/step - loss: 2.5637 - accuracy: 0.1032 - val_loss: 2.2959 - val_accuracy: 0.1241\n",
            "Epoch 4/100\n",
            "42000/42000 [==============================] - 9s 203us/step - loss: 2.5001 - accuracy: 0.1046 - val_loss: 2.2901 - val_accuracy: 0.1415\n",
            "Epoch 5/100\n",
            "42000/42000 [==============================] - 9s 206us/step - loss: 2.4543 - accuracy: 0.1027 - val_loss: 2.2897 - val_accuracy: 0.1468\n",
            "Epoch 6/100\n",
            "42000/42000 [==============================] - 9s 205us/step - loss: 2.4126 - accuracy: 0.1060 - val_loss: 2.2894 - val_accuracy: 0.1425\n",
            "Epoch 7/100\n",
            "42000/42000 [==============================] - 9s 205us/step - loss: 2.3984 - accuracy: 0.1067 - val_loss: 2.2882 - val_accuracy: 0.1522\n",
            "Epoch 8/100\n",
            "42000/42000 [==============================] - 8s 201us/step - loss: 2.3717 - accuracy: 0.1074 - val_loss: 2.2873 - val_accuracy: 0.1460\n",
            "Epoch 9/100\n",
            "42000/42000 [==============================] - 9s 211us/step - loss: 2.3573 - accuracy: 0.1072 - val_loss: 2.2841 - val_accuracy: 0.1611\n",
            "Epoch 10/100\n",
            "42000/42000 [==============================] - 9s 207us/step - loss: 2.3445 - accuracy: 0.1114 - val_loss: 2.2826 - val_accuracy: 0.1615\n",
            "Epoch 11/100\n",
            "42000/42000 [==============================] - 9s 205us/step - loss: 2.3333 - accuracy: 0.1092 - val_loss: 2.2819 - val_accuracy: 0.1660\n",
            "Epoch 12/100\n",
            "42000/42000 [==============================] - 9s 203us/step - loss: 2.3221 - accuracy: 0.1153 - val_loss: 2.2783 - val_accuracy: 0.1806\n",
            "Epoch 13/100\n",
            "42000/42000 [==============================] - 9s 205us/step - loss: 2.3118 - accuracy: 0.1190 - val_loss: 2.2707 - val_accuracy: 0.1938\n",
            "Epoch 14/100\n",
            "42000/42000 [==============================] - 9s 205us/step - loss: 2.3029 - accuracy: 0.1230 - val_loss: 2.2582 - val_accuracy: 0.2126\n",
            "Epoch 15/100\n",
            "42000/42000 [==============================] - 9s 207us/step - loss: 2.2906 - accuracy: 0.1336 - val_loss: 2.2371 - val_accuracy: 0.2398\n",
            "Epoch 16/100\n",
            "42000/42000 [==============================] - 9s 204us/step - loss: 2.2704 - accuracy: 0.1447 - val_loss: 2.2070 - val_accuracy: 0.2564\n",
            "Epoch 17/100\n",
            "42000/42000 [==============================] - 9s 205us/step - loss: 2.2472 - accuracy: 0.1573 - val_loss: 2.1653 - val_accuracy: 0.2652\n",
            "Epoch 18/100\n",
            "42000/42000 [==============================] - 9s 206us/step - loss: 2.2135 - accuracy: 0.1763 - val_loss: 2.1350 - val_accuracy: 0.2610\n",
            "Epoch 19/100\n",
            "42000/42000 [==============================] - 12s 285us/step - loss: 2.1793 - accuracy: 0.1928 - val_loss: 2.0649 - val_accuracy: 0.2876\n",
            "Epoch 20/100\n",
            "42000/42000 [==============================] - 9s 207us/step - loss: 2.1404 - accuracy: 0.2092 - val_loss: 2.0238 - val_accuracy: 0.2938\n",
            "Epoch 21/100\n",
            "42000/42000 [==============================] - 8s 197us/step - loss: 2.1089 - accuracy: 0.2203 - val_loss: 1.9904 - val_accuracy: 0.2902\n",
            "Epoch 22/100\n",
            "42000/42000 [==============================] - 8s 201us/step - loss: 2.0756 - accuracy: 0.2300 - val_loss: 1.9552 - val_accuracy: 0.2977\n",
            "Epoch 23/100\n",
            "42000/42000 [==============================] - 9s 208us/step - loss: 2.0478 - accuracy: 0.2352 - val_loss: 1.9408 - val_accuracy: 0.2966\n",
            "Epoch 24/100\n",
            "42000/42000 [==============================] - 9s 209us/step - loss: 2.0145 - accuracy: 0.2500 - val_loss: 1.8773 - val_accuracy: 0.3113\n",
            "Epoch 25/100\n",
            "42000/42000 [==============================] - 8s 199us/step - loss: 1.9893 - accuracy: 0.2527 - val_loss: 1.8516 - val_accuracy: 0.3297\n",
            "Epoch 26/100\n",
            "42000/42000 [==============================] - 8s 197us/step - loss: 1.9570 - accuracy: 0.2612 - val_loss: 1.7863 - val_accuracy: 0.3388\n",
            "Epoch 27/100\n",
            "42000/42000 [==============================] - 8s 197us/step - loss: 1.9287 - accuracy: 0.2754 - val_loss: 1.8345 - val_accuracy: 0.3257\n",
            "Epoch 28/100\n",
            "42000/42000 [==============================] - 8s 199us/step - loss: 1.9043 - accuracy: 0.2842 - val_loss: 1.7431 - val_accuracy: 0.3623\n",
            "Epoch 29/100\n",
            "42000/42000 [==============================] - 9s 204us/step - loss: 1.8719 - accuracy: 0.2918 - val_loss: 1.6977 - val_accuracy: 0.3868\n",
            "Epoch 30/100\n",
            "42000/42000 [==============================] - 8s 200us/step - loss: 1.8510 - accuracy: 0.2968 - val_loss: 1.6559 - val_accuracy: 0.4210\n",
            "Epoch 31/100\n",
            "42000/42000 [==============================] - 8s 197us/step - loss: 1.8245 - accuracy: 0.3122 - val_loss: 1.7045 - val_accuracy: 0.3860\n",
            "Epoch 32/100\n",
            "42000/42000 [==============================] - 8s 198us/step - loss: 1.8022 - accuracy: 0.3211 - val_loss: 1.6230 - val_accuracy: 0.4298\n",
            "Epoch 33/100\n",
            "42000/42000 [==============================] - 8s 197us/step - loss: 1.7776 - accuracy: 0.3300 - val_loss: 1.5666 - val_accuracy: 0.4661\n",
            "Epoch 34/100\n",
            "42000/42000 [==============================] - 8s 196us/step - loss: 1.7540 - accuracy: 0.3400 - val_loss: 1.5218 - val_accuracy: 0.4813\n",
            "Epoch 35/100\n",
            "42000/42000 [==============================] - 8s 199us/step - loss: 1.7378 - accuracy: 0.3482 - val_loss: 1.6853 - val_accuracy: 0.4164\n",
            "Epoch 36/100\n",
            "42000/42000 [==============================] - 8s 202us/step - loss: 1.7104 - accuracy: 0.3552 - val_loss: 1.5214 - val_accuracy: 0.4769\n",
            "Epoch 37/100\n",
            "42000/42000 [==============================] - 8s 196us/step - loss: 1.6926 - accuracy: 0.3663 - val_loss: 1.5046 - val_accuracy: 0.5003\n",
            "Epoch 38/100\n",
            "42000/42000 [==============================] - 8s 197us/step - loss: 1.6728 - accuracy: 0.3761 - val_loss: 1.5047 - val_accuracy: 0.4613\n",
            "Epoch 39/100\n",
            "42000/42000 [==============================] - 8s 198us/step - loss: 1.6599 - accuracy: 0.3826 - val_loss: 1.4423 - val_accuracy: 0.5302\n",
            "Epoch 40/100\n",
            "42000/42000 [==============================] - 8s 197us/step - loss: 1.6435 - accuracy: 0.3878 - val_loss: 1.4861 - val_accuracy: 0.5058\n",
            "Epoch 41/100\n",
            "42000/42000 [==============================] - 8s 199us/step - loss: 1.6240 - accuracy: 0.3966 - val_loss: 1.5128 - val_accuracy: 0.4455\n",
            "Epoch 42/100\n",
            "42000/42000 [==============================] - 9s 207us/step - loss: 1.6127 - accuracy: 0.3997 - val_loss: 1.3913 - val_accuracy: 0.5432\n",
            "Epoch 43/100\n",
            "42000/42000 [==============================] - 9s 207us/step - loss: 1.5962 - accuracy: 0.4049 - val_loss: 1.4452 - val_accuracy: 0.5064\n",
            "Epoch 44/100\n",
            "42000/42000 [==============================] - 9s 203us/step - loss: 1.5774 - accuracy: 0.4124 - val_loss: 1.3526 - val_accuracy: 0.5511\n",
            "Epoch 45/100\n",
            "42000/42000 [==============================] - 9s 225us/step - loss: 1.5658 - accuracy: 0.4181 - val_loss: 1.3625 - val_accuracy: 0.5324\n",
            "Epoch 46/100\n",
            "42000/42000 [==============================] - 8s 199us/step - loss: 1.5542 - accuracy: 0.4235 - val_loss: 1.3542 - val_accuracy: 0.5494\n",
            "Epoch 47/100\n",
            "42000/42000 [==============================] - 8s 198us/step - loss: 1.5434 - accuracy: 0.4257 - val_loss: 1.3133 - val_accuracy: 0.5698\n",
            "Epoch 48/100\n",
            "42000/42000 [==============================] - 8s 199us/step - loss: 1.5311 - accuracy: 0.4290 - val_loss: 1.3318 - val_accuracy: 0.5465\n",
            "Epoch 49/100\n",
            "42000/42000 [==============================] - 8s 198us/step - loss: 1.5268 - accuracy: 0.4327 - val_loss: 1.2991 - val_accuracy: 0.5623\n",
            "Epoch 50/100\n",
            "42000/42000 [==============================] - 8s 200us/step - loss: 1.5136 - accuracy: 0.4379 - val_loss: 1.3148 - val_accuracy: 0.5705\n",
            "Epoch 51/100\n",
            "42000/42000 [==============================] - 8s 201us/step - loss: 1.4999 - accuracy: 0.4408 - val_loss: 1.2619 - val_accuracy: 0.5627\n",
            "Epoch 52/100\n",
            "42000/42000 [==============================] - 9s 204us/step - loss: 1.4920 - accuracy: 0.4440 - val_loss: 1.2553 - val_accuracy: 0.5877\n",
            "Epoch 53/100\n",
            "42000/42000 [==============================] - 9s 208us/step - loss: 1.4835 - accuracy: 0.4500 - val_loss: 1.4487 - val_accuracy: 0.4873\n",
            "Epoch 54/100\n",
            "42000/42000 [==============================] - 9s 209us/step - loss: 1.4736 - accuracy: 0.4545 - val_loss: 1.2612 - val_accuracy: 0.5864\n",
            "Epoch 55/100\n",
            "42000/42000 [==============================] - 9s 208us/step - loss: 1.4691 - accuracy: 0.4612 - val_loss: 1.2118 - val_accuracy: 0.6096\n",
            "Epoch 56/100\n",
            "42000/42000 [==============================] - 9s 207us/step - loss: 1.4523 - accuracy: 0.4663 - val_loss: 1.2335 - val_accuracy: 0.5901\n",
            "Epoch 57/100\n",
            "42000/42000 [==============================] - 8s 199us/step - loss: 1.4532 - accuracy: 0.4665 - val_loss: 1.2214 - val_accuracy: 0.5972\n",
            "Epoch 58/100\n",
            "42000/42000 [==============================] - 8s 197us/step - loss: 1.4382 - accuracy: 0.4731 - val_loss: 1.2544 - val_accuracy: 0.5745\n",
            "Epoch 59/100\n",
            "42000/42000 [==============================] - 8s 199us/step - loss: 1.4295 - accuracy: 0.4730 - val_loss: 1.1953 - val_accuracy: 0.6115\n",
            "Epoch 60/100\n",
            "42000/42000 [==============================] - 8s 199us/step - loss: 1.4172 - accuracy: 0.4799 - val_loss: 1.2084 - val_accuracy: 0.5979\n",
            "Epoch 61/100\n",
            "42000/42000 [==============================] - 8s 200us/step - loss: 1.4185 - accuracy: 0.4797 - val_loss: 1.2135 - val_accuracy: 0.5920\n",
            "Epoch 62/100\n",
            "42000/42000 [==============================] - 8s 194us/step - loss: 1.4008 - accuracy: 0.4915 - val_loss: 1.2921 - val_accuracy: 0.5761\n",
            "Epoch 63/100\n",
            "42000/42000 [==============================] - 8s 193us/step - loss: 1.3965 - accuracy: 0.4926 - val_loss: 1.1636 - val_accuracy: 0.6360\n",
            "Epoch 64/100\n",
            "42000/42000 [==============================] - 8s 196us/step - loss: 1.3947 - accuracy: 0.4959 - val_loss: 1.1393 - val_accuracy: 0.6393\n",
            "Epoch 65/100\n",
            "42000/42000 [==============================] - 8s 196us/step - loss: 1.3891 - accuracy: 0.4974 - val_loss: 1.2041 - val_accuracy: 0.6115\n",
            "Epoch 66/100\n",
            "42000/42000 [==============================] - 8s 195us/step - loss: 1.3731 - accuracy: 0.5055 - val_loss: 1.1417 - val_accuracy: 0.6416\n",
            "Epoch 67/100\n",
            "42000/42000 [==============================] - 8s 196us/step - loss: 1.3662 - accuracy: 0.5064 - val_loss: 1.1393 - val_accuracy: 0.6381\n",
            "Epoch 68/100\n",
            "42000/42000 [==============================] - 8s 195us/step - loss: 1.3543 - accuracy: 0.5160 - val_loss: 1.1538 - val_accuracy: 0.6276\n",
            "Epoch 69/100\n",
            "42000/42000 [==============================] - 8s 194us/step - loss: 1.3484 - accuracy: 0.5169 - val_loss: 1.1355 - val_accuracy: 0.6604\n",
            "Epoch 70/100\n",
            "42000/42000 [==============================] - 8s 195us/step - loss: 1.3355 - accuracy: 0.5241 - val_loss: 1.0774 - val_accuracy: 0.6791\n",
            "Epoch 71/100\n",
            "42000/42000 [==============================] - 8s 194us/step - loss: 1.3349 - accuracy: 0.5242 - val_loss: 1.0778 - val_accuracy: 0.6873\n",
            "Epoch 72/100\n",
            "42000/42000 [==============================] - 8s 194us/step - loss: 1.3272 - accuracy: 0.5319 - val_loss: 1.1364 - val_accuracy: 0.6587\n",
            "Epoch 73/100\n",
            "42000/42000 [==============================] - 8s 193us/step - loss: 1.3276 - accuracy: 0.5374 - val_loss: 1.0536 - val_accuracy: 0.7042\n",
            "Epoch 74/100\n",
            "42000/42000 [==============================] - 8s 195us/step - loss: 1.3049 - accuracy: 0.5429 - val_loss: 1.0751 - val_accuracy: 0.6913\n",
            "Epoch 75/100\n",
            "42000/42000 [==============================] - 8s 194us/step - loss: 1.2994 - accuracy: 0.5484 - val_loss: 1.0562 - val_accuracy: 0.6786\n",
            "Epoch 76/100\n",
            "42000/42000 [==============================] - 8s 195us/step - loss: 1.2971 - accuracy: 0.5506 - val_loss: 1.0774 - val_accuracy: 0.6744\n",
            "Epoch 77/100\n",
            "42000/42000 [==============================] - 8s 197us/step - loss: 1.2880 - accuracy: 0.5535 - val_loss: 1.0109 - val_accuracy: 0.7181\n",
            "Epoch 78/100\n",
            "42000/42000 [==============================] - 8s 195us/step - loss: 1.2664 - accuracy: 0.5639 - val_loss: 1.0060 - val_accuracy: 0.7167\n",
            "Epoch 79/100\n",
            "42000/42000 [==============================] - 9s 204us/step - loss: 1.2737 - accuracy: 0.5637 - val_loss: 1.0076 - val_accuracy: 0.7131\n",
            "Epoch 80/100\n",
            "42000/42000 [==============================] - 9s 206us/step - loss: 1.2534 - accuracy: 0.5734 - val_loss: 0.9757 - val_accuracy: 0.7315\n",
            "Epoch 81/100\n",
            "42000/42000 [==============================] - 9s 204us/step - loss: 1.2495 - accuracy: 0.5736 - val_loss: 0.9819 - val_accuracy: 0.7397\n",
            "Epoch 82/100\n",
            "42000/42000 [==============================] - 8s 199us/step - loss: 1.2368 - accuracy: 0.5804 - val_loss: 0.9507 - val_accuracy: 0.7441\n",
            "Epoch 83/100\n",
            "42000/42000 [==============================] - 8s 200us/step - loss: 1.2330 - accuracy: 0.5857 - val_loss: 0.9725 - val_accuracy: 0.7269\n",
            "Epoch 84/100\n",
            "42000/42000 [==============================] - 8s 195us/step - loss: 1.2277 - accuracy: 0.5863 - val_loss: 0.9627 - val_accuracy: 0.7332\n",
            "Epoch 85/100\n",
            "42000/42000 [==============================] - 8s 193us/step - loss: 1.2161 - accuracy: 0.5974 - val_loss: 0.9047 - val_accuracy: 0.7567\n",
            "Epoch 86/100\n",
            "42000/42000 [==============================] - 8s 195us/step - loss: 1.2097 - accuracy: 0.5986 - val_loss: 0.9296 - val_accuracy: 0.7491\n",
            "Epoch 87/100\n",
            "42000/42000 [==============================] - 8s 195us/step - loss: 1.2024 - accuracy: 0.6035 - val_loss: 0.8871 - val_accuracy: 0.7591\n",
            "Epoch 88/100\n",
            "42000/42000 [==============================] - 8s 196us/step - loss: 1.1916 - accuracy: 0.6055 - val_loss: 0.9213 - val_accuracy: 0.7406\n",
            "Epoch 89/100\n",
            "42000/42000 [==============================] - 8s 196us/step - loss: 1.1842 - accuracy: 0.6106 - val_loss: 0.8738 - val_accuracy: 0.7614\n",
            "Epoch 90/100\n",
            "42000/42000 [==============================] - 8s 195us/step - loss: 1.1706 - accuracy: 0.6152 - val_loss: 0.9076 - val_accuracy: 0.7408\n",
            "Epoch 91/100\n",
            "42000/42000 [==============================] - 9s 215us/step - loss: 1.1649 - accuracy: 0.6138 - val_loss: 0.8594 - val_accuracy: 0.7671\n",
            "Epoch 92/100\n",
            "42000/42000 [==============================] - 11s 260us/step - loss: 1.1661 - accuracy: 0.6163 - val_loss: 0.9225 - val_accuracy: 0.7326\n",
            "Epoch 93/100\n",
            "42000/42000 [==============================] - 8s 198us/step - loss: 1.1430 - accuracy: 0.6261 - val_loss: 0.8706 - val_accuracy: 0.7512\n",
            "Epoch 94/100\n",
            "42000/42000 [==============================] - 8s 195us/step - loss: 1.1501 - accuracy: 0.6259 - val_loss: 0.9005 - val_accuracy: 0.7494\n",
            "Epoch 95/100\n",
            "42000/42000 [==============================] - 8s 195us/step - loss: 1.1386 - accuracy: 0.6281 - val_loss: 0.8566 - val_accuracy: 0.7598\n",
            "Epoch 96/100\n",
            "42000/42000 [==============================] - 8s 196us/step - loss: 1.1258 - accuracy: 0.6352 - val_loss: 0.8287 - val_accuracy: 0.7783\n",
            "Epoch 97/100\n",
            "42000/42000 [==============================] - 8s 195us/step - loss: 1.1297 - accuracy: 0.6351 - val_loss: 0.8714 - val_accuracy: 0.7441\n",
            "Epoch 98/100\n",
            "42000/42000 [==============================] - 8s 202us/step - loss: 1.1226 - accuracy: 0.6359 - val_loss: 0.7746 - val_accuracy: 0.7919\n",
            "Epoch 99/100\n",
            "42000/42000 [==============================] - 8s 197us/step - loss: 1.1142 - accuracy: 0.6415 - val_loss: 0.8066 - val_accuracy: 0.7819\n",
            "Epoch 100/100\n",
            "42000/42000 [==============================] - 8s 196us/step - loss: 1.1070 - accuracy: 0.6441 - val_loss: 0.8147 - val_accuracy: 0.7804\n"
          ],
          "name": "stdout"
        }
      ]
    },
    {
      "cell_type": "markdown",
      "metadata": {
        "id": "KUGOKDubfA4i",
        "colab_type": "text"
      },
      "source": [
        "#Testing NN on test data"
      ]
    },
    {
      "cell_type": "code",
      "metadata": {
        "id": "5hSsVGX5fCKP",
        "colab_type": "code",
        "colab": {}
      },
      "source": [
        "##Initialize the Artificial Neural Network Classifier\n",
        "keras_model_final = Sequential()"
      ],
      "execution_count": 0,
      "outputs": []
    },
    {
      "cell_type": "code",
      "metadata": {
        "id": "ow9prT4CfFEI",
        "colab_type": "code",
        "colab": {}
      },
      "source": [
        "# Input Layer\n",
        "#Adding Input layer and activation functions ReLU\n",
        "keras_model_final.add(Dense(512, kernel_initializer='he_normal',input_shape = (1024, )))\n",
        "#Adding BatchNormalization Layer\n",
        "keras_model_final.add(BatchNormalization())\n",
        "#Adding Activation function\n",
        "keras_model_final.add(Activation('relu'))\n",
        "\n",
        "#Hidden Layer 1\n",
        "#Adding first Hidden layer\n",
        "keras_model_final.add(Dense(256, kernel_initializer='he_normal'))\n",
        "#Adding BatchNormalization Layer\n",
        "keras_model_final.add(BatchNormalization())\n",
        "#Adding Activation function\n",
        "keras_model_final.add(Activation('relu'))\n",
        "\n",
        "#Hidden Layer 2\n",
        "#Adding second Hidden layer\n",
        "keras_model_final.add(Dense(128, kernel_initializer='he_normal'))\n",
        "#Adding BatchNormalization Layer\n",
        "keras_model_final.add(BatchNormalization())\n",
        "#Adding Activation function\n",
        "keras_model_final.add(Activation('relu'))\n",
        "\n",
        "#Hidden Layer 3\n",
        "#Adding third Hidden layer\n",
        "keras_model_final.add(Dense(64, kernel_initializer='he_normal'))\n",
        "#Adding BatchNormalization Layer\n",
        "keras_model_final.add(BatchNormalization())\n",
        "#Adding Activation function\n",
        "keras_model_final.add(Activation('relu'))\n",
        "\n",
        "#Hidden Layer 4\n",
        "#Adding fourth Hidden layer\n",
        "keras_model_final.add(Dense(32, kernel_initializer='he_normal'))\n",
        "#Adding BatchNormalization Layer\n",
        "keras_model_final.add(BatchNormalization())\n",
        "#Adding Activation function\n",
        "keras_model_final.add(Activation('relu'))\n",
        "\n",
        "# Output Layer\n",
        "#Adding output layer which is of 10 nodes (digidts)\n",
        "keras_model_final.add(Dense(10))\n",
        "#Adding Activation function\n",
        "# Here, we are using softmax function because we have multiclass classsification\n",
        "keras_model_final.add(Activation('softmax'))"
      ],
      "execution_count": 0,
      "outputs": []
    },
    {
      "cell_type": "code",
      "metadata": {
        "id": "PlX3DB_LfH_5",
        "colab_type": "code",
        "colab": {
          "base_uri": "https://localhost:8080/",
          "height": 722
        },
        "outputId": "fe5b6254-4d74-481c-9e13-849e5aa74fff"
      },
      "source": [
        "keras_model_final.summary()"
      ],
      "execution_count": 128,
      "outputs": [
        {
          "output_type": "stream",
          "text": [
            "Model: \"sequential_15\"\n",
            "_________________________________________________________________\n",
            "Layer (type)                 Output Shape              Param #   \n",
            "=================================================================\n",
            "dense_122 (Dense)            (None, 512)               524800    \n",
            "_________________________________________________________________\n",
            "batch_normalization_16 (Batc (None, 512)               2048      \n",
            "_________________________________________________________________\n",
            "activation_121 (Activation)  (None, 512)               0         \n",
            "_________________________________________________________________\n",
            "dense_123 (Dense)            (None, 256)               131328    \n",
            "_________________________________________________________________\n",
            "batch_normalization_17 (Batc (None, 256)               1024      \n",
            "_________________________________________________________________\n",
            "activation_122 (Activation)  (None, 256)               0         \n",
            "_________________________________________________________________\n",
            "dense_124 (Dense)            (None, 128)               32896     \n",
            "_________________________________________________________________\n",
            "batch_normalization_18 (Batc (None, 128)               512       \n",
            "_________________________________________________________________\n",
            "activation_123 (Activation)  (None, 128)               0         \n",
            "_________________________________________________________________\n",
            "dense_125 (Dense)            (None, 64)                8256      \n",
            "_________________________________________________________________\n",
            "batch_normalization_19 (Batc (None, 64)                256       \n",
            "_________________________________________________________________\n",
            "activation_124 (Activation)  (None, 64)                0         \n",
            "_________________________________________________________________\n",
            "dense_126 (Dense)            (None, 32)                2080      \n",
            "_________________________________________________________________\n",
            "batch_normalization_20 (Batc (None, 32)                128       \n",
            "_________________________________________________________________\n",
            "activation_125 (Activation)  (None, 32)                0         \n",
            "_________________________________________________________________\n",
            "dense_127 (Dense)            (None, 10)                330       \n",
            "_________________________________________________________________\n",
            "activation_126 (Activation)  (None, 10)                0         \n",
            "=================================================================\n",
            "Total params: 703,658\n",
            "Trainable params: 701,674\n",
            "Non-trainable params: 1,984\n",
            "_________________________________________________________________\n"
          ],
          "name": "stdout"
        }
      ]
    },
    {
      "cell_type": "code",
      "metadata": {
        "id": "gkiZ978ifKdA",
        "colab_type": "code",
        "colab": {}
      },
      "source": [
        "#Setting the learning rate in sgd\n",
        "sgd = optimizers.adam(lr = 0.0001)\n",
        "# compiling the ANN classifier\n",
        "keras_model_final.compile(optimizer = sgd, loss = 'categorical_crossentropy', metrics = ['accuracy'])"
      ],
      "execution_count": 0,
      "outputs": []
    },
    {
      "cell_type": "code",
      "metadata": {
        "id": "xVrYOxHmfMdm",
        "colab_type": "code",
        "colab": {
          "base_uri": "https://localhost:8080/",
          "height": 1000
        },
        "outputId": "d26fa037-b8b2-4dca-9817-75c513f41e16"
      },
      "source": [
        "# Fitting the ANN to the Training data\n",
        "history_final = keras_model_final.fit(X_train, y_train, validation_data=(X_test,y_test),batch_size = 200, epochs = 100, verbose = 1)"
      ],
      "execution_count": 130,
      "outputs": [
        {
          "output_type": "stream",
          "text": [
            "Train on 42000 samples, validate on 18000 samples\n",
            "Epoch 1/100\n",
            "42000/42000 [==============================] - 7s 163us/step - loss: 2.1055 - accuracy: 0.2732 - val_loss: 2.0731 - val_accuracy: 0.2792\n",
            "Epoch 2/100\n",
            "42000/42000 [==============================] - 6s 140us/step - loss: 1.5799 - accuracy: 0.5128 - val_loss: 1.6609 - val_accuracy: 0.4673\n",
            "Epoch 3/100\n",
            "42000/42000 [==============================] - 6s 142us/step - loss: 1.2817 - accuracy: 0.6418 - val_loss: 1.3969 - val_accuracy: 0.5772\n",
            "Epoch 4/100\n",
            "42000/42000 [==============================] - 6s 140us/step - loss: 1.0874 - accuracy: 0.7021 - val_loss: 1.1904 - val_accuracy: 0.6543\n",
            "Epoch 5/100\n",
            "42000/42000 [==============================] - 6s 140us/step - loss: 0.9474 - accuracy: 0.7380 - val_loss: 1.2260 - val_accuracy: 0.6240\n",
            "Epoch 6/100\n",
            "42000/42000 [==============================] - 6s 140us/step - loss: 0.8475 - accuracy: 0.7621 - val_loss: 1.1095 - val_accuracy: 0.6582\n",
            "Epoch 7/100\n",
            "42000/42000 [==============================] - 6s 139us/step - loss: 0.7647 - accuracy: 0.7828 - val_loss: 1.0416 - val_accuracy: 0.6828\n",
            "Epoch 8/100\n",
            "42000/42000 [==============================] - 6s 139us/step - loss: 0.6987 - accuracy: 0.8020 - val_loss: 1.0057 - val_accuracy: 0.6937\n",
            "Epoch 9/100\n",
            "42000/42000 [==============================] - 6s 140us/step - loss: 0.6436 - accuracy: 0.8150 - val_loss: 0.9876 - val_accuracy: 0.6935\n",
            "Epoch 10/100\n",
            "42000/42000 [==============================] - 6s 140us/step - loss: 0.5996 - accuracy: 0.8265 - val_loss: 0.9137 - val_accuracy: 0.7178\n",
            "Epoch 11/100\n",
            "42000/42000 [==============================] - 6s 140us/step - loss: 0.5554 - accuracy: 0.8406 - val_loss: 0.9387 - val_accuracy: 0.7041\n",
            "Epoch 12/100\n",
            "42000/42000 [==============================] - 6s 140us/step - loss: 0.5224 - accuracy: 0.8483 - val_loss: 0.9415 - val_accuracy: 0.7096\n",
            "Epoch 13/100\n",
            "42000/42000 [==============================] - 6s 140us/step - loss: 0.4885 - accuracy: 0.8578 - val_loss: 0.8591 - val_accuracy: 0.7349\n",
            "Epoch 14/100\n",
            "42000/42000 [==============================] - 6s 140us/step - loss: 0.4624 - accuracy: 0.8653 - val_loss: 0.9134 - val_accuracy: 0.7127\n",
            "Epoch 15/100\n",
            "42000/42000 [==============================] - 6s 143us/step - loss: 0.4358 - accuracy: 0.8725 - val_loss: 0.9283 - val_accuracy: 0.7111\n",
            "Epoch 16/100\n",
            "42000/42000 [==============================] - 6s 141us/step - loss: 0.4092 - accuracy: 0.8803 - val_loss: 0.8750 - val_accuracy: 0.7226\n",
            "Epoch 17/100\n",
            "42000/42000 [==============================] - 6s 139us/step - loss: 0.3880 - accuracy: 0.8874 - val_loss: 0.9218 - val_accuracy: 0.7164\n",
            "Epoch 18/100\n",
            "42000/42000 [==============================] - 6s 139us/step - loss: 0.3695 - accuracy: 0.8924 - val_loss: 0.9132 - val_accuracy: 0.7244\n",
            "Epoch 19/100\n",
            "42000/42000 [==============================] - 6s 139us/step - loss: 0.3449 - accuracy: 0.8996 - val_loss: 0.8301 - val_accuracy: 0.7419\n",
            "Epoch 20/100\n",
            "42000/42000 [==============================] - 6s 142us/step - loss: 0.3327 - accuracy: 0.9035 - val_loss: 0.9000 - val_accuracy: 0.7241\n",
            "Epoch 21/100\n",
            "42000/42000 [==============================] - 6s 140us/step - loss: 0.3092 - accuracy: 0.9102 - val_loss: 0.8031 - val_accuracy: 0.7552\n",
            "Epoch 22/100\n",
            "42000/42000 [==============================] - 6s 140us/step - loss: 0.2982 - accuracy: 0.9146 - val_loss: 1.0030 - val_accuracy: 0.6955\n",
            "Epoch 23/100\n",
            "42000/42000 [==============================] - 6s 141us/step - loss: 0.2843 - accuracy: 0.9191 - val_loss: 0.8783 - val_accuracy: 0.7378\n",
            "Epoch 24/100\n",
            "42000/42000 [==============================] - 6s 140us/step - loss: 0.2677 - accuracy: 0.9249 - val_loss: 0.9055 - val_accuracy: 0.7275\n",
            "Epoch 25/100\n",
            "42000/42000 [==============================] - 6s 140us/step - loss: 0.2573 - accuracy: 0.9279 - val_loss: 0.9658 - val_accuracy: 0.7293\n",
            "Epoch 26/100\n",
            "42000/42000 [==============================] - 6s 140us/step - loss: 0.2455 - accuracy: 0.9301 - val_loss: 0.9135 - val_accuracy: 0.7367\n",
            "Epoch 27/100\n",
            "42000/42000 [==============================] - 6s 140us/step - loss: 0.2362 - accuracy: 0.9329 - val_loss: 0.9930 - val_accuracy: 0.7263\n",
            "Epoch 28/100\n",
            "42000/42000 [==============================] - 6s 139us/step - loss: 0.2265 - accuracy: 0.9332 - val_loss: 0.9067 - val_accuracy: 0.7395\n",
            "Epoch 29/100\n",
            "42000/42000 [==============================] - 6s 139us/step - loss: 0.2189 - accuracy: 0.9365 - val_loss: 1.2108 - val_accuracy: 0.6767\n",
            "Epoch 30/100\n",
            "42000/42000 [==============================] - 6s 140us/step - loss: 0.2096 - accuracy: 0.9394 - val_loss: 0.9604 - val_accuracy: 0.7344\n",
            "Epoch 31/100\n",
            "42000/42000 [==============================] - 6s 140us/step - loss: 0.2019 - accuracy: 0.9427 - val_loss: 1.0192 - val_accuracy: 0.7124\n",
            "Epoch 32/100\n",
            "42000/42000 [==============================] - 6s 139us/step - loss: 0.1863 - accuracy: 0.9474 - val_loss: 0.9141 - val_accuracy: 0.7466\n",
            "Epoch 33/100\n",
            "42000/42000 [==============================] - 6s 142us/step - loss: 0.1815 - accuracy: 0.9467 - val_loss: 1.0110 - val_accuracy: 0.7276\n",
            "Epoch 34/100\n",
            "42000/42000 [==============================] - 6s 138us/step - loss: 0.1717 - accuracy: 0.9506 - val_loss: 1.0477 - val_accuracy: 0.7223\n",
            "Epoch 35/100\n",
            "42000/42000 [==============================] - 6s 139us/step - loss: 0.1715 - accuracy: 0.9497 - val_loss: 0.9427 - val_accuracy: 0.7434\n",
            "Epoch 36/100\n",
            "42000/42000 [==============================] - 6s 139us/step - loss: 0.1581 - accuracy: 0.9552 - val_loss: 1.2440 - val_accuracy: 0.6833\n",
            "Epoch 37/100\n",
            "42000/42000 [==============================] - 6s 138us/step - loss: 0.1562 - accuracy: 0.9551 - val_loss: 1.0366 - val_accuracy: 0.7196\n",
            "Epoch 38/100\n",
            "42000/42000 [==============================] - 6s 141us/step - loss: 0.1502 - accuracy: 0.9555 - val_loss: 0.8977 - val_accuracy: 0.7582\n",
            "Epoch 39/100\n",
            "42000/42000 [==============================] - 6s 139us/step - loss: 0.1425 - accuracy: 0.9602 - val_loss: 1.0108 - val_accuracy: 0.7394\n",
            "Epoch 40/100\n",
            "42000/42000 [==============================] - 6s 142us/step - loss: 0.1381 - accuracy: 0.9600 - val_loss: 0.9741 - val_accuracy: 0.7443\n",
            "Epoch 41/100\n",
            "42000/42000 [==============================] - 6s 143us/step - loss: 0.1348 - accuracy: 0.9611 - val_loss: 0.9872 - val_accuracy: 0.7448\n",
            "Epoch 42/100\n",
            "42000/42000 [==============================] - 6s 139us/step - loss: 0.1279 - accuracy: 0.9636 - val_loss: 1.0499 - val_accuracy: 0.7341\n",
            "Epoch 43/100\n",
            "42000/42000 [==============================] - 6s 140us/step - loss: 0.1279 - accuracy: 0.9635 - val_loss: 0.9715 - val_accuracy: 0.7444\n",
            "Epoch 44/100\n",
            "42000/42000 [==============================] - 6s 139us/step - loss: 0.1245 - accuracy: 0.9641 - val_loss: 1.1086 - val_accuracy: 0.7202\n",
            "Epoch 45/100\n",
            "42000/42000 [==============================] - 6s 140us/step - loss: 0.1174 - accuracy: 0.9659 - val_loss: 1.0710 - val_accuracy: 0.7343\n",
            "Epoch 46/100\n",
            "42000/42000 [==============================] - 6s 140us/step - loss: 0.1107 - accuracy: 0.9689 - val_loss: 1.0109 - val_accuracy: 0.7441\n",
            "Epoch 47/100\n",
            "42000/42000 [==============================] - 6s 140us/step - loss: 0.1114 - accuracy: 0.9683 - val_loss: 1.2897 - val_accuracy: 0.6978\n",
            "Epoch 48/100\n",
            "42000/42000 [==============================] - 6s 141us/step - loss: 0.1160 - accuracy: 0.9655 - val_loss: 1.1728 - val_accuracy: 0.7183\n",
            "Epoch 49/100\n",
            "42000/42000 [==============================] - 6s 141us/step - loss: 0.1077 - accuracy: 0.9693 - val_loss: 0.9635 - val_accuracy: 0.7574\n",
            "Epoch 50/100\n",
            "42000/42000 [==============================] - 6s 143us/step - loss: 0.0983 - accuracy: 0.9717 - val_loss: 0.9844 - val_accuracy: 0.7573\n",
            "Epoch 51/100\n",
            "42000/42000 [==============================] - 6s 141us/step - loss: 0.0995 - accuracy: 0.9711 - val_loss: 1.1294 - val_accuracy: 0.7393\n",
            "Epoch 52/100\n",
            "42000/42000 [==============================] - 6s 141us/step - loss: 0.0937 - accuracy: 0.9727 - val_loss: 1.2192 - val_accuracy: 0.7131\n",
            "Epoch 53/100\n",
            "42000/42000 [==============================] - 6s 141us/step - loss: 0.0976 - accuracy: 0.9718 - val_loss: 1.0476 - val_accuracy: 0.7495\n",
            "Epoch 54/100\n",
            "42000/42000 [==============================] - 6s 141us/step - loss: 0.0925 - accuracy: 0.9735 - val_loss: 1.1581 - val_accuracy: 0.7336\n",
            "Epoch 55/100\n",
            "42000/42000 [==============================] - 6s 141us/step - loss: 0.0900 - accuracy: 0.9737 - val_loss: 1.1364 - val_accuracy: 0.7344\n",
            "Epoch 56/100\n",
            "42000/42000 [==============================] - 6s 141us/step - loss: 0.0891 - accuracy: 0.9745 - val_loss: 1.1007 - val_accuracy: 0.7401\n",
            "Epoch 57/100\n",
            "42000/42000 [==============================] - 7s 162us/step - loss: 0.0808 - accuracy: 0.9770 - val_loss: 1.0315 - val_accuracy: 0.7530\n",
            "Epoch 58/100\n",
            "42000/42000 [==============================] - 6s 141us/step - loss: 0.0803 - accuracy: 0.9770 - val_loss: 1.1683 - val_accuracy: 0.7292\n",
            "Epoch 59/100\n",
            "42000/42000 [==============================] - 6s 141us/step - loss: 0.0798 - accuracy: 0.9774 - val_loss: 1.1441 - val_accuracy: 0.7333\n",
            "Epoch 60/100\n",
            "42000/42000 [==============================] - 6s 142us/step - loss: 0.0799 - accuracy: 0.9769 - val_loss: 1.0860 - val_accuracy: 0.7481\n",
            "Epoch 61/100\n",
            "42000/42000 [==============================] - 6s 140us/step - loss: 0.0862 - accuracy: 0.9742 - val_loss: 1.3191 - val_accuracy: 0.7091\n",
            "Epoch 62/100\n",
            "42000/42000 [==============================] - 6s 142us/step - loss: 0.0788 - accuracy: 0.9764 - val_loss: 1.3487 - val_accuracy: 0.7164\n",
            "Epoch 63/100\n",
            "42000/42000 [==============================] - 6s 142us/step - loss: 0.0786 - accuracy: 0.9776 - val_loss: 1.2057 - val_accuracy: 0.7384\n",
            "Epoch 64/100\n",
            "42000/42000 [==============================] - 6s 142us/step - loss: 0.0705 - accuracy: 0.9793 - val_loss: 1.1108 - val_accuracy: 0.7446\n",
            "Epoch 65/100\n",
            "42000/42000 [==============================] - 6s 140us/step - loss: 0.0669 - accuracy: 0.9810 - val_loss: 1.2742 - val_accuracy: 0.7358\n",
            "Epoch 66/100\n",
            "42000/42000 [==============================] - 6s 143us/step - loss: 0.0713 - accuracy: 0.9790 - val_loss: 1.1595 - val_accuracy: 0.7372\n",
            "Epoch 67/100\n",
            "42000/42000 [==============================] - 6s 148us/step - loss: 0.0692 - accuracy: 0.9793 - val_loss: 1.1410 - val_accuracy: 0.7400\n",
            "Epoch 68/100\n",
            "42000/42000 [==============================] - 6s 146us/step - loss: 0.0667 - accuracy: 0.9800 - val_loss: 1.0369 - val_accuracy: 0.7664\n",
            "Epoch 69/100\n",
            "42000/42000 [==============================] - 6s 143us/step - loss: 0.0602 - accuracy: 0.9834 - val_loss: 1.4207 - val_accuracy: 0.6934\n",
            "Epoch 70/100\n",
            "42000/42000 [==============================] - 6s 140us/step - loss: 0.0686 - accuracy: 0.9801 - val_loss: 1.3344 - val_accuracy: 0.7147\n",
            "Epoch 71/100\n",
            "42000/42000 [==============================] - 6s 141us/step - loss: 0.0700 - accuracy: 0.9795 - val_loss: 1.2475 - val_accuracy: 0.7277\n",
            "Epoch 72/100\n",
            "42000/42000 [==============================] - 6s 141us/step - loss: 0.0662 - accuracy: 0.9805 - val_loss: 1.2873 - val_accuracy: 0.7317\n",
            "Epoch 73/100\n",
            "42000/42000 [==============================] - 6s 139us/step - loss: 0.0593 - accuracy: 0.9830 - val_loss: 1.1679 - val_accuracy: 0.7469\n",
            "Epoch 74/100\n",
            "42000/42000 [==============================] - 6s 141us/step - loss: 0.0591 - accuracy: 0.9822 - val_loss: 1.2982 - val_accuracy: 0.7164\n",
            "Epoch 75/100\n",
            "42000/42000 [==============================] - 6s 141us/step - loss: 0.0638 - accuracy: 0.9812 - val_loss: 1.2833 - val_accuracy: 0.7283\n",
            "Epoch 76/100\n",
            "42000/42000 [==============================] - 6s 142us/step - loss: 0.0620 - accuracy: 0.9816 - val_loss: 1.1917 - val_accuracy: 0.7394\n",
            "Epoch 77/100\n",
            "42000/42000 [==============================] - 6s 141us/step - loss: 0.0564 - accuracy: 0.9830 - val_loss: 1.1901 - val_accuracy: 0.7460\n",
            "Epoch 78/100\n",
            "42000/42000 [==============================] - 6s 142us/step - loss: 0.0539 - accuracy: 0.9843 - val_loss: 1.3189 - val_accuracy: 0.7329\n",
            "Epoch 79/100\n",
            "42000/42000 [==============================] - 6s 141us/step - loss: 0.0581 - accuracy: 0.9822 - val_loss: 1.4432 - val_accuracy: 0.7132\n",
            "Epoch 80/100\n",
            "42000/42000 [==============================] - 6s 151us/step - loss: 0.0568 - accuracy: 0.9836 - val_loss: 1.1453 - val_accuracy: 0.7559\n",
            "Epoch 81/100\n",
            "42000/42000 [==============================] - 10s 235us/step - loss: 0.0533 - accuracy: 0.9843 - val_loss: 1.1900 - val_accuracy: 0.7409\n",
            "Epoch 82/100\n",
            "42000/42000 [==============================] - 6s 142us/step - loss: 0.0571 - accuracy: 0.9831 - val_loss: 1.6056 - val_accuracy: 0.6968\n",
            "Epoch 83/100\n",
            "42000/42000 [==============================] - 6s 145us/step - loss: 0.0595 - accuracy: 0.9820 - val_loss: 1.3171 - val_accuracy: 0.7410\n",
            "Epoch 84/100\n",
            "42000/42000 [==============================] - 6s 143us/step - loss: 0.0494 - accuracy: 0.9850 - val_loss: 1.2354 - val_accuracy: 0.7542\n",
            "Epoch 85/100\n",
            "42000/42000 [==============================] - 6s 144us/step - loss: 0.0506 - accuracy: 0.9852 - val_loss: 1.1270 - val_accuracy: 0.7644\n",
            "Epoch 86/100\n",
            "42000/42000 [==============================] - 6s 146us/step - loss: 0.0569 - accuracy: 0.9819 - val_loss: 1.5381 - val_accuracy: 0.6878\n",
            "Epoch 87/100\n",
            "42000/42000 [==============================] - 6s 144us/step - loss: 0.0499 - accuracy: 0.9843 - val_loss: 1.1527 - val_accuracy: 0.7629\n",
            "Epoch 88/100\n",
            "42000/42000 [==============================] - 6s 145us/step - loss: 0.0423 - accuracy: 0.9875 - val_loss: 1.2078 - val_accuracy: 0.7420\n",
            "Epoch 89/100\n",
            "42000/42000 [==============================] - 6s 145us/step - loss: 0.0541 - accuracy: 0.9836 - val_loss: 1.3290 - val_accuracy: 0.7271\n",
            "Epoch 90/100\n",
            "42000/42000 [==============================] - 6s 144us/step - loss: 0.0464 - accuracy: 0.9863 - val_loss: 1.4147 - val_accuracy: 0.7138\n",
            "Epoch 91/100\n",
            "42000/42000 [==============================] - 6s 147us/step - loss: 0.0624 - accuracy: 0.9802 - val_loss: 1.2143 - val_accuracy: 0.7541\n",
            "Epoch 92/100\n",
            "42000/42000 [==============================] - 6s 150us/step - loss: 0.0451 - accuracy: 0.9869 - val_loss: 1.2120 - val_accuracy: 0.7597\n",
            "Epoch 93/100\n",
            "42000/42000 [==============================] - 6s 145us/step - loss: 0.0508 - accuracy: 0.9840 - val_loss: 1.2441 - val_accuracy: 0.7462\n",
            "Epoch 94/100\n",
            "42000/42000 [==============================] - 6s 143us/step - loss: 0.0407 - accuracy: 0.9878 - val_loss: 1.2808 - val_accuracy: 0.7402\n",
            "Epoch 95/100\n",
            "42000/42000 [==============================] - 6s 143us/step - loss: 0.0382 - accuracy: 0.9891 - val_loss: 1.1894 - val_accuracy: 0.7548\n",
            "Epoch 96/100\n",
            "42000/42000 [==============================] - 6s 142us/step - loss: 0.0530 - accuracy: 0.9835 - val_loss: 1.6002 - val_accuracy: 0.6947\n",
            "Epoch 97/100\n",
            "42000/42000 [==============================] - 6s 143us/step - loss: 0.0461 - accuracy: 0.9864 - val_loss: 1.2273 - val_accuracy: 0.7480\n",
            "Epoch 98/100\n",
            "42000/42000 [==============================] - 6s 142us/step - loss: 0.0421 - accuracy: 0.9872 - val_loss: 1.3007 - val_accuracy: 0.7446\n",
            "Epoch 99/100\n",
            "42000/42000 [==============================] - 6s 139us/step - loss: 0.0400 - accuracy: 0.9879 - val_loss: 1.1333 - val_accuracy: 0.7726\n",
            "Epoch 100/100\n",
            "42000/42000 [==============================] - 6s 142us/step - loss: 0.0480 - accuracy: 0.9857 - val_loss: 1.4515 - val_accuracy: 0.7275\n"
          ],
          "name": "stdout"
        }
      ]
    },
    {
      "cell_type": "code",
      "metadata": {
        "id": "LHjcQmjWhouW",
        "colab_type": "code",
        "colab": {
          "base_uri": "https://localhost:8080/",
          "height": 50
        },
        "outputId": "7c46d451-f773-4b8a-b392-ccc7a2f4beb3"
      },
      "source": [
        "results_final = keras_model_final.evaluate(X_test, y_test)\n",
        "print('Test accuracy result : ', results_final[1])"
      ],
      "execution_count": 131,
      "outputs": [
        {
          "output_type": "stream",
          "text": [
            "18000/18000 [==============================] - 1s 73us/step\n",
            "Test accuracy result :  0.7275000214576721\n"
          ],
          "name": "stdout"
        }
      ]
    },
    {
      "cell_type": "markdown",
      "metadata": {
        "id": "KAIhGQnnhs6s",
        "colab_type": "text"
      },
      "source": [
        "#Predicting the digits using NN classifier on test data\n",
        "\n",
        "*   Image 1\n",
        "\n"
      ]
    },
    {
      "cell_type": "code",
      "metadata": {
        "id": "9OORdkOQh2Io",
        "colab_type": "code",
        "colab": {
          "base_uri": "https://localhost:8080/",
          "height": 283
        },
        "outputId": "7a2996da-772d-4082-fbb3-72852398736f"
      },
      "source": [
        "#Showing the image\n",
        "plt.imshow(X_test[5].reshape(32,32),cmap='gray')"
      ],
      "execution_count": 132,
      "outputs": [
        {
          "output_type": "execute_result",
          "data": {
            "text/plain": [
              "<matplotlib.image.AxesImage at 0x7f60c918ff98>"
            ]
          },
          "metadata": {
            "tags": []
          },
          "execution_count": 132
        },
        {
          "output_type": "display_data",
          "data": {
            "image/png": "[encoded data removed]",
            "text/plain": [
              "<Figure size 432x288 with 1 Axes>"
            ]
          },
          "metadata": {
            "tags": [],
            "needs_background": "light"
          }
        }
      ]
    },
    {
      "cell_type": "code",
      "metadata": {
        "id": "S_85uCsOh7XH",
        "colab_type": "code",
        "colab": {
          "base_uri": "https://localhost:8080/",
          "height": 34
        },
        "outputId": "76307e88-8d09-4fae-af42-ceb97ad003fa"
      },
      "source": [
        "#Predicting the digits\n",
        "keras_model_final.predict_classes(X_test)[5]"
      ],
      "execution_count": 133,
      "outputs": [
        {
          "output_type": "execute_result",
          "data": {
            "text/plain": [
              "9"
            ]
          },
          "metadata": {
            "tags": []
          },
          "execution_count": 133
        }
      ]
    },
    {
      "cell_type": "code",
      "metadata": {
        "id": "WbFmU1A1h_jD",
        "colab_type": "code",
        "colab": {
          "base_uri": "https://localhost:8080/",
          "height": 50
        },
        "outputId": "82934c16-3a8a-4e27-8ece-2d5df4f7fe41"
      },
      "source": [
        "results_3 = keras_model_3.evaluate(X_val, y_val)\n",
        "print('Val_acc using BatchNorm and Dropout adam : ', results_3[1])"
      ],
      "execution_count": 134,
      "outputs": [
        {
          "output_type": "stream",
          "text": [
            "60000/60000 [==============================] - 5s 78us/step\n",
            "Val_acc using BatchNorm and Dropout adam :  0.7804499864578247\n"
          ],
          "name": "stdout"
        }
      ]
    },
    {
      "cell_type": "code",
      "metadata": {
        "id": "EjeEFVM-iC7O",
        "colab_type": "code",
        "colab": {
          "base_uri": "https://localhost:8080/",
          "height": 166
        },
        "outputId": "28ef9db0-f5d6-46e2-8cef-493600d4d97d"
      },
      "source": [
        "#Store the accuracy results for each model in a dataframe for final comparison\n",
        "tempResultsDf = pd.DataFrame({'Method':['Batch_Drop_adam'], 'accuracy': [results_3[1]]},index={'4'})\n",
        "results_on_val= pd.concat([results_on_val, tempResultsDf])\n",
        "results_on_val = results_on_val[['Method', 'accuracy']]\n",
        "results_on_val"
      ],
      "execution_count": 135,
      "outputs": [
        {
          "output_type": "execute_result",
          "data": {
            "text/html": [
              "<div>\n",
              "<style scoped>\n",
              "    .dataframe tbody tr th:only-of-type {\n",
              "        vertical-align: middle;\n",
              "    }\n",
              "\n",
              "    .dataframe tbody tr th {\n",
              "        vertical-align: top;\n",
              "    }\n",
              "\n",
              "    .dataframe thead th {\n",
              "        text-align: right;\n",
              "    }\n",
              "</style>\n",
              "<table border=\"1\" class=\"dataframe\">\n",
              "  <thead>\n",
              "    <tr style=\"text-align: right;\">\n",
              "      <th></th>\n",
              "      <th>Method</th>\n",
              "      <th>accuracy</th>\n",
              "    </tr>\n",
              "  </thead>\n",
              "  <tbody>\n",
              "    <tr>\n",
              "      <th>1</th>\n",
              "      <td>NN</td>\n",
              "      <td>0.911517</td>\n",
              "    </tr>\n",
              "    <tr>\n",
              "      <th>2</th>\n",
              "      <td>Batch_adam</td>\n",
              "      <td>0.799217</td>\n",
              "    </tr>\n",
              "    <tr>\n",
              "      <th>3</th>\n",
              "      <td>Batch_SGD</td>\n",
              "      <td>0.878083</td>\n",
              "    </tr>\n",
              "    <tr>\n",
              "      <th>4</th>\n",
              "      <td>Batch_Drop_adam</td>\n",
              "      <td>0.780450</td>\n",
              "    </tr>\n",
              "  </tbody>\n",
              "</table>\n",
              "</div>"
            ],
            "text/plain": [
              "            Method  accuracy\n",
              "1               NN  0.911517\n",
              "2       Batch_adam  0.799217\n",
              "3        Batch_SGD  0.878083\n",
              "4  Batch_Drop_adam  0.780450"
            ]
          },
          "metadata": {
            "tags": []
          },
          "execution_count": 135
        }
      ]
    },
    {
      "cell_type": "markdown",
      "metadata": {
        "id": "A_XNqUggiJio",
        "colab_type": "text"
      },
      "source": [
        "*   Image 2\n",
        "\n"
      ]
    },
    {
      "cell_type": "code",
      "metadata": {
        "id": "zA7Oh_rmiNdB",
        "colab_type": "code",
        "colab": {
          "base_uri": "https://localhost:8080/",
          "height": 283
        },
        "outputId": "80de01eb-a824-445a-ef2b-884987de7f48"
      },
      "source": [
        "#Showing the image\n",
        "plt.imshow(X_test[10].reshape(32,32),cmap='gray')"
      ],
      "execution_count": 136,
      "outputs": [
        {
          "output_type": "execute_result",
          "data": {
            "text/plain": [
              "<matplotlib.image.AxesImage at 0x7f60c8d89320>"
            ]
          },
          "metadata": {
            "tags": []
          },
          "execution_count": 136
        },
        {
          "output_type": "display_data",
          "data": {
            "image/png": "[encoded data removed]",
            "text/plain": [
              "<Figure size 432x288 with 1 Axes>"
            ]
          },
          "metadata": {
            "tags": [],
            "needs_background": "light"
          }
        }
      ]
    },
    {
      "cell_type": "code",
      "metadata": {
        "id": "6CwNuYhRiRBZ",
        "colab_type": "code",
        "colab": {
          "base_uri": "https://localhost:8080/",
          "height": 34
        },
        "outputId": "7a807e35-2f78-426a-a7a2-8d769b357d29"
      },
      "source": [
        "#Predicting the digits\n",
        "keras_model_final.predict_classes(X_test)[10]"
      ],
      "execution_count": 137,
      "outputs": [
        {
          "output_type": "execute_result",
          "data": {
            "text/plain": [
              "8"
            ]
          },
          "metadata": {
            "tags": []
          },
          "execution_count": 137
        }
      ]
    },
    {
      "cell_type": "markdown",
      "metadata": {
        "id": "vMAx9cNXiThV",
        "colab_type": "text"
      },
      "source": [
        "- Image 3"
      ]
    },
    {
      "cell_type": "code",
      "metadata": {
        "id": "-x6juocOiVGh",
        "colab_type": "code",
        "colab": {
          "base_uri": "https://localhost:8080/",
          "height": 283
        },
        "outputId": "bd2db3f7-b272-45ad-bae1-bd77d6345691"
      },
      "source": [
        "#Showing the image\n",
        "plt.imshow(X_test[112].reshape(32,32),cmap='gray')"
      ],
      "execution_count": 138,
      "outputs": [
        {
          "output_type": "execute_result",
          "data": {
            "text/plain": [
              "<matplotlib.image.AxesImage at 0x7f60c8d6e048>"
            ]
          },
          "metadata": {
            "tags": []
          },
          "execution_count": 138
        },
        {
          "output_type": "display_data",
          "data": {
            "image/png": "[encoded data removed]",
            "text/plain": [
              "<Figure size 432x288 with 1 Axes>"
            ]
          },
          "metadata": {
            "tags": [],
            "needs_background": "light"
          }
        }
      ]
    },
    {
      "cell_type": "code",
      "metadata": {
        "id": "tFwwbOrBiami",
        "colab_type": "code",
        "colab": {
          "base_uri": "https://localhost:8080/",
          "height": 34
        },
        "outputId": "7a0b137e-5707-4c3e-acd6-566ee78021d5"
      },
      "source": [
        "#Predicting the digits\n",
        "keras_model_final.predict_classes(X_test)[112]"
      ],
      "execution_count": 139,
      "outputs": [
        {
          "output_type": "execute_result",
          "data": {
            "text/plain": [
              "9"
            ]
          },
          "metadata": {
            "tags": []
          },
          "execution_count": 139
        }
      ]
    },
    {
      "cell_type": "code",
      "metadata": {
        "id": "uY_6zEVpid5W",
        "colab_type": "code",
        "colab": {
          "base_uri": "https://localhost:8080/",
          "height": 34
        },
        "outputId": "36778b99-3024-4fc7-897f-782d6df54cd8"
      },
      "source": [
        "#Predicting for all images\n",
        "y_pred=keras_model_final.predict_classes(X_test)\n",
        "print(y_pred)"
      ],
      "execution_count": 140,
      "outputs": [
        {
          "output_type": "stream",
          "text": [
            "[0 7 2 ... 7 9 2]\n"
          ],
          "name": "stdout"
        }
      ]
    },
    {
      "cell_type": "markdown",
      "metadata": {
        "id": "HaD_biu_ig16",
        "colab_type": "text"
      },
      "source": [
        "#Differences and trade-offs between traditional KNN and NN classifiers with the help of classification metrics \n",
        "\n",
        "*   The normal NN gave an accuracy of around 91% and then with Hyper Parameter Tuning , we observed that the accuracy score started to reduce.\n",
        "*   Using NN with BatchNormalization we got around 78% accuracy. We have predicted the classification of the images correctly."
      ]
    }
  ]
}
